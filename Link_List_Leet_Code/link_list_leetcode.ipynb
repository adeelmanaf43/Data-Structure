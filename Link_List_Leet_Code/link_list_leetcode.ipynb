{
 "cells": [
  {
   "cell_type": "markdown",
   "metadata": {},
   "source": [
    "### Leet Code Link List Problems"
   ]
  },
  {
   "cell_type": "markdown",
   "metadata": {},
   "source": [
    "### Link List Creation"
   ]
  },
  {
   "cell_type": "code",
   "execution_count": 1,
   "metadata": {},
   "outputs": [],
   "source": [
    "#class for creating a single node\n",
    "class ListNode:\n",
    "    def __init__(self, val):\n",
    "        self.val = val\n",
    "        self.next = None"
   ]
  },
  {
   "cell_type": "code",
   "execution_count": 2,
   "metadata": {},
   "outputs": [],
   "source": [
    "#function for creating link list\n",
    "def create_ll(values):\n",
    "    head = None\n",
    "    tail = None\n",
    "    for val in values:\n",
    "        newNode = ListNode(val)\n",
    "        if head is None:\n",
    "            head = newNode\n",
    "            tail = newNode\n",
    "        else:\n",
    "            tail.next = newNode\n",
    "            tail = newNode\n",
    "    return head\n",
    "my_list = create_ll([1,2,3,3,4,4,5])"
   ]
  },
  {
   "cell_type": "code",
   "execution_count": 3,
   "metadata": {},
   "outputs": [
    {
     "name": "stdout",
     "output_type": "stream",
     "text": [
      "1 -> 2 -> 3 -> 3 -> 4 -> 4 -> 5 -> "
     ]
    }
   ],
   "source": [
    "#function for printing link list\n",
    "def print_ll(head):\n",
    "    if head is None:\n",
    "        return \n",
    "    print(head.val, end = \" -> \")\n",
    "    print_ll(head.next)\n",
    "print_ll(my_list)"
   ]
  },
  {
   "cell_type": "markdown",
   "metadata": {},
   "source": [
    "##### Add Two Numbers"
   ]
  },
  {
   "cell_type": "code",
   "execution_count": 10,
   "metadata": {},
   "outputs": [
    {
     "name": "stdout",
     "output_type": "stream",
     "text": [
      "8\n",
      "9\n",
      "9\n",
      "9\n",
      "0\n",
      "0\n",
      "0\n",
      "1\n"
     ]
    }
   ],
   "source": [
    "def add_two_numbers(l1, l2):\n",
    "    dummy = ListNode(0)  # Dummy node to simplify the code\n",
    "    newTail = dummy\n",
    "    carry = 0\n",
    "\n",
    "    while l1 or l2 or carry:\n",
    "        # Get values from the current nodes\n",
    "        val1 = l1.val if l1 else 0\n",
    "        val2 = l2.val if l2 else 0\n",
    "\n",
    "        # Calculate sum and carry\n",
    "        tot = val1 + val2 + carry\n",
    "        digit = tot % 10\n",
    "        carry = tot // 10\n",
    "\n",
    "        # Create a new node and append it to the result list\n",
    "        newTail.next = ListNode(digit)\n",
    "        newTail = newTail.next\n",
    "\n",
    "        # Move to the next nodes\n",
    "        if l1:\n",
    "            l1 = l1.next\n",
    "        if l2:\n",
    "            l2 = l2.next\n",
    "\n",
    "    return dummy.next  # Skip the dummy node\n",
    "l1 = create_ll([9,9,9,9,9,9,9,-1])\n",
    "l2 = create_ll([9,9,9,9,-1])\n",
    "my_l = add_two_numbers(l1, l2)\n",
    "print_ll(my_l)  "
   ]
  },
  {
   "cell_type": "code",
   "execution_count": 11,
   "metadata": {},
   "outputs": [
    {
     "name": "stdout",
     "output_type": "stream",
     "text": [
      "8\n",
      "9\n",
      "9\n",
      "9\n",
      "0\n",
      "0\n",
      "0\n",
      "1\n"
     ]
    }
   ],
   "source": [
    "l1 = create_ll([9,9,9,9,9,9,9,-1])\n",
    "l2 = create_ll([9,9,9,9,-1])\n",
    "def add_two_numbers(l1, l2):\n",
    "    newHead = None\n",
    "    newTail = None\n",
    "    carry = 0\n",
    "    while l1 and l2:\n",
    "        tot = l1.val + l2.val + carry\n",
    "        digit = tot%10\n",
    "        carry = tot//10\n",
    "        newNode = ListNode(digit)\n",
    "        if not newHead:\n",
    "            newHead = newNode\n",
    "            newTail = newNode\n",
    "        else:\n",
    "            newTail.next = newNode\n",
    "            newTail = newNode\n",
    "        l1 = l1.next\n",
    "        l2 = l2.next\n",
    "    if l1 is not None:\n",
    "        while l1:\n",
    "            tot = l1.val + carry\n",
    "            digit = tot%10\n",
    "            carry = tot//10\n",
    "            newNode = ListNode(digit)\n",
    "            newTail.next = newNode\n",
    "            newTail = newNode\n",
    "            l1 = l1.next\n",
    "    if l2 is not None:\n",
    "        while l2:\n",
    "            tot = l2.val + carry\n",
    "            digit = tot%10\n",
    "            carry = tot//10\n",
    "            newNode = ListNode(digit)\n",
    "            newTail.next = newNode\n",
    "            newTail = newNode\n",
    "            l2 = l2.next\n",
    "    if carry:\n",
    "        newTail.next = ListNode(1)\n",
    "        \n",
    "    return newHead\n",
    "my_l = add_two_numbers(l1, l2)\n",
    "print_ll(my_l)           "
   ]
  },
  {
   "cell_type": "code",
   "execution_count": 12,
   "metadata": {},
   "outputs": [
    {
     "data": {
      "text/plain": [
       "0"
      ]
     },
     "execution_count": 12,
     "metadata": {},
     "output_type": "execute_result"
    }
   ],
   "source": [
    "5//10"
   ]
  },
  {
   "cell_type": "markdown",
   "metadata": {},
   "source": [
    "##### Remove Duplicates from Sorted List II"
   ]
  },
  {
   "cell_type": "code",
   "execution_count": 13,
   "metadata": {},
   "outputs": [
    {
     "name": "stdout",
     "output_type": "stream",
     "text": [
      "1\n",
      "2\n",
      "5\n"
     ]
    }
   ],
   "source": [
    "def remove_duplicates(head):\n",
    "    if head is None or head.next is None:\n",
    "        return head\n",
    "    freqs = {}\n",
    "    curr = head\n",
    "    while curr:\n",
    "        if curr.val in freqs:\n",
    "            freqs[curr.val] += 1\n",
    "        else:\n",
    "            freqs[curr.val] = 1\n",
    "        curr = curr.next\n",
    "    new_head = None\n",
    "    new_tail = None\n",
    "    for key in freqs:\n",
    "        if freqs[key] == 1:\n",
    "            newNode = ListNode(key)\n",
    "            if not new_head:\n",
    "                new_head = newNode\n",
    "                new_tail = newNode\n",
    "            else:\n",
    "                new_tail.next = newNode\n",
    "                new_tail = newNode\n",
    "    return new_head\n",
    "l = create_ll([1,2,3,3, 4,4,5, 3,-1])\n",
    "l2 = remove_duplicates(l)\n",
    "print_ll(l2)"
   ]
  },
  {
   "cell_type": "markdown",
   "metadata": {},
   "source": [
    "### Swap Nodes in Pairs"
   ]
  },
  {
   "cell_type": "code",
   "execution_count": 14,
   "metadata": {},
   "outputs": [
    {
     "name": "stdout",
     "output_type": "stream",
     "text": [
      "2\n",
      "1\n",
      "4\n",
      "3\n"
     ]
    }
   ],
   "source": [
    "def swap_nodes(head):\n",
    "    if not head or not head.next:\n",
    "        return None\n",
    "    dummy = ListNode(0)\n",
    "    dummy.next = head\n",
    "    prev = dummy\n",
    "    while prev.next and prev.next.next:\n",
    "        first = prev.next\n",
    "        second = prev.next.next\n",
    "        prev.next = second\n",
    "        first.next = second.next\n",
    "        second.next = first\n",
    "        prev = first\n",
    "    return dummy.next\n",
    "ll = create_ll([1,2,3,4,-1])\n",
    "ll2 = swap_nodes(ll)\n",
    "print_ll(ll2)\n",
    "\n",
    "#    1  ->   2   ->  3   ->    4\n",
    "#p   f       s"
   ]
  },
  {
   "cell_type": "code",
   "execution_count": 15,
   "metadata": {},
   "outputs": [
    {
     "name": "stdout",
     "output_type": "stream",
     "text": [
      "2\n",
      "1\n",
      "4\n",
      "3\n"
     ]
    }
   ],
   "source": [
    "def swap_nodes_recursion(head):\n",
    "    \"\"\"Swap nodes in pairs using recursion.\"\"\"\n",
    "    if head is None or head.next is None:\n",
    "        return head\n",
    "    first = head\n",
    "    second = head.next\n",
    "    first.next = swap_nodes_recursion(second.next)\n",
    "    second.next = first\n",
    "    return second\n",
    "ll = create_ll([1,2,3,4,-1])\n",
    "ll2 = swap_nodes_recursion(ll)\n",
    "print_ll(ll2)"
   ]
  },
  {
   "cell_type": "markdown",
   "metadata": {},
   "source": [
    "#### Reverse Link List"
   ]
  },
  {
   "cell_type": "code",
   "execution_count": 16,
   "metadata": {},
   "outputs": [
    {
     "name": "stdout",
     "output_type": "stream",
     "text": [
      "5\n",
      "4\n",
      "3\n",
      "2\n",
      "1\n"
     ]
    }
   ],
   "source": [
    "def reverse_ll_iterative(head):\n",
    "    if head is None or head.next is None:\n",
    "        return head\n",
    "    prev = None\n",
    "    curr = head\n",
    "    nex = head.next\n",
    "    while curr != None:\n",
    "        curr.next = prev\n",
    "        prev = curr\n",
    "        curr = nex\n",
    "        if nex != None:\n",
    "            nex = nex.next\n",
    "    return prev\n",
    "my_ll = create_ll([1,2,3,4,5,-1])\n",
    "rev_ll = reverse_ll_iterative(my_ll)\n",
    "print_ll(rev_ll)"
   ]
  },
  {
   "cell_type": "code",
   "execution_count": 17,
   "metadata": {},
   "outputs": [
    {
     "name": "stdout",
     "output_type": "stream",
     "text": [
      "5\n",
      "4\n",
      "3\n",
      "2\n",
      "1\n"
     ]
    }
   ],
   "source": [
    "def reverse_ll(head):\n",
    "    if not head or not head.next:\n",
    "        return head\n",
    "    prev = None\n",
    "    curr = head\n",
    "    nex = curr.next\n",
    "    while curr != None:\n",
    "        curr.next = prev\n",
    "        prev = curr\n",
    "        curr = nex\n",
    "        if nex != None:\n",
    "            nex = nex.next\n",
    "    return prev\n",
    "my_ll = create_ll([1,2,3,4,5,-1])\n",
    "rev_ll = reverse_ll(my_ll)\n",
    "print_ll(rev_ll)"
   ]
  },
  {
   "cell_type": "markdown",
   "metadata": {},
   "source": [
    "### Reverse Link List II"
   ]
  },
  {
   "cell_type": "code",
   "execution_count": 18,
   "metadata": {},
   "outputs": [
    {
     "name": "stdout",
     "output_type": "stream",
     "text": [
      "3\n",
      "2\n",
      "1\n",
      "4\n",
      "5\n"
     ]
    }
   ],
   "source": [
    "def rev_link_list(head, start, stop):\n",
    "    if not head or not head.next:\n",
    "        return head\n",
    "    dummy = ListNode(0)\n",
    "    dummy.next = head\n",
    "    prev_start = dummy\n",
    "    curr = head\n",
    "    for i in range(start-1):\n",
    "        prev_start = curr\n",
    "        curr = curr.next\n",
    "    prev = None\n",
    "    for i in range(stop - start + 1):\n",
    "        next_node = curr.next\n",
    "        curr.next = prev\n",
    "        prev = curr\n",
    "        curr = next_node\n",
    "    prev_start.next.next = curr\n",
    "    prev_start.next = prev\n",
    "    return dummy.next\n",
    "\n",
    "\n",
    "\n",
    "\n",
    "my_ll = create_ll([1,2,3,4,5,-1])\n",
    "r_l = rev_link_list(my_ll, 1, 3)\n",
    "print_ll(r_l)"
   ]
  },
  {
   "cell_type": "markdown",
   "metadata": {},
   "source": [
    "##### Partition List"
   ]
  },
  {
   "cell_type": "code",
   "execution_count": 19,
   "metadata": {},
   "outputs": [
    {
     "name": "stdout",
     "output_type": "stream",
     "text": [
      "1\n",
      "2\n",
      "2\n",
      "4\n",
      "3\n",
      "5\n"
     ]
    }
   ],
   "source": [
    "def partition_list(head, x):\n",
    "    if not head:\n",
    "        return head\n",
    "    curr = head\n",
    "    small_dummy = ListNode(0)\n",
    "    large_dummy = ListNode(0)\n",
    "    small_tail = small_dummy\n",
    "    large_tail = large_dummy\n",
    "    while curr:\n",
    "        if curr.val < x:\n",
    "            small_tail.next = curr\n",
    "            small_tail = curr\n",
    "        else:\n",
    "            large_tail.next = curr\n",
    "            large_tail = curr\n",
    "        curr = curr.next\n",
    "    large_tail.next = None\n",
    "    small_tail.next = large_dummy.next\n",
    "    return small_dummy.next\n",
    "my_list = create_ll([1,4,3,2,5,2])\n",
    "mod_list = partition_list(my_list, 3)\n",
    "print_ll(mod_list)"
   ]
  },
  {
   "cell_type": "markdown",
   "metadata": {},
   "source": [
    "### Odd Even Linked List"
   ]
  },
  {
   "cell_type": "code",
   "execution_count": 20,
   "metadata": {},
   "outputs": [
    {
     "name": "stdout",
     "output_type": "stream",
     "text": [
      "1\n",
      "2\n",
      "3\n",
      "2\n",
      "4\n",
      "5\n"
     ]
    }
   ],
   "source": [
    "def oddEvenList(head):\n",
    "    if not head:\n",
    "        return head\n",
    "    odd_dummy = ListNode(0)\n",
    "    even_dummy = ListNode(0)\n",
    "    odd_tail = odd_dummy\n",
    "    even_tail = even_dummy\n",
    "    curr = head\n",
    "    i = 0\n",
    "    while curr:\n",
    "        if i%2 == 0:\n",
    "            even_tail.next = curr\n",
    "            even_tail = curr\n",
    "        else:\n",
    "            odd_tail.next = curr\n",
    "            odd_tail = curr\n",
    "        curr = curr.next\n",
    "        i+=1\n",
    "    odd_tail.next = None\n",
    "    even_tail.next = odd_dummy.next\n",
    "    return even_dummy.next\n",
    "mod_list = oddEvenList(my_list)\n",
    "print_ll(mod_list)"
   ]
  },
  {
   "cell_type": "markdown",
   "metadata": {},
   "source": [
    "### Detect a Cycle in Link List II"
   ]
  },
  {
   "cell_type": "code",
   "execution_count": 21,
   "metadata": {},
   "outputs": [
    {
     "name": "stdout",
     "output_type": "stream",
     "text": [
      "2\n",
      "1\n",
      "3\n",
      "5\n",
      "6\n",
      "4\n",
      "7\n"
     ]
    }
   ],
   "source": [
    "my_list = create_ll([2,1,3,5,6,4,7])\n",
    "print_ll(my_list)"
   ]
  },
  {
   "cell_type": "code",
   "execution_count": 22,
   "metadata": {},
   "outputs": [
    {
     "name": "stdout",
     "output_type": "stream",
     "text": [
      "2\n"
     ]
    }
   ],
   "source": [
    "def detectCycle(head):\n",
    "    if not head or not head.next:\n",
    "        return None\n",
    "    curr = head\n",
    "    i = 0\n",
    "    hash_table = {}\n",
    "    while curr:\n",
    "        if curr in hash_table:\n",
    "            return curr\n",
    "        else:\n",
    "            hash_table[curr] = i\n",
    "            i += 1\n",
    "        curr = curr.next\n",
    "    return None\n",
    "my_list = create_ll([2,1,3,5,6,4,7])\n",
    "curr = my_list\n",
    "curr.next = my_list\n",
    "a = detectCycle(curr)\n",
    "print(a.val)"
   ]
  },
  {
   "cell_type": "code",
   "execution_count": 23,
   "metadata": {},
   "outputs": [],
   "source": [
    "l1 = create_ll([1,4,5])\n",
    "l2 = create_ll([1, 3, 4])"
   ]
  },
  {
   "cell_type": "code",
   "execution_count": 24,
   "metadata": {},
   "outputs": [
    {
     "name": "stdout",
     "output_type": "stream",
     "text": [
      "1\n",
      "1\n",
      "3\n",
      "4\n",
      "4\n",
      "5\n"
     ]
    }
   ],
   "source": [
    "#function to merge two sorted linked list\n",
    "def merge(head1, head2):\n",
    "    if head1 is None:\n",
    "        return head2\n",
    "    if head2 is None:\n",
    "        return head1\n",
    "    dummy = ListNode(0)\n",
    "    curr_tail = dummy\n",
    "    while head1 and head2: \n",
    "        if head1.val < head2.val:\n",
    "            curr_tail.next = head1\n",
    "            curr_tail = head1\n",
    "            head1 = head1.next\n",
    "        else:\n",
    "            curr_tail.next = head2\n",
    "            curr_tail = head2\n",
    "            head2 = head2.next\n",
    "    if head1:\n",
    "        curr_tail.next = head1\n",
    "    if head2:\n",
    "        curr_tail.next = head2\n",
    "    return dummy.next\n",
    "my_ll = merge(l1, l2)\n",
    "print_ll(my_ll)"
   ]
  },
  {
   "cell_type": "code",
   "execution_count": 25,
   "metadata": {},
   "outputs": [],
   "source": [
    "#function to divide link list into two halves\n",
    "def divide_ll(head):\n",
    "    temp = head\n",
    "    if not temp or not temp.next:\n",
    "        return temp\n",
    "    prev = fast  = slow = temp\n",
    "    while fast and fast.next:\n",
    "        prev = slow\n",
    "        slow = slow.next\n",
    "        fast = fast.next.next\n",
    "    prev.next = None\n",
    "    return head, slow\n",
    "a, b = divide_ll(my_ll)"
   ]
  },
  {
   "cell_type": "code",
   "execution_count": 26,
   "metadata": {},
   "outputs": [
    {
     "name": "stdout",
     "output_type": "stream",
     "text": [
      "5\n",
      "6\n",
      "7\n",
      "8\n",
      "9\n"
     ]
    }
   ],
   "source": [
    "#merge sort function\n",
    "def merge_sort(head):\n",
    "    if not head or not head.next:\n",
    "        return head\n",
    "    left, right = divide_ll(head)\n",
    "    left_sort = merge_sort(left)\n",
    "    right_sort = merge_sort(right)\n",
    "    return merge(left_sort, right_sort)\n",
    "unsorted_list = create_ll([9, 8, 7, 6, 5])\n",
    "sorted_ll = merge_sort(unsorted_list)\n",
    "print_ll(sorted_ll)"
   ]
  },
  {
   "cell_type": "code",
   "execution_count": 27,
   "metadata": {},
   "outputs": [],
   "source": [
    "l1 = create_ll([1,4,5])\n",
    "l2 = create_ll([1,3,4])\n",
    "l3 = create_ll([2,6])\n",
    "lists = [l1,l2,l3]"
   ]
  },
  {
   "cell_type": "markdown",
   "metadata": {},
   "source": [
    "### Insertion Sort"
   ]
  },
  {
   "cell_type": "code",
   "execution_count": 28,
   "metadata": {},
   "outputs": [
    {
     "data": {
      "text/plain": [
       "[1, 2, 3, 4, 5, 6, 7, 8]"
      ]
     },
     "execution_count": 28,
     "metadata": {},
     "output_type": "execute_result"
    }
   ],
   "source": [
    "arr = [5,6,3,1,8,7,2,4]\n",
    "def Sort(arr):\n",
    "    for i in range(1, len(arr)):\n",
    "        for j in range(0, i):\n",
    "            if arr[j] > arr[i]:\n",
    "                arr[i], arr[j] = arr[j], arr[i]\n",
    "    return arr\n",
    "Sort(arr)"
   ]
  },
  {
   "cell_type": "code",
   "execution_count": 29,
   "metadata": {},
   "outputs": [
    {
     "data": {
      "text/plain": [
       "[1, 3, 5, 6, 8]"
      ]
     },
     "execution_count": 29,
     "metadata": {},
     "output_type": "execute_result"
    }
   ],
   "source": [
    "def insertion_sort(arr):\n",
    "    if len(arr) <= 1:\n",
    "        return arr\n",
    "    for i in range(1, len(arr)):\n",
    "        j = i\n",
    "        while j > 0:\n",
    "            if arr[j] < arr[j-1]:\n",
    "                arr[j-1], arr[j] = arr[j], arr[j-1]\n",
    "            j -= 1\n",
    "    return arr\n",
    "insertion_sort([5,6,3,1,8])"
   ]
  },
  {
   "cell_type": "code",
   "execution_count": 30,
   "metadata": {},
   "outputs": [
    {
     "name": "stdout",
     "output_type": "stream",
     "text": [
      "5\n",
      "4\n",
      "6\n",
      "3\n",
      "1\n",
      "8\n"
     ]
    }
   ],
   "source": [
    "my_ll = create_ll([5,4, 6, 3, 1, 8])\n",
    "print_ll(my_ll)"
   ]
  },
  {
   "cell_type": "code",
   "execution_count": 107,
   "metadata": {},
   "outputs": [
    {
     "name": "stdout",
     "output_type": "stream",
     "text": [
      "1 -> 3 -> 4 -> 5 -> 6 -> 8 -> "
     ]
    }
   ],
   "source": [
    "def insertion_sort_ll(head):\n",
    "    if not head or not head.next:\n",
    "        return head\n",
    "    dummy = ListNode(0)\n",
    "    dummy.next = head\n",
    "    prev = head\n",
    "    curr = head.next\n",
    "    while curr:\n",
    "        if curr.val >= prev.val:\n",
    "            prev = curr\n",
    "        else:\n",
    "            temp = dummy\n",
    "            while temp.next.val < curr.val:\n",
    "                temp  = temp.next\n",
    "            prev.next = curr.next\n",
    "            curr.next = temp.next\n",
    "            temp.next = curr\n",
    "        curr = prev.next\n",
    "    return dummy.next\n",
    "my_ll = create_ll([5, 4, 6, 1, 3, 8])\n",
    "aa = insertion_sort_ll(my_ll)\n",
    "print_ll(aa)"
   ]
  },
  {
   "cell_type": "markdown",
   "metadata": {},
   "source": [
    "### Maximum Twin Sum of Link List"
   ]
  },
  {
   "cell_type": "code",
   "execution_count": 4,
   "metadata": {},
   "outputs": [
    {
     "name": "stdout",
     "output_type": "stream",
     "text": [
      "Maximum Sum: 7\n"
     ]
    }
   ],
   "source": [
    "def pairSum(head):\n",
    "    def two_halves(head):\n",
    "        if not head or not head.next:\n",
    "            return head\n",
    "        prev = head\n",
    "        slow = head\n",
    "        fast = head\n",
    "        while fast and fast.next:\n",
    "            prev = slow\n",
    "            slow = slow.next\n",
    "            fast = fast.next.next\n",
    "        prev.next = None\n",
    "        return head, slow\n",
    "    left, right = two_halves(head)\n",
    "    def reverse_ll(head):\n",
    "        if not head or not head.next:\n",
    "            return head\n",
    "        prev = None\n",
    "        curr = head\n",
    "        while curr:\n",
    "            next_node = curr.next\n",
    "            curr.next = prev\n",
    "            prev = curr\n",
    "            curr = next_node\n",
    "        return prev\n",
    "    right_reverse = reverse_ll(right)\n",
    "    max_sum = left.val + right_reverse.val\n",
    "    while left.next and right_reverse.next:\n",
    "        new_sum = left.next.val + right_reverse.next.val\n",
    "        if max_sum < new_sum:\n",
    "            max_sum = new_sum\n",
    "        left = left.next\n",
    "        right_reverse = right_reverse.next\n",
    "    return max_sum\n",
    "my_list = create_ll([1,2,3,4,5,6])\n",
    "res = pairSum(my_list)\n",
    "print(\"Maximum Sum:\", res)\n"
   ]
  },
  {
   "cell_type": "markdown",
   "metadata": {},
   "source": [
    "### Add Two Link List II"
   ]
  },
  {
   "cell_type": "code",
   "execution_count": 5,
   "metadata": {},
   "outputs": [
    {
     "name": "stdout",
     "output_type": "stream",
     "text": [
      "7 -> 8 -> 0 -> 7 -> "
     ]
    }
   ],
   "source": [
    "def addTwoNumbers(l1, l2):\n",
    "        if not l1:\n",
    "            return l2\n",
    "        if not l2:\n",
    "            return l1\n",
    "        def reverse_ll(head):\n",
    "            if not head or not head.next:\n",
    "                return head\n",
    "            prev = None\n",
    "            curr = head\n",
    "            while curr:\n",
    "                next_node = curr.next\n",
    "                curr.next = prev\n",
    "                prev = curr\n",
    "                curr = next_node\n",
    "            return prev\n",
    "        l1 = reverse_ll(l1)\n",
    "        l2 = reverse_ll(l2)\n",
    "        dummy = ListNode(0)\n",
    "        curr = dummy\n",
    "        carry = 0\n",
    "        while l1 or l2 or carry:\n",
    "            val1 = l1.val if l1 else 0\n",
    "            val2 = l2.val if l2 else 0 \n",
    "            total = val1 + val2 +carry\n",
    "            digit = total % 10\n",
    "            carry = total //10\n",
    "            newNode = ListNode(digit)\n",
    "            curr.next = newNode\n",
    "            curr = curr.next\n",
    "            if l1:\n",
    "                l1 = l1.next\n",
    "            if l2:\n",
    "                l2 = l2.next\n",
    "        \n",
    "        return reverse_ll(dummy.next)\n",
    "        \n",
    "l1 = create_ll([7, 2, 4, 3])\n",
    "l2 = create_ll([5,6,4])\n",
    "result = addTwoNumbers(l1, l2)\n",
    "print_ll(result)"
   ]
  },
  {
   "cell_type": "markdown",
   "metadata": {},
   "source": [
    "### Reorder Link List"
   ]
  },
  {
   "cell_type": "code",
   "execution_count": 12,
   "metadata": {},
   "outputs": [
    {
     "name": "stdout",
     "output_type": "stream",
     "text": [
      "1 -> 2 -> 3 -> 4 -> 5 -> "
     ]
    }
   ],
   "source": [
    "\n",
    "print_ll(my_list)"
   ]
  },
  {
   "cell_type": "code",
   "execution_count": 58,
   "metadata": {},
   "outputs": [
    {
     "name": "stdout",
     "output_type": "stream",
     "text": [
      "1 -> 4 -> 2 -> 3 -> "
     ]
    }
   ],
   "source": [
    "def reorderList(head):\n",
    "    def reverse_ll(head):\n",
    "        curr = head\n",
    "        prev = None\n",
    "        while curr:\n",
    "            next_node = curr.next\n",
    "            curr.next = prev\n",
    "            prev = curr\n",
    "            curr = next_node\n",
    "        return prev\n",
    "    def two_halves(head):\n",
    "        prev = head\n",
    "        slow = head\n",
    "        fast = head\n",
    "        while fast and fast.next:\n",
    "            prev = slow\n",
    "            slow = slow.next\n",
    "            fast = fast.next.next\n",
    "        prev.next = None\n",
    "        return head, slow\n",
    "    left, right = two_halves(head)\n",
    "    rev_right = reverse_ll(right)\n",
    "    dummy = ListNode(0)\n",
    "    newTail = dummy\n",
    "    while left and rev_right:\n",
    "        newTail.next = left\n",
    "        newTail = left\n",
    "        left = left.next\n",
    "        newTail.next = rev_right\n",
    "        newTail = rev_right\n",
    "        rev_right = rev_right.next\n",
    "    return dummy.next\n",
    "\n",
    "my_list = create_ll([1,2,3,4])\n",
    "reorder_list = reorderList(my_list)\n",
    "print_ll(reorder_list) "
   ]
  },
  {
   "cell_type": "markdown",
   "metadata": {},
   "source": [
    "### Reverse Nodes in K-Group"
   ]
  },
  {
   "cell_type": "code",
   "execution_count": 60,
   "metadata": {},
   "outputs": [
    {
     "name": "stdout",
     "output_type": "stream",
     "text": [
      "1 -> 2 -> 3 -> 4 -> 5 -> "
     ]
    }
   ],
   "source": [
    "my_ll = create_ll([1,2,3,4,5])\n",
    "print_ll(my_ll)"
   ]
  },
  {
   "cell_type": "code",
   "execution_count": 61,
   "metadata": {},
   "outputs": [
    {
     "ename": "AttributeError",
     "evalue": "'NoneType' object has no attribute 'next'",
     "output_type": "error",
     "traceback": [
      "\u001b[1;31m---------------------------------------------------------------------------\u001b[0m",
      "\u001b[1;31mAttributeError\u001b[0m                            Traceback (most recent call last)",
      "Cell \u001b[1;32mIn[61], line 12\u001b[0m\n\u001b[0;32m     10\u001b[0m         curr \u001b[38;5;241m=\u001b[39m next_node\n\u001b[0;32m     11\u001b[0m     \u001b[38;5;28;01mreturn\u001b[39;00m prev\n\u001b[1;32m---> 12\u001b[0m a \u001b[38;5;241m=\u001b[39m reverseKGroup(my_ll, \u001b[38;5;241m2\u001b[39m)\n",
      "Cell \u001b[1;32mIn[61], line 6\u001b[0m, in \u001b[0;36mreverseKGroup\u001b[1;34m(head, k)\u001b[0m\n\u001b[0;32m      4\u001b[0m \u001b[38;5;28;01mwhile\u001b[39;00m curr:\n\u001b[0;32m      5\u001b[0m     \u001b[38;5;28;01mfor\u001b[39;00m i \u001b[38;5;129;01min\u001b[39;00m \u001b[38;5;28mrange\u001b[39m(k):\n\u001b[1;32m----> 6\u001b[0m         next_node \u001b[38;5;241m=\u001b[39m curr\u001b[38;5;241m.\u001b[39mnext\n\u001b[0;32m      7\u001b[0m         curr\u001b[38;5;241m.\u001b[39mnext \u001b[38;5;241m=\u001b[39m prev\n\u001b[0;32m      8\u001b[0m         prev \u001b[38;5;241m=\u001b[39m curr\n",
      "\u001b[1;31mAttributeError\u001b[0m: 'NoneType' object has no attribute 'next'"
     ]
    }
   ],
   "source": [
    "def reverseKGroup(head, k):\n",
    "    prev = None\n",
    "    curr = head\n",
    "    while curr:\n",
    "        for i in range(k):\n",
    "            next_node = curr.next\n",
    "            curr.next = prev\n",
    "            prev = curr\n",
    "            curr = next_node\n",
    "        curr = next_node\n",
    "    return prev\n",
    "a = reverseKGroup(my_ll, 2)"
   ]
  },
  {
   "cell_type": "code",
   "execution_count": 62,
   "metadata": {},
   "outputs": [
    {
     "ename": "NameError",
     "evalue": "name 'a' is not defined",
     "output_type": "error",
     "traceback": [
      "\u001b[1;31m---------------------------------------------------------------------------\u001b[0m",
      "\u001b[1;31mNameError\u001b[0m                                 Traceback (most recent call last)",
      "Cell \u001b[1;32mIn[62], line 1\u001b[0m\n\u001b[1;32m----> 1\u001b[0m print_ll(a)\n",
      "\u001b[1;31mNameError\u001b[0m: name 'a' is not defined"
     ]
    }
   ],
   "source": [
    "print_ll(a)"
   ]
  },
  {
   "cell_type": "code",
   "execution_count": null,
   "metadata": {},
   "outputs": [],
   "source": []
  }
 ],
 "metadata": {
  "kernelspec": {
   "display_name": "base",
   "language": "python",
   "name": "python3"
  },
  "language_info": {
   "codemirror_mode": {
    "name": "ipython",
    "version": 3
   },
   "file_extension": ".py",
   "mimetype": "text/x-python",
   "name": "python",
   "nbconvert_exporter": "python",
   "pygments_lexer": "ipython3",
   "version": "3.12.3"
  }
 },
 "nbformat": 4,
 "nbformat_minor": 2
}
