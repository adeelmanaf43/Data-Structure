{
 "cells": [
  {
   "cell_type": "markdown",
   "metadata": {},
   "source": [
    "### Linear Search"
   ]
  },
  {
   "cell_type": "code",
   "execution_count": 24,
   "metadata": {},
   "outputs": [
    {
     "data": {
      "text/plain": [
       "-1"
      ]
     },
     "execution_count": 24,
     "metadata": {},
     "output_type": "execute_result"
    }
   ],
   "source": [
    "def linear_search(arr, target):\n",
    "    for i in range(len(arr)):\n",
    "        if arr[i] == target:\n",
    "            return True\n",
    "    return -1\n",
    "linear_search([1,2,3,4,5],10)"
   ]
  },
  {
   "cell_type": "markdown",
   "metadata": {},
   "source": [
    "### Binary Search"
   ]
  },
  {
   "cell_type": "code",
   "execution_count": 25,
   "metadata": {},
   "outputs": [
    {
     "data": {
      "text/plain": [
       "0"
      ]
     },
     "execution_count": 25,
     "metadata": {},
     "output_type": "execute_result"
    }
   ],
   "source": [
    "def binary_search(arr, target):\n",
    "    start = 0\n",
    "    end = len(arr) - 1\n",
    "    while start <= end:\n",
    "        mid = (start + end)// 2\n",
    "        if arr[mid] == target:\n",
    "            return mid\n",
    "        elif arr[mid] > target:\n",
    "            end = mid -1 \n",
    "        else:\n",
    "            start = mid + 1\n",
    "    return -1\n",
    "\n",
    "binary_search([1,2,3,4,5],1)"
   ]
  },
  {
   "cell_type": "markdown",
   "metadata": {},
   "source": [
    "### Bubble Sort"
   ]
  },
  {
   "cell_type": "code",
   "execution_count": 29,
   "metadata": {},
   "outputs": [
    {
     "name": "stdout",
     "output_type": "stream",
     "text": [
      "[1, 5, 4, 3, 2, 7]\n",
      "[1, 4, 3, 2, 5, 7]\n",
      "[1, 3, 2, 4, 5, 7]\n",
      "[1, 2, 3, 4, 5, 7]\n",
      "[1, 2, 3, 4, 5, 7]\n"
     ]
    },
    {
     "data": {
      "text/plain": [
       "[1, 2, 3, 4, 5, 7]"
      ]
     },
     "execution_count": 29,
     "metadata": {},
     "output_type": "execute_result"
    }
   ],
   "source": [
    "arr = [1, 5, 7, 4, 3, 2]\n",
    "def bubble_sort(arr):\n",
    "    i = 0\n",
    "    while i < len(arr) - 1:\n",
    "        for j in range(1,len(arr)-i):\n",
    "            if arr[j-1] > arr[j]:\n",
    "                arr[j-1], arr[j] = arr[j], arr[j-1] \n",
    "        i+=1\n",
    "    return arr\n",
    "bubble_sort(arr)"
   ]
  },
  {
   "cell_type": "markdown",
   "metadata": {},
   "source": [
    "### Selection Sort"
   ]
  },
  {
   "cell_type": "code",
   "execution_count": 36,
   "metadata": {},
   "outputs": [
    {
     "name": "stdout",
     "output_type": "stream",
     "text": [
      "[1, 4, 3, 7, 2, 5]\n",
      "[1, 2, 3, 7, 4, 5]\n",
      "[1, 2, 3, 7, 4, 5]\n",
      "[1, 2, 3, 4, 7, 5]\n",
      "[1, 2, 3, 4, 5, 7]\n",
      "[1, 2, 3, 4, 5, 7]\n"
     ]
    },
    {
     "data": {
      "text/plain": [
       "[1, 2, 3, 4, 5, 7]"
      ]
     },
     "execution_count": 36,
     "metadata": {},
     "output_type": "execute_result"
    }
   ],
   "source": [
    "def selection_sort(arr):\n",
    "    n = len(arr)\n",
    "    for i in range(n):\n",
    "        min = i\n",
    "        for j in range(i, n):\n",
    "            if arr[j] < arr[min]:\n",
    "                min = j\n",
    "        arr[min], arr[i] = arr[i], arr[min]\n",
    "    return arr\n",
    "selection_sort([5,4,3,7, 2, 1])\n",
    "        "
   ]
  },
  {
   "cell_type": "markdown",
   "metadata": {},
   "source": [
    "### Insertion Sort"
   ]
  },
  {
   "cell_type": "code",
   "execution_count": 52,
   "metadata": {},
   "outputs": [
    {
     "data": {
      "text/plain": [
       "[1, 2, 3, 4, 5]"
      ]
     },
     "execution_count": 52,
     "metadata": {},
     "output_type": "execute_result"
    }
   ],
   "source": [
    "arr = [5, 3, 4, 1, 2]\n",
    "\n",
    "# [3, 5, 4, 1, 2]\n",
    "# [3, 4, 5, 1, 2]\n",
    "#[3, 4, 5,]\n",
    "def insertion_sort():\n",
    "    for i in range(1, len(arr)):\n",
    "        j = i\n",
    "        while j > 0:\n",
    "            if arr[j] < arr[j-1]:\n",
    "                arr[j], arr[j-1] = arr[j-1], arr[j]\n",
    "            j-=1\n",
    "    return arr\n",
    "\n",
    "insertion_sort(arr)"
   ]
  },
  {
   "cell_type": "code",
   "execution_count": 54,
   "metadata": {},
   "outputs": [
    {
     "data": {
      "text/plain": [
       "[1, 2, 3, 4, 5]"
      ]
     },
     "execution_count": 54,
     "metadata": {},
     "output_type": "execute_result"
    }
   ],
   "source": [
    "5 4 3 1 2"
   ]
  },
  {
   "cell_type": "code",
   "execution_count": 56,
   "metadata": {},
   "outputs": [
    {
     "name": "stdout",
     "output_type": "stream",
     "text": [
      "[4, 5, 3, 2, 1]\n",
      "[3, 4, 5, 2, 1]\n",
      "[2, 3, 4, 5, 1]\n",
      "[1, 2, 3, 4, 5]\n"
     ]
    },
    {
     "data": {
      "text/plain": [
       "[1, 2, 3, 4, 5]"
      ]
     },
     "execution_count": 56,
     "metadata": {},
     "output_type": "execute_result"
    }
   ],
   "source": [
    "arr = [5,4,3,2,1]\n",
    "def insertion_sort(arr):\n",
    "    for i in range(1, len(arr)): # 1, 2\n",
    "        key = arr[i] #4, 3\n",
    "        j = i-1 # 0 # 1\n",
    "        while j >= 0 and arr[j] > key: #\n",
    "            arr[j+1] = arr[j]#arr[1] = 5\n",
    "            j-=1 #-1\n",
    "        arr[j+1] = key # 4 5 3 2 1\n",
    "        print(arr)\n",
    "    return arr\n",
    "insertion_sort(arr)"
   ]
  },
  {
   "cell_type": "markdown",
   "metadata": {},
   "source": [
    "## Binary Search Questions\n",
    "### Count negative numbers in a sorted matrix\n"
   ]
  },
  {
   "cell_type": "code",
   "execution_count": null,
   "metadata": {},
   "outputs": [],
   "source": [
    "grid = [[4, 3, 2, 1], [3, 2, 1, -1], [1, 1, -1, -2], [-1, -1, -2, -3]] "
   ]
  },
  {
   "cell_type": "code",
   "execution_count": 62,
   "metadata": {},
   "outputs": [
    {
     "data": {
      "text/plain": [
       "7"
      ]
     },
     "execution_count": 62,
     "metadata": {},
     "output_type": "execute_result"
    }
   ],
   "source": [
    "def countNegatives(grid):\n",
    "    count = 0\n",
    "    for arr in grid:\n",
    "        start = 0 \n",
    "        end = len(arr) - 1 \n",
    "        while start <= end:\n",
    "            mid = (start + end) // 2\n",
    "            if arr[mid] > 0:\n",
    "                start = mid + 1 \n",
    "            else:\n",
    "                end = mid - 1\n",
    "        count += (len(arr) - start)\n",
    "    return count\n",
    "countNegatives([[4, 3, 2, 1], [3, 2, 1, -1], [1, 1, -1, -2], [-1, -1, -2, -3]] )"
   ]
  },
  {
   "cell_type": "markdown",
   "metadata": {},
   "source": [
    "### Find Smallest Letter Greater than Target"
   ]
  },
  {
   "cell_type": "code",
   "execution_count": 69,
   "metadata": {},
   "outputs": [
    {
     "data": {
      "text/plain": [
       "'m'"
      ]
     },
     "execution_count": 69,
     "metadata": {},
     "output_type": "execute_result"
    }
   ],
   "source": [
    "def next_greatest_letter(letters, target):\n",
    "    start = 0\n",
    "    end = len(letters) - 1\n",
    "    while start <= end:\n",
    "        mid = (start + end) //2\n",
    "        if letters[mid] == target:\n",
    "            return letters[mid + 1]\n",
    "        elif letters[mid] > target:\n",
    "            end = mid - 1\n",
    "        else:\n",
    "            start = mid + 1\n",
    "    return letters[0]\n",
    "letters = ['c', 'f', 'j', 'm']\n",
    "target = 'j'\n",
    "next_greatest_letter(letters, target)"
   ]
  },
  {
   "cell_type": "markdown",
   "metadata": {},
   "source": [
    "### Find First and Last Position of Element in Sorted Array"
   ]
  },
  {
   "cell_type": "code",
   "execution_count": 70,
   "metadata": {},
   "outputs": [
    {
     "data": {
      "text/plain": [
       "3"
      ]
     },
     "execution_count": 70,
     "metadata": {},
     "output_type": "execute_result"
    }
   ],
   "source": [
    "def find_first(arr, target):\n",
    "    start = 0\n",
    "    end = len(arr) - 1\n",
    "    results = -1\n",
    "    while start <= end:\n",
    "        mid = (start + end) //2\n",
    "        if arr[mid] == target:\n",
    "            results = mid\n",
    "            end = mid - 1\n",
    "        elif arr[mid] < target:\n",
    "            start = mid + 1\n",
    "        else:\n",
    "            end = mid - 1\n",
    "    return results\n",
    "nums = [5, 7, 7, 8, 8, 10]\n",
    "target = 8 \n",
    "find_first(nums, target)"
   ]
  },
  {
   "cell_type": "code",
   "execution_count": 71,
   "metadata": {},
   "outputs": [
    {
     "data": {
      "text/plain": [
       "4"
      ]
     },
     "execution_count": 71,
     "metadata": {},
     "output_type": "execute_result"
    }
   ],
   "source": [
    "def find_last(arr, target):\n",
    "    start = 0\n",
    "    end = len(arr) - 1\n",
    "    results = -1\n",
    "    while start <= end:\n",
    "        mid = (start + end) // 2\n",
    "        if arr[mid] == target:\n",
    "            results = mid\n",
    "            start = mid +1\n",
    "        elif arr[mid] < target:\n",
    "            start = mid + 1\n",
    "        else:\n",
    "            end = mid - 1\n",
    "    return results\n",
    "nums = [5, 7, 7, 8, 8, 10]\n",
    "target = 8 \n",
    "find_last(nums, target)"
   ]
  },
  {
   "cell_type": "code",
   "execution_count": 74,
   "metadata": {},
   "outputs": [
    {
     "data": {
      "text/plain": [
       "[1, 2]"
      ]
     },
     "execution_count": 74,
     "metadata": {},
     "output_type": "execute_result"
    }
   ],
   "source": [
    "def searchRange(arr, target):\n",
    "    first = find_first(arr, target)\n",
    "    last = find_last(arr, target)\n",
    "    return [first, last]\n",
    "nums = [5, 7, 7, 8, 8, 10]\n",
    "target = 7\n",
    "searchRange(nums, target)"
   ]
  },
  {
   "cell_type": "markdown",
   "metadata": {},
   "source": [
    "### Minimum in Rotated Sorted Array"
   ]
  },
  {
   "cell_type": "code",
   "execution_count": 7,
   "metadata": {},
   "outputs": [
    {
     "data": {
      "text/plain": [
       "1"
      ]
     },
     "execution_count": 7,
     "metadata": {},
     "output_type": "execute_result"
    }
   ],
   "source": [
    "def findMin(arr):\n",
    "    start = 0 #0\n",
    "    end = len(arr) - 1 # 6\n",
    "    while start < end: # 0 < 6, 4 < 6, 4 < 5\n",
    "        mid = (start + end) // 2 # 3, 5, 4\n",
    "        if arr[mid] > arr[end]: #7 > 3, \n",
    "            start = mid + 1 # 4\n",
    "        else:\n",
    "            end = mid # 5 # 4\n",
    "    return arr[start]\n",
    "findMin([4,5,6,7,1,2,3])"
   ]
  },
  {
   "cell_type": "markdown",
   "metadata": {},
   "source": [
    "### Search in Rotated Sorted Array"
   ]
  },
  {
   "cell_type": "code",
   "execution_count": 11,
   "metadata": {},
   "outputs": [
    {
     "data": {
      "text/plain": [
       "4"
      ]
     },
     "execution_count": 11,
     "metadata": {},
     "output_type": "execute_result"
    }
   ],
   "source": [
    "def search(arr, target):\n",
    "    start = 0\n",
    "    end = len(arr) - 1\n",
    "    mid = (start + end) // 2\n",
    "    if arr[mid] == target:\n",
    "        return mid\n",
    "    elif arr[mid] >= target and target > arr[end]:\n",
    "        end = mid\n",
    "    else:\n",
    "        start = mid + 1\n",
    "    while start <= end:\n",
    "        mid = (start + end) // 2\n",
    "        if arr[mid] == target:\n",
    "            return mid\n",
    "        elif arr[mid] > target:\n",
    "            end = mid - 1\n",
    "        else:\n",
    "            start = mid + 1\n",
    "    return -1\n",
    "search([4, 5, 6, 7, 0, 1, 2], 0)"
   ]
  },
  {
   "cell_type": "code",
   "execution_count": null,
   "metadata": {},
   "outputs": [],
   "source": []
  }
 ],
 "metadata": {
  "kernelspec": {
   "display_name": "base",
   "language": "python",
   "name": "python3"
  },
  "language_info": {
   "codemirror_mode": {
    "name": "ipython",
    "version": 3
   },
   "file_extension": ".py",
   "mimetype": "text/x-python",
   "name": "python",
   "nbconvert_exporter": "python",
   "pygments_lexer": "ipython3",
   "version": "3.12.3"
  }
 },
 "nbformat": 4,
 "nbformat_minor": 2
}
