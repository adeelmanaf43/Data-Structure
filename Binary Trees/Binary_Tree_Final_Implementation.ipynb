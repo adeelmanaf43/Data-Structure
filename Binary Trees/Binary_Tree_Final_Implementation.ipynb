{
  "nbformat": 4,
  "nbformat_minor": 0,
  "metadata": {
    "colab": {
      "provenance": []
    },
    "kernelspec": {
      "name": "python3",
      "display_name": "Python 3"
    },
    "language_info": {
      "name": "python"
    }
  },
  "cells": [
    {
      "cell_type": "markdown",
      "source": [
        "# Binary Tree Node"
      ],
      "metadata": {
        "id": "4ZVKYoC0Kf-P"
      }
    },
    {
      "cell_type": "code",
      "execution_count": null,
      "metadata": {
        "id": "G_GRvajEKfIs"
      },
      "outputs": [],
      "source": [
        "class TreeNode:\n",
        "    def __init__(self, val):\n",
        "        self.val = val\n",
        "        self.left = None\n",
        "        self.right = None\n",
        "root = TreeNode(1)\n",
        "root.left = TreeNode(2)\n",
        "root.right = TreeNode(3)\n",
        "root.left.left = TreeNode(4)\n",
        "root.left.right = TreeNode(5)\n",
        "root.right.left = TreeNode(6)\n",
        "root.right.right = TreeNode(7)"
      ]
    },
    {
      "cell_type": "markdown",
      "source": [
        "# Print Binary Tree using Recursion"
      ],
      "metadata": {
        "id": "x_59NjF4K1Dg"
      }
    },
    {
      "cell_type": "code",
      "source": [
        "def print_binary_tree(root):\n",
        "    if root is None:\n",
        "        return\n",
        "    print(f\"{root.val}: \", end = \" \")\n",
        "    if root.left:\n",
        "        print(f\"L->{root.left.val}\", end =\",\")\n",
        "    else:\n",
        "        print(f\"L->None\", end = \",\")\n",
        "    if root.right:\n",
        "        print(f\"R->{root.right.val}\")\n",
        "    else:\n",
        "        print(f\"R->None\")\n",
        "    print_binary_tree(root.left)\n",
        "    print_binary_tree(root.right)\n",
        "print_binary_tree(root)"
      ],
      "metadata": {
        "colab": {
          "base_uri": "https://localhost:8080/"
        },
        "id": "qO2DKmqSK0jR",
        "outputId": "1df9d3ec-fc41-4c0a-af55-de4708f7744f"
      },
      "execution_count": null,
      "outputs": [
        {
          "output_type": "stream",
          "name": "stdout",
          "text": [
            "1:  L->2,R->3\n",
            "2:  L->4,R->5\n",
            "4:  L->None,R->None\n",
            "5:  L->None,R->None\n",
            "3:  L->6,R->7\n",
            "6:  L->None,R->None\n",
            "7:  L->None,R->None\n"
          ]
        }
      ]
    },
    {
      "cell_type": "markdown",
      "source": [
        "# Print Binary Tree Level Wise"
      ],
      "metadata": {
        "id": "2HjufCgwLg-8"
      }
    },
    {
      "cell_type": "code",
      "source": [
        "from collections import deque\n",
        "def print_binary_tree_level_wise(root):\n",
        "    if not root:\n",
        "        return None\n",
        "    queue = deque([root])\n",
        "    while len(queue) !=0:\n",
        "        current_node = queue.popleft()\n",
        "        print(f\"{current_node.val}\", end = \" \")\n",
        "        if current_node.left:\n",
        "            print(f\"L->{current_node.left.val}\",end = \",\")\n",
        "            queue.append(current_node.left)\n",
        "        else:\n",
        "            print(\"L->None\", end = \",\")\n",
        "        if current_node.right:\n",
        "            print(f\"R->{current_node.right.val}\")\n",
        "            queue.append(current_node.right)\n",
        "        else:\n",
        "            print(\"R->None\")\n",
        "print_binary_tree_level_wise(root)\n",
        "\n"
      ],
      "metadata": {
        "colab": {
          "base_uri": "https://localhost:8080/"
        },
        "id": "UWS4g6H8LRTt",
        "outputId": "6be1c1ac-9206-46a2-d383-4b2f457787c7"
      },
      "execution_count": null,
      "outputs": [
        {
          "output_type": "stream",
          "name": "stdout",
          "text": [
            "1 L->2,R->3\n",
            "2 L->4,R->5\n",
            "3 L->6,R->7\n",
            "4 L->None,R->None\n",
            "5 L->None,R->None\n",
            "6 L->None,R->None\n",
            "7 L->None,R->None\n"
          ]
        }
      ]
    },
    {
      "cell_type": "markdown",
      "source": [
        "# Function for creating some predefined Trees"
      ],
      "metadata": {
        "id": "XTfvgzl_MVmn"
      }
    },
    {
      "cell_type": "code",
      "source": [
        "# Tree 1\n",
        "\n",
        "#                    1\n",
        "#               /        \\\n",
        "#              2          3\n",
        "#            /   \\         \\\n",
        "#           4     5         6\n",
        "\n",
        "\n",
        "# Tree 2\n",
        "\n",
        "\n",
        "#                      10\n",
        "\n",
        "#              /              \\\n",
        "#             20              30\n",
        "#          /      \\        /      \\\n",
        "#         40      50      60      70\n",
        "#        /\n",
        "#       80\n",
        "\n",
        "\n",
        "# Tree3\n",
        "\n",
        "\n",
        "\n",
        "#                   100\n",
        "\n",
        "#           /                \\\n",
        "#         200               300\n",
        "\n",
        "#      /      \\          /      \\\n",
        "#    400     500       600     700\n",
        "\n",
        "#   /   \\             /   \\\n",
        "# 800  900          1000 1100"
      ],
      "metadata": {
        "id": "JN_rFbMgMhjs"
      },
      "execution_count": null,
      "outputs": []
    },
    {
      "cell_type": "code",
      "source": [
        "#function for creating some predefined binary trees\n",
        "def predefined_binary_tree_inputs():\n",
        "    #Tree 1: Basic Tree with height 3\n",
        "    root1 = TreeNode(1)\n",
        "    root1.left = TreeNode(2)\n",
        "    root1.right = TreeNode(3)\n",
        "    root1.left.left = TreeNode(4)\n",
        "    root1.left.right = TreeNode(5)\n",
        "    root1.right.right = TreeNode(6)\n",
        "\n",
        "    # Tree 2: Slightly Complex tree with height 4\n",
        "    root2 = TreeNode(10)\n",
        "    root2.left = TreeNode(20)\n",
        "    root2.right = TreeNode(30)\n",
        "    root2.left.left = TreeNode(40)\n",
        "    root2.left.right = TreeNode(50)\n",
        "    root2.right.left = TreeNode(60)\n",
        "    root2.right.right = TreeNode(70)\n",
        "    root2.left.left.left = TreeNode(80)\n",
        "\n",
        "    # Tree 3: More complex tree\n",
        "    root3 = TreeNode(100)\n",
        "    root3.left = TreeNode(200)\n",
        "    root3.right = TreeNode(300)\n",
        "    root3.left.left = TreeNode(400)\n",
        "    root3.left.right = TreeNode(500)\n",
        "    root3.right.left = TreeNode(600)\n",
        "    root3.right.right = TreeNode(700)\n",
        "    root3.left.left.left = TreeNode(800)\n",
        "    root3.left.left.right = TreeNode(900)\n",
        "    root3.right.left.left = TreeNode(1000)\n",
        "    root3.right.left.right = TreeNode(1100)\n",
        "    return root1, root2, root3\n",
        "\n",
        "root1, root2, root3 = predefined_binary_tree_inputs()"
      ],
      "metadata": {
        "id": "9NALz3-uMRcL"
      },
      "execution_count": null,
      "outputs": []
    },
    {
      "cell_type": "code",
      "source": [
        "print_binary_tree_level_wise(root1)"
      ],
      "metadata": {
        "colab": {
          "base_uri": "https://localhost:8080/"
        },
        "id": "Y3nGy-QmMYw_",
        "outputId": "c17a10c4-139e-4292-cedf-0d5faa069922"
      },
      "execution_count": null,
      "outputs": [
        {
          "output_type": "stream",
          "name": "stdout",
          "text": [
            "1 L->2,R->3\n",
            "2 L->4,R->5\n",
            "3 L->None,R->6\n",
            "4 L->None,R->None\n",
            "5 L->None,R->None\n",
            "6 L->None,R->None\n"
          ]
        }
      ]
    },
    {
      "cell_type": "code",
      "source": [
        "print_binary_tree_level_wise(root2)"
      ],
      "metadata": {
        "colab": {
          "base_uri": "https://localhost:8080/"
        },
        "id": "t7S7EJA8MllQ",
        "outputId": "33e07ad1-dddd-4c87-9729-abcc3fe10568"
      },
      "execution_count": null,
      "outputs": [
        {
          "output_type": "stream",
          "name": "stdout",
          "text": [
            "10 L->20,R->30\n",
            "20 L->40,R->50\n",
            "30 L->60,R->70\n",
            "40 L->80,R->None\n",
            "50 L->None,R->None\n",
            "60 L->None,R->None\n",
            "70 L->None,R->None\n",
            "80 L->None,R->None\n"
          ]
        }
      ]
    },
    {
      "cell_type": "code",
      "source": [
        "print_binary_tree_level_wise(root3)"
      ],
      "metadata": {
        "colab": {
          "base_uri": "https://localhost:8080/"
        },
        "id": "yHk8gTkmMng0",
        "outputId": "4c56d2bc-6473-4995-8898-f36fcc1e3ef9"
      },
      "execution_count": null,
      "outputs": [
        {
          "output_type": "stream",
          "name": "stdout",
          "text": [
            "100 L->200,R->300\n",
            "200 L->400,R->500\n",
            "300 L->600,R->700\n",
            "400 L->800,R->900\n",
            "500 L->None,R->None\n",
            "600 L->1000,R->1100\n",
            "700 L->None,R->None\n",
            "800 L->None,R->None\n",
            "900 L->None,R->None\n",
            "1000 L->None,R->None\n",
            "1100 L->None,R->None\n"
          ]
        }
      ]
    },
    {
      "cell_type": "markdown",
      "source": [
        "# Take input of a Binary Tree"
      ],
      "metadata": {
        "id": "lpntHHraMqwr"
      }
    },
    {
      "cell_type": "code",
      "source": [
        "def take_input():\n",
        "    data = int(input(\"Enter the data for node: \"))\n",
        "    if data == -1:\n",
        "        return None\n",
        "    node = TreeNode(data)\n",
        "    print(f\"Enter the data for left child of node {node.val}: \")\n",
        "    node.left = take_input()\n",
        "    print(f\"Enter the data for right child of node {node.val}: \")\n",
        "    node.right = take_input()\n",
        "    return node\n",
        "my_tree = take_input()"
      ],
      "metadata": {
        "colab": {
          "base_uri": "https://localhost:8080/"
        },
        "id": "PTrhjar3NkHp",
        "outputId": "01267715-22f8-4f05-c620-bff84017a12c"
      },
      "execution_count": null,
      "outputs": [
        {
          "name": "stdout",
          "output_type": "stream",
          "text": [
            "Enter the data for node: 1\n",
            "Enter the data for left child of node 1: \n",
            "Enter the data for node: 2\n",
            "Enter the data for left child of node 2: \n",
            "Enter the data for node: 4\n",
            "Enter the data for left child of node 4: \n",
            "Enter the data for node: -1\n",
            "Enter the data for right child of node 4: \n",
            "Enter the data for node: -1\n",
            "Enter the data for right child of node 2: \n",
            "Enter the data for node: 5\n",
            "Enter the data for left child of node 5: \n",
            "Enter the data for node: -1\n",
            "Enter the data for right child of node 5: \n",
            "Enter the data for node: -1\n",
            "Enter the data for right child of node 1: \n",
            "Enter the data for node: 3\n",
            "Enter the data for left child of node 3: \n",
            "Enter the data for node: 6\n",
            "Enter the data for left child of node 6: \n",
            "Enter the data for node: -1\n",
            "Enter the data for right child of node 6: \n",
            "Enter the data for node: -1\n",
            "Enter the data for right child of node 3: \n",
            "Enter the data for node: 7\n",
            "Enter the data for left child of node 7: \n",
            "Enter the data for node: -1\n",
            "Enter the data for right child of node 7: \n",
            "Enter the data for node: -1\n"
          ]
        }
      ]
    },
    {
      "cell_type": "code",
      "source": [
        "print_binary_tree_level_wise(my_tree)"
      ],
      "metadata": {
        "colab": {
          "base_uri": "https://localhost:8080/"
        },
        "id": "wJ7rUnoyNNBv",
        "outputId": "8c197c10-fc39-45d8-d68b-defb033e6f7b"
      },
      "execution_count": null,
      "outputs": [
        {
          "output_type": "stream",
          "name": "stdout",
          "text": [
            "1 L->2,R->3\n",
            "2 L->4,R->5\n",
            "3 L->6,R->7\n",
            "4 L->None,R->None\n",
            "5 L->None,R->None\n",
            "6 L->None,R->None\n",
            "7 L->None,R->None\n"
          ]
        }
      ]
    },
    {
      "cell_type": "markdown",
      "source": [
        "# Take input of a Binary Tree Level Wise"
      ],
      "metadata": {
        "id": "2P6eJvCZODXh"
      }
    },
    {
      "cell_type": "code",
      "source": [
        "def take_input_level_wise():\n",
        "    root_data = int(input(\"Enter the data for root node: \"))\n",
        "    if root_data == -1:\n",
        "        return None\n",
        "    root = TreeNode(root_data)\n",
        "    queue = deque([root])\n",
        "    while len(queue) != 0:\n",
        "        current_node = queue.popleft()\n",
        "        left_child_data = int(input(f\"Enter the data for left child of {current_node.val}: \"))\n",
        "        if left_child_data != -1:\n",
        "            left_child_node = TreeNode(left_child_data)\n",
        "            current_node.left = left_child_node\n",
        "            queue.append(left_child_node)\n",
        "        right_child_data = int(input(f\"Enter the data for right child of {current_node.val}: \"))\n",
        "        if right_child_data != -1:\n",
        "            right_child_node = TreeNode(right_child_data)\n",
        "            current_node.right = right_child_node\n",
        "            queue.append(right_child_node)\n",
        "    return root\n",
        "my_tree1 = take_input_level_wise()"
      ],
      "metadata": {
        "colab": {
          "base_uri": "https://localhost:8080/"
        },
        "id": "vGHg-2qNNgy8",
        "outputId": "1d74a7ee-a464-4433-ddd6-2b6c046529e2"
      },
      "execution_count": null,
      "outputs": [
        {
          "name": "stdout",
          "output_type": "stream",
          "text": [
            "Enter the data for root node: 1\n",
            "Enter the data for left child of 1: 2\n",
            "Enter the data for right child of 1: 3\n",
            "Enter the data for left child of 2: 4\n",
            "Enter the data for right child of 2: 5\n",
            "Enter the data for left child of 3: 6\n",
            "Enter the data for right child of 3: 7\n",
            "Enter the data for left child of 4: -1\n",
            "Enter the data for right child of 4: -1\n",
            "Enter the data for left child of 5: -1\n",
            "Enter the data for right child of 5: -1\n",
            "Enter the data for left child of 6: -1\n",
            "Enter the data for right child of 6: -1\n",
            "Enter the data for left child of 7: -1\n",
            "Enter the data for right child of 7: -1\n"
          ]
        }
      ]
    },
    {
      "cell_type": "code",
      "source": [
        "print_binary_tree_level_wise(my_tree1)"
      ],
      "metadata": {
        "colab": {
          "base_uri": "https://localhost:8080/"
        },
        "id": "XJKKQyupO17p",
        "outputId": "7ab2d7f2-c9ba-4cb3-d093-ca1046529a00"
      },
      "execution_count": null,
      "outputs": [
        {
          "output_type": "stream",
          "name": "stdout",
          "text": [
            "1 L->2,R->3\n",
            "2 L->4,R->5\n",
            "3 L->6,R->7\n",
            "4 L->None,R->None\n",
            "5 L->None,R->None\n",
            "6 L->None,R->None\n",
            "7 L->None,R->None\n"
          ]
        }
      ]
    },
    {
      "cell_type": "markdown",
      "source": [
        "# Height of A Tree"
      ],
      "metadata": {
        "id": "aMejt7ePRQGi"
      }
    },
    {
      "cell_type": "code",
      "source": [
        "def height(root):\n",
        "    if not root:\n",
        "        return 0\n",
        "    left_height = height(root.left)\n",
        "    right_height = height(root.right)\n",
        "    height_of_tree = 1 + max(left_height, right_height)\n",
        "    return height_of_tree\n",
        "height(root2)"
      ],
      "metadata": {
        "colab": {
          "base_uri": "https://localhost:8080/"
        },
        "id": "J3_RoaYUQRhm",
        "outputId": "f2b8d5fa-dc0c-49aa-d2b6-8d5ded80e18b"
      },
      "execution_count": null,
      "outputs": [
        {
          "output_type": "execute_result",
          "data": {
            "text/plain": [
              "4"
            ]
          },
          "metadata": {},
          "execution_count": 33
        }
      ]
    },
    {
      "cell_type": "code",
      "source": [
        "# Tree 2\n",
        "\n",
        "\n",
        "#                      10\n",
        "\n",
        "#              /              \\\n",
        "#             20              30\n",
        "#          /      \\        /      \\\n",
        "#         40      50      60      70\n",
        "#        /\n",
        "#       80"
      ],
      "metadata": {
        "id": "gVYDgwXARmp4"
      },
      "execution_count": null,
      "outputs": []
    },
    {
      "cell_type": "markdown",
      "source": [
        "# Diamater of a Tree"
      ],
      "metadata": {
        "id": "lblYkEgBSdYV"
      }
    },
    {
      "cell_type": "code",
      "source": [
        "def diameter(root):\n",
        "    if not root:\n",
        "        return 0\n",
        "    left_height = height(root.left)\n",
        "    right_height = height(root.right)\n",
        "    left_diameter = height(root.left)\n",
        "    right_diameter = height(root.right)\n",
        "    diameter_of_tree = max(left_height + right_height, left_diameter, right_diameter)\n",
        "    return diameter_of_tree\n",
        "diameter(root2)"
      ],
      "metadata": {
        "colab": {
          "base_uri": "https://localhost:8080/"
        },
        "id": "OMGU_yT2SfEu",
        "outputId": "c5898c23-fbea-429e-ca9e-388ebc4a4b8e"
      },
      "execution_count": null,
      "outputs": [
        {
          "output_type": "execute_result",
          "data": {
            "text/plain": [
              "5"
            ]
          },
          "metadata": {},
          "execution_count": 34
        }
      ]
    },
    {
      "cell_type": "markdown",
      "source": [
        "# Diameter of a Tree Optimizied"
      ],
      "metadata": {
        "id": "_Na2OLzuT05z"
      }
    },
    {
      "cell_type": "code",
      "source": [
        "def diameter_opt(root):\n",
        "    if not root:\n",
        "        return 0, 0\n",
        "    left_height, left_diameter = diameter_opt(root.left)\n",
        "    right_height, right_diameter = diameter_opt(root.right)\n",
        "    diameter_root = left_height + right_height\n",
        "    current_height = 1 + max(left_height, right_height)\n",
        "    diamater_of_tree = max(left_height + right_height, left_diameter, right_diameter)\n",
        "    return current_height, diamater_of_tree\n",
        "diameter_opt(root3)"
      ],
      "metadata": {
        "colab": {
          "base_uri": "https://localhost:8080/"
        },
        "id": "Md3PDsIoTNVo",
        "outputId": "24372fb5-b67f-4052-d699-ee5bbbd4e1c4"
      },
      "execution_count": null,
      "outputs": [
        {
          "output_type": "execute_result",
          "data": {
            "text/plain": [
              "(4, 6)"
            ]
          },
          "metadata": {},
          "execution_count": 38
        }
      ]
    },
    {
      "cell_type": "markdown",
      "source": [
        "# Check is a tree is balanced or not"
      ],
      "metadata": {
        "id": "VppiW9PsVMQc"
      }
    },
    {
      "cell_type": "code",
      "source": [
        "def isBalanced_helper(root):\n",
        "    if not root:\n",
        "        return 0, True\n",
        "    left_height, left_balanced = isBalanced_helper(root.left)\n",
        "    right_height, right_balanced = isBalanced_helper(root.right)\n",
        "    current_height = 1 + max(left_height, right_height)\n",
        "    is_balanced = left_balanced and right_balanced and (abs(left_height - right_height) <= 1)\n",
        "    return current_height, is_balanced\n",
        "def isBalanced(root):\n",
        "    return isBalanced_helper(root)[1]\n",
        "isBalanced_helper(root3)"
      ],
      "metadata": {
        "colab": {
          "base_uri": "https://localhost:8080/"
        },
        "id": "5fpzIa7QUz7B",
        "outputId": "5c459d3f-6cdd-44ee-c48d-4223d391c86c"
      },
      "execution_count": null,
      "outputs": [
        {
          "output_type": "execute_result",
          "data": {
            "text/plain": [
              "(4, True)"
            ]
          },
          "metadata": {},
          "execution_count": 49
        }
      ]
    },
    {
      "cell_type": "code",
      "source": [
        "isBalanced_helper(root2)"
      ],
      "metadata": {
        "colab": {
          "base_uri": "https://localhost:8080/"
        },
        "id": "97cSM6fxVqQy",
        "outputId": "5d517349-1349-440f-dc79-e33577d78ae3"
      },
      "execution_count": null,
      "outputs": [
        {
          "output_type": "execute_result",
          "data": {
            "text/plain": [
              "(4, True)"
            ]
          },
          "metadata": {},
          "execution_count": 50
        }
      ]
    },
    {
      "cell_type": "code",
      "source": [
        "isBalanced_helper(root1)"
      ],
      "metadata": {
        "colab": {
          "base_uri": "https://localhost:8080/"
        },
        "id": "WerJiYDjVrnE",
        "outputId": "f1f2a0e3-8e19-4ffa-8a16-5dc837b6abc2"
      },
      "execution_count": null,
      "outputs": [
        {
          "output_type": "execute_result",
          "data": {
            "text/plain": [
              "(3, True)"
            ]
          },
          "metadata": {},
          "execution_count": 47
        }
      ]
    },
    {
      "cell_type": "code",
      "source": [
        "u_tree = take_input_level_wise()"
      ],
      "metadata": {
        "colab": {
          "base_uri": "https://localhost:8080/"
        },
        "id": "OMnXLvAFVsy_",
        "outputId": "accdb658-1aa8-4a78-81cb-f50145f6d917"
      },
      "execution_count": null,
      "outputs": [
        {
          "name": "stdout",
          "output_type": "stream",
          "text": [
            "Enter the data for root node: 1\n",
            "Enter the data for left child of 1: 2\n",
            "Enter the data for right child of 1: -1\n",
            "Enter the data for left child of 2: 3\n",
            "Enter the data for right child of 2: -1\n",
            "Enter the data for left child of 3: 4\n",
            "Enter the data for right child of 3: -1\n",
            "Enter the data for left child of 4: -1\n",
            "Enter the data for right child of 4: -1\n"
          ]
        }
      ]
    },
    {
      "cell_type": "code",
      "source": [
        "isBalanced(u_tree)"
      ],
      "metadata": {
        "colab": {
          "base_uri": "https://localhost:8080/"
        },
        "id": "-E0b_MRRWt58",
        "outputId": "6e588981-4af4-4e22-c319-0ef4dd0b4a4e"
      },
      "execution_count": null,
      "outputs": [
        {
          "output_type": "execute_result",
          "data": {
            "text/plain": [
              "False"
            ]
          },
          "metadata": {},
          "execution_count": 52
        }
      ]
    },
    {
      "cell_type": "markdown",
      "source": [
        "# Pre order Traversal\n",
        "\n",
        "root -> left -> right"
      ],
      "metadata": {
        "id": "THrW40lSvh56"
      }
    },
    {
      "cell_type": "code",
      "source": [
        "def pre_traversal(root):\n",
        "    if not root:\n",
        "        return\n",
        "    print(root.val, end = \" \")\n",
        "    pre_traversal(root.left)\n",
        "    pre_traversal(root.right)\n",
        "pre_traversal(root3)"
      ],
      "metadata": {
        "colab": {
          "base_uri": "https://localhost:8080/"
        },
        "id": "E5NL-lYKvspS",
        "outputId": "93537f92-d44d-452b-fbb3-eca06d64830a"
      },
      "execution_count": null,
      "outputs": [
        {
          "output_type": "stream",
          "name": "stdout",
          "text": [
            "100 200 400 800 900 500 300 600 1000 1100 700 "
          ]
        }
      ]
    },
    {
      "cell_type": "markdown",
      "source": [
        "# In order Traversal\n",
        "left -> root -> right"
      ],
      "metadata": {
        "id": "I75EmdxhwH5m"
      }
    },
    {
      "cell_type": "code",
      "source": [
        "def in_traversal(root):\n",
        "    if not root:\n",
        "        return\n",
        "    in_traversal(root.left)\n",
        "    print(root.val, end = \" \")\n",
        "    in_traversal(root.right)\n",
        "in_traversal(root3)"
      ],
      "metadata": {
        "colab": {
          "base_uri": "https://localhost:8080/"
        },
        "id": "yfWGVnyvwG49",
        "outputId": "0a36c768-4726-4509-bbe0-4557ea64e866"
      },
      "execution_count": null,
      "outputs": [
        {
          "output_type": "stream",
          "name": "stdout",
          "text": [
            "800 400 900 200 500 100 1000 600 1100 300 700 "
          ]
        }
      ]
    },
    {
      "cell_type": "code",
      "source": [
        "def in_traversal(root):\n",
        "    def helper(res = []):\n",
        "        if not root:\n",
        "            return res\n",
        "        ans_from_left = in_traversal(root.left)\n",
        "        res.extend(ans_from_left)\n",
        "        res.append(root.val)\n",
        "        ans_from_right = in_traversal(root.right)\n",
        "        res.extend(ans_from_right)\n",
        "        return res\n",
        "    return helper()\n",
        "\n",
        "in_traversal(root3)"
      ],
      "metadata": {
        "colab": {
          "base_uri": "https://localhost:8080/"
        },
        "id": "1fm4ClnsA-vs",
        "outputId": "d48c2d20-636a-4014-87f2-3f14d996521c"
      },
      "execution_count": null,
      "outputs": [
        {
          "output_type": "execute_result",
          "data": {
            "text/plain": [
              "[800, 400, 900, 200, 500, 100, 1000, 600, 1100, 300, 700]"
            ]
          },
          "metadata": {},
          "execution_count": 20
        }
      ]
    },
    {
      "cell_type": "markdown",
      "source": [
        "# Post Order Traversal"
      ],
      "metadata": {
        "id": "DpkexFUiyOGm"
      }
    },
    {
      "cell_type": "code",
      "source": [
        "def postorder_traversal(root):\n",
        "    if not root:\n",
        "        return\n",
        "    postorder_traversal(root.left)\n",
        "    postorder_traversal(root.right)\n",
        "    print(root.val, end = \" \")\n",
        "postorder_traversal(root3)"
      ],
      "metadata": {
        "colab": {
          "base_uri": "https://localhost:8080/"
        },
        "id": "ti_4IcoNyP_7",
        "outputId": "44726059-5616-48e3-e540-4069f43e9f79"
      },
      "execution_count": null,
      "outputs": [
        {
          "output_type": "stream",
          "name": "stdout",
          "text": [
            "800 900 400 500 200 1000 1100 600 700 300 100 "
          ]
        }
      ]
    },
    {
      "cell_type": "code",
      "source": [
        "#800, 900, 400, 500, 200, 1000, 1100, 600, 700, 300, 100"
      ],
      "metadata": {
        "id": "SEYTCq-yyYOH"
      },
      "execution_count": null,
      "outputs": []
    },
    {
      "cell_type": "code",
      "source": [
        "# Tree3\n",
        "\n",
        "\n",
        "\n",
        "#                   100\n",
        "\n",
        "#           /                \\\n",
        "#         200               300\n",
        "\n",
        "#      /      \\          /      \\\n",
        "#    400     500       600     700\n",
        "#   /   \\             /   \\\n",
        "# 800  900          1000 1100"
      ],
      "metadata": {
        "id": "12O42pMzWz7E"
      },
      "execution_count": null,
      "outputs": []
    },
    {
      "cell_type": "markdown",
      "source": [
        "# Construct a Tree from Inorder and Preorder"
      ],
      "metadata": {
        "id": "V2PazOEByth4"
      }
    },
    {
      "cell_type": "code",
      "source": [
        "#in   4     2      5      1     3      6\n",
        "\n",
        "#pre  1     2      4      5     3      6\n",
        "\n",
        "def build_tree(pre, io):\n",
        "    return helper(pre, io, 0, len(io) - 1, 0, len(pre) - 1)\n",
        "\n",
        "def helper(pre, io, inS, inE, prS, prE):\n",
        "    if inS > inE or prS > prE:\n",
        "        return\n",
        "    print(\"IS:\",inS, \"IE:\",inE, \"PS:\",prS, \"PE:\", prE )\n",
        "    root_data = pre[prS]\n",
        "    root = TreeNode(root_data)\n",
        "    i = 0\n",
        "    while io[i] != root_data:\n",
        "        i += 1\n",
        "    inorder_root_index = i\n",
        "    linS = inS\n",
        "    linE = inorder_root_index - 1\n",
        "    lprS = prS+1\n",
        "    lprE = (linE - linS) + lprS\n",
        "    rprS = lprE + 1\n",
        "    rinS = inorder_root_index + 1\n",
        "    rinE = inE\n",
        "    rprE = prE\n",
        "    #if lprS <= lprE:\n",
        "    root.left = helper(pre, io, linS, linE, lprS, lprE)\n",
        "    #if rprS <= rprE:\n",
        "    root.right = helper(pre, io, rinS, rinE, rprS, rprE )\n",
        "    return root\n",
        "\n",
        "a = build_tree([1,2,4,5,3,6], [4,2,5,1,3,6])\n",
        "print_binary_tree_level_wise(a)\n"
      ],
      "metadata": {
        "id": "qGXhp793zKYu",
        "colab": {
          "base_uri": "https://localhost:8080/"
        },
        "outputId": "eb8de942-497e-4007-ab82-66bc31c2e83f"
      },
      "execution_count": null,
      "outputs": [
        {
          "output_type": "stream",
          "name": "stdout",
          "text": [
            "IS: 0 IE: 5 PS: 0 PE: 5\n",
            "IS: 0 IE: 2 PS: 1 PE: 3\n",
            "IS: 0 IE: 0 PS: 2 PE: 2\n",
            "IS: 2 IE: 2 PS: 3 PE: 3\n",
            "IS: 4 IE: 5 PS: 4 PE: 5\n",
            "IS: 5 IE: 5 PS: 5 PE: 5\n",
            "1 L->2,R->3\n",
            "2 L->4,R->5\n",
            "3 L->None,R->6\n",
            "4 L->None,R->None\n",
            "5 L->None,R->None\n",
            "6 L->None,R->None\n"
          ]
        }
      ]
    },
    {
      "cell_type": "markdown",
      "source": [
        "# Build Tree From Inorder Postorder"
      ],
      "metadata": {
        "id": "BRd4K3uc4YfR"
      }
    },
    {
      "cell_type": "code",
      "source": [
        "#in   4     2      5      1     3      6\n",
        "\n",
        "#pos  4     5      2      6     3      1\n",
        "def build_tree2(pos, ino, inS, inE, poS, poE):\n",
        "    if inS > inE or poS > poE:\n",
        "        return\n",
        "    root_data = pos[poE]\n",
        "    root = TreeNode(root_data)\n",
        "    linS = inS\n",
        "    i = 0\n",
        "    while ino[i] != root_data:\n",
        "        i +=1\n",
        "    inorder_root_index = i\n",
        "    linE = inorder_root_index - 1\n",
        "    lpoS = poS\n",
        "    lpoE = lpoS + (linE - linS)\n",
        "    rinS = inorder_root_index + 1\n",
        "    rinE = inE\n",
        "    rpoE = poE - 1\n",
        "    rpoS = lpoE + 1\n",
        "    root.left = build_tree2(pos, ino, linS, linE, lpoS, lpoE)\n",
        "    root.right = build_tree2(pos, ino, rinS, rinE, rpoS, rpoE)\n",
        "    return root\n",
        "ptree = build_tree2([4,5,2,6,3,1],[4,2,5,1,3,6], 0, 5, 0, 5)\n",
        "\n",
        "print_binary_tree_level_wise(ptree)"
      ],
      "metadata": {
        "colab": {
          "base_uri": "https://localhost:8080/"
        },
        "id": "VYZKOEn75mJF",
        "outputId": "209dfdc9-bfcd-4cd1-eaa0-d266ceb47ce1"
      },
      "execution_count": null,
      "outputs": [
        {
          "output_type": "stream",
          "name": "stdout",
          "text": [
            "1 L->2,R->3\n",
            "2 L->4,R->5\n",
            "3 L->None,R->6\n",
            "4 L->None,R->None\n",
            "5 L->None,R->None\n",
            "6 L->None,R->None\n"
          ]
        }
      ]
    },
    {
      "cell_type": "code",
      "source": [
        "print(ptree)"
      ],
      "metadata": {
        "colab": {
          "base_uri": "https://localhost:8080/",
          "height": 141
        },
        "id": "jTJezooX8EVG",
        "outputId": "2589d70d-ba31-41d6-f8d1-2faaaeaa7211"
      },
      "execution_count": null,
      "outputs": [
        {
          "output_type": "error",
          "ename": "NameError",
          "evalue": "name 'ptree' is not defined",
          "traceback": [
            "\u001b[0;31m---------------------------------------------------------------------------\u001b[0m",
            "\u001b[0;31mNameError\u001b[0m                                 Traceback (most recent call last)",
            "\u001b[0;32m<ipython-input-1-b15b81254cb0>\u001b[0m in \u001b[0;36m<cell line: 0>\u001b[0;34m()\u001b[0m\n\u001b[0;32m----> 1\u001b[0;31m \u001b[0mprint\u001b[0m\u001b[0;34m(\u001b[0m\u001b[0mptree\u001b[0m\u001b[0;34m)\u001b[0m\u001b[0;34m\u001b[0m\u001b[0;34m\u001b[0m\u001b[0m\n\u001b[0m",
            "\u001b[0;31mNameError\u001b[0m: name 'ptree' is not defined"
          ]
        }
      ]
    },
    {
      "cell_type": "code",
      "source": [
        "    #         1\n",
        "\n",
        "    #      /     \\\n",
        "\n",
        "    #    2         3\n",
        "    #  /  \\         \\\n",
        "    # 4    5         6\n",
        "\n",
        "    #inorder   4 2 5 1 3 6\n",
        "    #preorder  1 2 4 5 3 6\n",
        "    #postorder 4 5 2 6 3 1\n",
        "\n"
      ],
      "metadata": {
        "id": "Z1hc-OZOy1Ox"
      },
      "execution_count": null,
      "outputs": []
    },
    {
      "cell_type": "markdown",
      "source": [
        "# Check if Two Trees are same or not"
      ],
      "metadata": {
        "id": "9uVmIll3oACf"
      }
    },
    {
      "cell_type": "code",
      "source": [
        "def is_same_tree(p, q):\n",
        "    if not p and not q:\n",
        "        return True\n",
        "    if not p or not q:\n",
        "        return False\n",
        "    if p.val != q.val:\n",
        "        return False\n",
        "    return is_same_tree(p.left, q.left) and is_same_tree(p.right, q.right)\n",
        "is_same_tree(root1, root2)\n"
      ],
      "metadata": {
        "id": "Qjn96VOTywrV",
        "colab": {
          "base_uri": "https://localhost:8080/"
        },
        "outputId": "9f14e5f0-4e37-48b9-e26b-8595d3819b42"
      },
      "execution_count": null,
      "outputs": [
        {
          "output_type": "execute_result",
          "data": {
            "text/plain": [
              "False"
            ]
          },
          "metadata": {},
          "execution_count": 14
        }
      ]
    },
    {
      "cell_type": "markdown",
      "source": [
        "# Sum of Left Leaves"
      ],
      "metadata": {
        "id": "_wKlf4NgI6Ra"
      }
    },
    {
      "cell_type": "code",
      "source": [
        "root = TreeNode(3)\n",
        "root.left = TreeNode(9)\n",
        "root.right = TreeNode(20)\n",
        "root.right.left = TreeNode(15)\n",
        "root.right.right = TreeNode(7)\n",
        "print_binary_tree_level_wise(root)"
      ],
      "metadata": {
        "id": "03uCSqGhA7Qi",
        "colab": {
          "base_uri": "https://localhost:8080/"
        },
        "outputId": "9391a7e7-2f83-479c-f0e8-273ede30dfeb"
      },
      "execution_count": null,
      "outputs": [
        {
          "output_type": "stream",
          "name": "stdout",
          "text": [
            "3 L->9,R->20\n",
            "9 L->None,R->None\n",
            "20 L->15,R->7\n",
            "15 L->None,R->None\n",
            "7 L->None,R->None\n"
          ]
        }
      ]
    },
    {
      "cell_type": "code",
      "source": [
        "root2 = TreeNode(1)\n",
        "root2.left = TreeNode(2)\n",
        "root2.left.left = TreeNode(4)\n",
        "root2.right = TreeNode(3)\n",
        "root2.right.right = TreeNode(5)"
      ],
      "metadata": {
        "id": "nqbvuS7PMmWa"
      },
      "execution_count": null,
      "outputs": []
    },
    {
      "cell_type": "code",
      "source": [
        "def sum_of_left_leaves(root):\n",
        "    def helper(root, summ = 0):\n",
        "        if not root or not root.left:\n",
        "            return 0\n",
        "        summ += helper(root.left, summ)\n",
        "        summ += helper(root.right, summ)\n",
        "        if root.left and not root.left.left and not root.left.right:\n",
        "           summ += root.left.val\n",
        "        return summ\n",
        "    return helper(root)\n",
        "sum_of_left_leaves(root)"
      ],
      "metadata": {
        "colab": {
          "base_uri": "https://localhost:8080/"
        },
        "id": "Aj5E1HrCKfkY",
        "outputId": "7ff4b4e6-33c0-45d3-80dc-96dddbfdc9d5"
      },
      "execution_count": null,
      "outputs": [
        {
          "output_type": "execute_result",
          "data": {
            "text/plain": [
              "24"
            ]
          },
          "metadata": {},
          "execution_count": 47
        }
      ]
    },
    {
      "cell_type": "code",
      "source": [
        "def sum_of_left_leaves(root):\n",
        "    summ = 0\n",
        "    if not root:\n",
        "        return 0\n",
        "    summ += sum_of_left_leaves(root.left)\n",
        "    summ += sum_of_left_leaves(root.right)\n",
        "    if root.left and not root.left.left and not root.left.right:\n",
        "        summ += root.left.val\n",
        "    return summ\n",
        "sum_of_left_leaves(root)"
      ],
      "metadata": {
        "colab": {
          "base_uri": "https://localhost:8080/"
        },
        "id": "VGk8f92yJnVw",
        "outputId": "693e4267-7906-467a-854a-87c14c50da46"
      },
      "execution_count": null,
      "outputs": [
        {
          "output_type": "execute_result",
          "data": {
            "text/plain": [
              "24"
            ]
          },
          "metadata": {},
          "execution_count": 48
        }
      ]
    },
    {
      "cell_type": "markdown",
      "source": [
        "# Binary Tree Right Side View"
      ],
      "metadata": {
        "id": "nvULOnBDTUUB"
      }
    },
    {
      "cell_type": "code",
      "source": [
        "r_root = TreeNode(1)\n",
        "r_root.left = TreeNode(2)\n",
        "r_root.left.right = TreeNode(5)\n",
        "r_root.left.right.right = TreeNode(4)\n",
        "r_root.right = TreeNode(3)\n",
        "print_binary_tree_level_wise(r_root)"
      ],
      "metadata": {
        "colab": {
          "base_uri": "https://localhost:8080/"
        },
        "id": "6WbL7s_kTfUX",
        "outputId": "c349813f-65ab-436c-eb3e-81e6187b020f"
      },
      "execution_count": null,
      "outputs": [
        {
          "output_type": "stream",
          "name": "stdout",
          "text": [
            "1 L->2,R->3\n",
            "2 L->None,R->5\n",
            "3 L->None,R->None\n",
            "5 L->None,R->4\n",
            "4 L->None,R->None\n"
          ]
        }
      ]
    },
    {
      "cell_type": "code",
      "source": [
        "from collections import deque\n",
        "def rightSideView(root):\n",
        "    rightView = []\n",
        "    if not root:\n",
        "        return rightView\n",
        "    queue = deque([root])\n",
        "    while queue:\n",
        "        level_size = len(queue)\n",
        "        for i in range(level_size):\n",
        "            node = queue.popleft()\n",
        "            if i == level_size - 1:\n",
        "                rightView.append(node.val)\n",
        "            if node.left:\n",
        "                queue.append(node.left)\n",
        "            if node.right:\n",
        "                queue.append(node.right)\n",
        "    return rightView\n",
        "rightSideView(r_root)\n"
      ],
      "metadata": {
        "colab": {
          "base_uri": "https://localhost:8080/"
        },
        "id": "naSSJk1HKHqZ",
        "outputId": "8cfb94b1-620e-4eb3-d399-137d2bf6215b"
      },
      "execution_count": null,
      "outputs": [
        {
          "output_type": "execute_result",
          "data": {
            "text/plain": [
              "[1, 3, 5, 4]"
            ]
          },
          "metadata": {},
          "execution_count": 54
        }
      ]
    },
    {
      "cell_type": "code",
      "source": [],
      "metadata": {
        "id": "TlpH8TBWUSPg"
      },
      "execution_count": null,
      "outputs": []
    }
  ]
}