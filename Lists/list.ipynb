{
 "cells": [
  {
   "cell_type": "markdown",
   "metadata": {},
   "source": [
    "### Maximum Element in a List"
   ]
  },
  {
   "cell_type": "code",
   "execution_count": 27,
   "metadata": {},
   "outputs": [
    {
     "data": {
      "text/plain": [
       "9"
      ]
     },
     "execution_count": 27,
     "metadata": {},
     "output_type": "execute_result"
    }
   ],
   "source": [
    "def find_max_element(lst):\n",
    "    max_element = lst[0]\n",
    "    for i in range(1, len(lst)):\n",
    "        if lst[i] > max_element:\n",
    "            max_element = lst[i]\n",
    "    return max_element\n",
    "find_max_element([3, 5, 2, 9, 6])"
   ]
  },
  {
   "cell_type": "markdown",
   "metadata": {},
   "source": [
    "### Sum of Elements in a List"
   ]
  },
  {
   "cell_type": "code",
   "execution_count": 28,
   "metadata": {},
   "outputs": [
    {
     "data": {
      "text/plain": [
       "-10"
      ]
     },
     "execution_count": 28,
     "metadata": {},
     "output_type": "execute_result"
    }
   ],
   "source": [
    "def sum_of_elements(lst):\n",
    "    summ = 0\n",
    "    for i in range(len(lst)):\n",
    "        summ += lst[i]\n",
    "    return summ\n",
    "sum_of_elements( [-1, -2, -3, -4])"
   ]
  },
  {
   "cell_type": "markdown",
   "metadata": {},
   "source": [
    "### Palindrome List"
   ]
  },
  {
   "cell_type": "code",
   "execution_count": 29,
   "metadata": {},
   "outputs": [
    {
     "name": "stdout",
     "output_type": "stream",
     "text": [
      "True\n",
      "False\n",
      "True\n"
     ]
    }
   ],
   "source": [
    "def is_palindrome(lst):\n",
    "    start = 0\n",
    "    end = len(lst)-1\n",
    "    while start < end:\n",
    "        if lst[start] != lst[end]:\n",
    "            return False\n",
    "        start +=1\n",
    "        end -=1\n",
    "    return True\n",
    "print(is_palindrome([7, 8, 9, 8, 7]))\n",
    "print(is_palindrome([1, 2, 3, 4, 5]))\n",
    "print(is_palindrome([1, 2, 3, 2, 1]))"
   ]
  },
  {
   "cell_type": "markdown",
   "metadata": {},
   "source": [
    "### Reverse a List"
   ]
  },
  {
   "cell_type": "code",
   "execution_count": 30,
   "metadata": {},
   "outputs": [
    {
     "name": "stdout",
     "output_type": "stream",
     "text": [
      "[5, 4, 3, 2, 1]\n",
      "[30, 20, 10]\n",
      "[9, 8, 7]\n"
     ]
    }
   ],
   "source": [
    "def reverse_list(lst):\n",
    "    start = 0\n",
    "    end = len(lst) - 1\n",
    "    while start < end:\n",
    "        lst[start], lst[end] = lst[end], lst[start]\n",
    "        start +=1\n",
    "        end -=1\n",
    "    return lst\n",
    "print(reverse_list([1, 2, 3, 4, 5]))\n",
    "print(reverse_list([10, 20, 30]))\n",
    "print(reverse_list([7,8,9]))"
   ]
  },
  {
   "cell_type": "markdown",
   "metadata": {},
   "source": [
    "### Rotate List"
   ]
  },
  {
   "cell_type": "code",
   "execution_count": 31,
   "metadata": {},
   "outputs": [
    {
     "name": "stdout",
     "output_type": "stream",
     "text": [
      "[4, 5, 1, 2, 3]\n",
      "[30, 40, 50, 10, 20]\n",
      "[10, 7, 8, 9]\n"
     ]
    }
   ],
   "source": [
    "def rotate_left(arr, d):\n",
    "    for i in range(d):\n",
    "        last_element = arr.pop()\n",
    "        arr.insert(0, last_element)\n",
    "    return arr\n",
    "print(rotate_left([1, 2, 3, 4, 5], 2))\n",
    "print(rotate_left([10, 20, 30, 40, 50], 3))\n",
    "print(rotate_left([7, 8, 9, 10], 1))"
   ]
  },
  {
   "cell_type": "markdown",
   "metadata": {},
   "source": [
    "### Plus One in the number"
   ]
  },
  {
   "cell_type": "code",
   "execution_count": 32,
   "metadata": {},
   "outputs": [
    {
     "name": "stdout",
     "output_type": "stream",
     "text": [
      "[7, 0, 0]\n"
     ]
    }
   ],
   "source": [
    "def plus_one(digits):\n",
    "    last_ind = len(digits) - 1\n",
    "    for i in range(last_ind, -1, -1):\n",
    "        if digits[i] < 9:\n",
    "            digits[i] += 1\n",
    "            return digits\n",
    "        digits[i] = 0\n",
    "    return [1] + digits\n",
    "\n",
    "print(plus_one([6, 9, 9]))"
   ]
  },
  {
   "cell_type": "markdown",
   "metadata": {},
   "source": [
    "### Missing Number"
   ]
  },
  {
   "cell_type": "code",
   "execution_count": 33,
   "metadata": {},
   "outputs": [
    {
     "name": "stdout",
     "output_type": "stream",
     "text": [
      "5\n",
      "2\n"
     ]
    }
   ],
   "source": [
    "def find_missing_number(nums):\n",
    "    for i in range(0, len(nums)+1):\n",
    "        if i not in nums:\n",
    "            return i\n",
    "print(find_missing_number([8, 7, 6, 4, 3, 2, 0, 1]))\n",
    "print(find_missing_number([3, 0, 1]))"
   ]
  },
  {
   "cell_type": "code",
   "execution_count": 34,
   "metadata": {},
   "outputs": [
    {
     "name": "stdout",
     "output_type": "stream",
     "text": [
      "False\n",
      "False\n",
      "True\n"
     ]
    }
   ],
   "source": [
    "def is_sorted(arr):\n",
    "    for i in range(len(arr)-1):\n",
    "        if arr[i] > arr[i+1]:\n",
    "            return False\n",
    "    return True\n",
    "print(is_sorted([5, 4, 3, 2, 1]))\n",
    "print(is_sorted([1, 3, 2, 4, 5]))\n",
    "print(is_sorted([1, 2, 3, 4, 5]))"
   ]
  },
  {
   "cell_type": "markdown",
   "metadata": {},
   "source": [
    "### Move Zeroes"
   ]
  },
  {
   "cell_type": "code",
   "execution_count": 18,
   "metadata": {},
   "outputs": [
    {
     "name": "stdout",
     "output_type": "stream",
     "text": [
      "[1, 3, 12, 0, 0]\n",
      "[1, 0, 0]\n",
      "[4, 2, 4, 3, 5, 1, 0, 0, 0, 0]\n"
     ]
    }
   ],
   "source": [
    "def move_zeroes(nums):\n",
    "    for i in range(len(nums)):\n",
    "        if nums[i] == 0:\n",
    "            nums.remove(nums[i])\n",
    "            nums.append(0)\n",
    "    return nums\n",
    "print(move_zeroes([0, 1, 0, 3, 12]))\n",
    "print(move_zeroes([0, 0, 1]))\n",
    "print(move_zeroes([4, 2, 4, 0, 0, 3, 0, 5, 1, 0]))"
   ]
  },
  {
   "cell_type": "markdown",
   "metadata": {},
   "source": [
    "### Intersection of Two Lists"
   ]
  },
  {
   "cell_type": "code",
   "execution_count": 21,
   "metadata": {},
   "outputs": [
    {
     "name": "stdout",
     "output_type": "stream",
     "text": [
      "[]\n",
      "[2]\n",
      "[9, 4]\n"
     ]
    }
   ],
   "source": [
    "def intersection(nums1, nums2):\n",
    "    intersec = []\n",
    "    for ele in nums2:\n",
    "        if ele in nums1 and ele not in intersec:\n",
    "            intersec.append(ele)\n",
    "    return intersec\n",
    "print(intersection([1, 2, 3], [4, 5, 6]))\n",
    "print(intersection([1,2,2,1],[2,2]))\n",
    "print(intersection([4,5,9],[9,4,9,8,4]))"
   ]
  },
  {
   "cell_type": "markdown",
   "metadata": {},
   "source": [
    "### Max Consecutive One's"
   ]
  },
  {
   "cell_type": "code",
   "execution_count": 26,
   "metadata": {},
   "outputs": [
    {
     "name": "stdout",
     "output_type": "stream",
     "text": [
      "0\n",
      "4\n",
      "3\n"
     ]
    }
   ],
   "source": [
    "def find_max_consecutive_ones(nums):\n",
    "    curr_count = 0\n",
    "    max_count = 0\n",
    "    for i in range(len(nums)):\n",
    "        if nums[i] == 1:\n",
    "            curr_count +=1\n",
    "        else:\n",
    "            if curr_count > max_count:\n",
    "                max_count = curr_count\n",
    "                curr_count = 0\n",
    "    return max(max_count, curr_count)\n",
    "\n",
    "print(find_max_consecutive_ones([0, 0, 0, 0]))\n",
    "print(find_max_consecutive_ones([1,0,1,1,0,1,1,1,1]))\n",
    "print(find_max_consecutive_ones([1, 1, 0, 1, 1, 1]))"
   ]
  },
  {
   "cell_type": "markdown",
   "metadata": {},
   "source": [
    "### Maximum Subarray Sum"
   ]
  },
  {
   "cell_type": "code",
   "execution_count": null,
   "metadata": {},
   "outputs": [],
   "source": [
    "def max_subarray_sum(arr):\n",
    "    if len(arr) == 0:\n",
    "        return 0\n",
    "    max_current = arr[0]\n",
    "    max_global = arr[0]\n",
    "    for i in range(1, len(arr)):\n",
    "        max_current = max(arr[i], max_current + arr[i])\n",
    "        if max_current > max_global:\n",
    "            max_global = max_current\n",
    "    return max_global"
   ]
  },
  {
   "cell_type": "code",
   "execution_count": 29,
   "metadata": {},
   "outputs": [
    {
     "name": "stdout",
     "output_type": "stream",
     "text": [
      "6\n",
      "6\n"
     ]
    }
   ],
   "source": [
    "def max_subarray_sum(arr): \n",
    "    if len(arr) == 0:\n",
    "        return 0\n",
    "    max_current = arr[0] \n",
    "    max_global = arr[0] \n",
    "    for i in range(1, len(arr)):\n",
    "        max_current = max(arr[i], max_current + arr[i]) \n",
    "        if max_current > max_global: \n",
    "            max_global = max_current \n",
    "    return max_global\n",
    "\n",
    "print(max_subarray_sum([-2, 1, -3, 4, -1, 2, 1, -5, 4]))"
   ]
  },
  {
   "cell_type": "markdown",
   "metadata": {},
   "source": [
    "### Pascal Triangle"
   ]
  },
  {
   "cell_type": "code",
   "execution_count": 43,
   "metadata": {},
   "outputs": [
    {
     "data": {
      "text/plain": [
       "[[1],\n",
       " [1, 1],\n",
       " [1, 2, 1],\n",
       " [1, 3, 3, 1],\n",
       " [1, 4, 6, 4, 1],\n",
       " [1, 5, 10, 10, 5, 1],\n",
       " [1, 6, 15, 20, 15, 6, 1],\n",
       " [1, 7, 21, 35, 35, 21, 7, 1],\n",
       " [1, 8, 28, 56, 70, 56, 28, 8, 1],\n",
       " [1, 9, 36, 84, 126, 126, 84, 36, 9, 1]]"
      ]
     },
     "execution_count": 43,
     "metadata": {},
     "output_type": "execute_result"
    }
   ],
   "source": [
    "def generate(numRows):\n",
    "    pascals = [[1]]\n",
    "    if numRows == 1:\n",
    "        return pascals\n",
    "    for i in range(1, numRows):\n",
    "        l = []\n",
    "        for j in range(0, i+1):\n",
    "            if j in [0,i]:\n",
    "                l.append(1)\n",
    "            else:\n",
    "                l.append(pascals[i-1][j-1] + pascals[i-1][j])\n",
    "        pascals.append(l)\n",
    "    return pascals\n",
    "generate(10)\n"
   ]
  },
  {
   "cell_type": "code",
   "execution_count": 41,
   "metadata": {},
   "outputs": [
    {
     "name": "stdout",
     "output_type": "stream",
     "text": [
      "[[1], [1, 1], [1, 2, 1], [1, 3, 3, 1], [1, 4, 6, 4, 1]]\n"
     ]
    }
   ],
   "source": [
    "def pascal(numRows): # 5\n",
    "    pascals = [[1]]\n",
    "    if numRows == 1:\n",
    "        return pascals\n",
    "    for i in range(1, numRows): # 3\n",
    "        l = []\n",
    "        for j in range(0, i+1): #0, 1\n",
    "            if j in [0, i]:\n",
    "                l.append(1) #[1]\n",
    "            else:\n",
    "                l.append(pascals[i-1][j-1] + pascals[i-1][j])\n",
    "        pascals.append(l)\n",
    "    return pascals\n",
    "print(pascal(5))\n",
    "\n"
   ]
  },
  {
   "cell_type": "markdown",
   "metadata": {},
   "source": [
    "### Rotate Image"
   ]
  },
  {
   "cell_type": "code",
   "execution_count": 58,
   "metadata": {},
   "outputs": [
    {
     "data": {
      "text/plain": [
       "[[15, 13, 2, 5], [14, 3, 4, 1], [12, 6, 8, 9], [16, 7, 10, 11]]"
      ]
     },
     "execution_count": 58,
     "metadata": {},
     "output_type": "execute_result"
    }
   ],
   "source": [
    "def rotate(matrix):\n",
    "    n = len(matrix)\n",
    "    for i in range(n):\n",
    "        for j in range(i, len(matrix[i])):\n",
    "            matrix[i][j], matrix[j][i] = matrix[j][i], matrix[i][j]\n",
    "    for i in range(n):\n",
    "        matrix[i].reverse()\n",
    "    return matrix\n",
    "rotate([[5, 1, 9, 11],\n",
    "                 [2, 4, 8, 10],\n",
    "                 [13, 3, 6, 7],\n",
    "                 [15, 14, 12, 16]])"
   ]
  },
  {
   "cell_type": "code",
   "execution_count": 57,
   "metadata": {},
   "outputs": [
    {
     "data": {
      "text/plain": [
       "[[15, 13, 2, 5], [14, 3, 4, 1], [12, 6, 8, 9], [16, 7, 10, 11]]"
      ]
     },
     "execution_count": 57,
     "metadata": {},
     "output_type": "execute_result"
    }
   ],
   "source": [
    "def rotate(matrix):\n",
    "    for i in range(len(matrix)):#(0, 4), 0, 1, 2\n",
    "        for j in range(i, len(matrix[i])): #(0, 4), 0, 1, 2, 3\n",
    "            matrix[i][j], matrix[j][i] = matrix[j][i], matrix[i][j] #matrix\n",
    "    for i in range(len(matrix)):\n",
    "        matrix[i].reverse()\n",
    "    return matrix\n",
    "rotate([[5, 1, 9, 11],\n",
    "                 [2, 4, 8, 10],\n",
    "                 [13, 3, 6, 7],\n",
    "                 [15, 14, 12, 16]])\n",
    "\n",
    "                # [[5, 2, 13, 15],\n",
    "                #  [1, 4, 3, 14],\n",
    "                #  [9, 8, 6, 12],\n",
    "                #  [11, 10, 7, 16]]\n",
    "\n",
    "#[2,3], [3, 2] = [3, 2], [2,3]\n",
    "#7,     12    = 12, 7"
   ]
  },
  {
   "cell_type": "markdown",
   "metadata": {},
   "source": [
    "### Matrix obtained by Rotation or not?"
   ]
  },
  {
   "cell_type": "code",
   "execution_count": 60,
   "metadata": {},
   "outputs": [
    {
     "data": {
      "text/plain": [
       "[[9, 8, 7], [6, 5, 4], [3, 2, 1]]"
      ]
     },
     "execution_count": 60,
     "metadata": {},
     "output_type": "execute_result"
    }
   ],
   "source": [
    "def rotate_90(matrix):\n",
    "    n = len(matrix)\n",
    "    for i in range(n):\n",
    "        for j in range(i, n):\n",
    "            matrix[i][j], matrix[j][i] = matrix[j][i], matrix[i][j]\n",
    "    for i in range(n):\n",
    "        matrix[i].reverse()\n",
    "    return matrix\n",
    "a = rotate_90([[1,2,3], [4,5,6], [7, 8, 9]])\n",
    "b = rotate_90(a)\n",
    "b"
   ]
  },
  {
   "cell_type": "code",
   "execution_count": 61,
   "metadata": {},
   "outputs": [
    {
     "data": {
      "text/plain": [
       "[[9, 8, 7], [6, 5, 4], [3, 2, 1]]"
      ]
     },
     "execution_count": 61,
     "metadata": {},
     "output_type": "execute_result"
    }
   ],
   "source": [
    "def rotate_180(matrix):\n",
    "    start = 0\n",
    "    end = len(matrix) - 1\n",
    "    while start < end:\n",
    "        matrix[start], matrix[end] = matrix[end], matrix[start]\n",
    "        start += 1\n",
    "        end -=1\n",
    "    for i in range(len(matrix)):\n",
    "        matrix[i].reverse()\n",
    "    return matrix\n",
    "rotate_180([[1,2,3],[4,5,6],[7,8,9]])"
   ]
  },
  {
   "cell_type": "code",
   "execution_count": 64,
   "metadata": {},
   "outputs": [
    {
     "data": {
      "text/plain": [
       "[[3, 6, 9], [2, 5, 8], [1, 4, 7]]"
      ]
     },
     "execution_count": 64,
     "metadata": {},
     "output_type": "execute_result"
    }
   ],
   "source": [
    "def rotate_270(matrix):\n",
    "    n = len(matrix)\n",
    "    for i in range(n):\n",
    "        matrix[i].reverse()\n",
    "    for i in range(n):\n",
    "        for j in range(i, n):\n",
    "            matrix[i][j], matrix[j][i] = matrix[j][i], matrix[i][j]\n",
    "    return matrix\n",
    "rotate_270([[1,2,3],[4,5,6],[7,8,9]])"
   ]
  },
  {
   "cell_type": "code",
   "execution_count": 67,
   "metadata": {},
   "outputs": [
    {
     "name": "stdout",
     "output_type": "stream",
     "text": [
      "True\n",
      "False\n"
     ]
    }
   ],
   "source": [
    "def can_be_rotated(mat, target):\n",
    "    funcs = [rotate_90, rotate_180, rotate_270]\n",
    "    for fun in funcs:\n",
    "        if fun(mat) == target:\n",
    "            return True\n",
    "    return False\n",
    "print(can_be_rotated([[0, 0, 0], [0, 1, 0], [1, 1, 1]], [[1, 1, 1], [0, 1, 0], [0, 0, 0]]))\n",
    "print(can_be_rotated([[0, 1], [1, 1]],  [[1, 0], [0, 1]]))"
   ]
  },
  {
   "cell_type": "markdown",
   "metadata": {},
   "source": [
    "### Spiral Matrix"
   ]
  },
  {
   "cell_type": "code",
   "execution_count": 90,
   "metadata": {},
   "outputs": [
    {
     "name": "stdout",
     "output_type": "stream",
     "text": [
      "[1, 2, 3, 4, 5, 6, 12, 18, 24, 30, 29, 28, 27, 26, 25, 19, 13, 7, 8, 9, 10, 11, 17, 23, 22, 21, 20, 14, 15, 16]\n"
     ]
    }
   ],
   "source": [
    "def spiral(m):\n",
    "    top = 0\n",
    "    bottom = len(m) - 1\n",
    "    left = 0\n",
    "    right = len(m[0]) - 1\n",
    "    l = []\n",
    "    while top <= bottom and left <= right:\n",
    "        for i in range(left, right+1):\n",
    "            l.append(m[top][i])\n",
    "        top +=1\n",
    "        for i in range(top, bottom +1):\n",
    "            l.append(m[i][right])\n",
    "        right -= 1\n",
    "        if top <= bottom:\n",
    "            for i in range(right, left-1, -1):\n",
    "                l.append(m[bottom][i])\n",
    "        bottom -=1\n",
    "        if left <= right:\n",
    "            for i in range(bottom, top-1, -1):\n",
    "                l.append(m[i][left]) \n",
    "        left +=1\n",
    "    return l\n",
    "\n",
    "        \n",
    "m1 = [[1,2,3,4,5, 6],\n",
    " [7,8,9,10, 11, 12],\n",
    " [13,14,15, 16, 17, 18],\n",
    " [19,20, 21, 22, 23, 24],\n",
    " [25, 26, 27, 28, 29, 30]]\n",
    "print(spiral(m1))"
   ]
  },
  {
   "cell_type": "code",
   "execution_count": 101,
   "metadata": {},
   "outputs": [
    {
     "data": {
      "text/plain": [
       "False"
      ]
     },
     "execution_count": 101,
     "metadata": {},
     "output_type": "execute_result"
    }
   ],
   "source": [
    "def search_matrix(mat, target):\n",
    "   if not mat or not mat[0]:\n",
    "        return False\n",
    "   rows = len(mat)\n",
    "   cols = len(mat[0])\n",
    "   left, right = 0, rows*cols - 1\n",
    "   while left <= right:\n",
    "      mid = (left + right)//2\n",
    "      row = mid // cols\n",
    "      col = mid % cols\n",
    "      if mat[row][col] == target:\n",
    "         return True\n",
    "      elif mat[row][col] > target:\n",
    "         right = mid - 1\n",
    "      else:\n",
    "         left = mid + 1\n",
    "   return False\n",
    "search_matrix([[1, 3, 5, 7], \n",
    "                 [10, 11, 16, 20], \n",
    "                 [23, 30, 34, 60]],2)"
   ]
  },
  {
   "cell_type": "code",
   "execution_count": 86,
   "metadata": {},
   "outputs": [],
   "source": [
    "def spiral(m):\n",
    "    top = 0\n",
    "    bottom = len(m) - 1\n",
    "    left = 0\n",
    "    right = len(m[0]) - 1\n",
    "    l = []\n",
    "    while top <= bottom and left <= right:\n",
    "        for i in range(left, right+1):\n",
    "            l.append(m[top][i])\n",
    "        top +=1\n",
    "        for i in range(top, bottom+1):\n",
    "            l.append(m[i][right])\n",
    "        right -=1\n",
    "        if top <= bottom:\n",
    "            for i in range(right, left - 1, -1):\n",
    "                l.append(m[bottom][i])\n",
    "        bottom -=1\n",
    "        if left <= right:\n",
    "            for i in range(bottom, top-1, -1):\n",
    "                l.append(m[i][left])\n",
    "        left += 1\n",
    "    print(l)\n"
   ]
  },
  {
   "cell_type": "code",
   "execution_count": 87,
   "metadata": {},
   "outputs": [
    {
     "name": "stdout",
     "output_type": "stream",
     "text": [
      "[1, 2, 3, 4, 5, 10, 15, 20, 19, 18, 17, 16, 11, 6, 7, 8, 9, 14, 13, 12]\n"
     ]
    }
   ],
   "source": [
    "m = [[1,2,3,4,5],\n",
    " [6,7,8,9,10],\n",
    " [11,12,13,14,15],\n",
    " [16, 17, 18, 19, 20]]\n",
    "spiral(m)"
   ]
  },
  {
   "cell_type": "code",
   "execution_count": null,
   "metadata": {},
   "outputs": [],
   "source": []
  },
  {
   "cell_type": "code",
   "execution_count": 66,
   "metadata": {},
   "outputs": [
    {
     "data": {
      "text/plain": [
       "[1, 2, 3, 4, 5, 10, 15, 20, 19, 18, 17, 16, 11, 6, 7, 8, 9, 14, 13, 12]"
      ]
     },
     "execution_count": 66,
     "metadata": {},
     "output_type": "execute_result"
    }
   ],
   "source": [
    "def spiral(matrix):\n",
    "    top = 0\n",
    "    bottom = len(matrix)-1\n",
    "    left = 0\n",
    "    right = len(matrix[0])-1\n",
    "    l = []\n",
    "    while top <= bottom and left <= right:\n",
    "        for i in range(left, right+1):\n",
    "            l.append(matrix[top][i])\n",
    "        top += 1\n",
    "        for j in range(top, bottom+1):\n",
    "            l.append(matrix[j][right])\n",
    "        right -=1\n",
    "        if top <= bottom:\n",
    "            for k in range(right, left-1, -1):\n",
    "                l.append(matrix[bottom][k])\n",
    "        bottom-=1\n",
    "        if left <= right:\n",
    "            for i in range(bottom, top-1, -1):\n",
    "                l.append(matrix[i][left])\n",
    "\n",
    "        left += 1\n",
    "    return l  \n",
    "spiral(m)"
   ]
  },
  {
   "cell_type": "code",
   "execution_count": 49,
   "metadata": {},
   "outputs": [],
   "source": [
    "m = [[1,2,3,4,5],\n",
    " [6,7,8,9,10],\n",
    " [11,12,13,14,15],\n",
    " [16, 17, 18, 19, 20]]"
   ]
  },
  {
   "cell_type": "code",
   "execution_count": 86,
   "metadata": {},
   "outputs": [
    {
     "name": "stdout",
     "output_type": "stream",
     "text": [
      "0 3\n"
     ]
    },
    {
     "data": {
      "text/plain": [
       "[1, 2, 3, 4, 8, 12, 11, 10]"
      ]
     },
     "execution_count": 86,
     "metadata": {},
     "output_type": "execute_result"
    }
   ],
   "source": [
    "def spiral(matrix):\n",
    "    top = 0\n",
    "    bottom = len(matrix)\n",
    "    left = 0\n",
    "    right = len(matrix[0])\n",
    "    lst = []\n",
    "    while top < bottom and left < right:\n",
    "        while left < right :\n",
    "            lst.append(matrix[top][left])\n",
    "            left +=1\n",
    "        left -=1\n",
    "        top+=1\n",
    "        while top < bottom :\n",
    "            lst.append(matrix[top][left])\n",
    "            top += 1\n",
    "        left-=1\n",
    "        while left > 0:\n",
    "            lst.append(matrix[top-1][left])\n",
    "            left-=1\n",
    "        print(left, top)\n",
    "    return lst\n",
    "spiral([[1, 2, 3, 4],\n",
    "                 [5, 6, 7, 8],\n",
    "                 [9, 10, 11, 12]])"
   ]
  },
  {
   "cell_type": "markdown",
   "metadata": {},
   "source": [
    "Input: matrix = [[1, 2, 3, 4],\n",
    "                 [5, 6, 7, 8],\n",
    "                 [9, 10, 11, 12]]\n",
    "Output: [1, 2, 3, 4, 8, 12, 11, 10, 9, 5, 6, 7]"
   ]
  }
 ],
 "metadata": {
  "kernelspec": {
   "display_name": "base",
   "language": "python",
   "name": "python3"
  },
  "language_info": {
   "codemirror_mode": {
    "name": "ipython",
    "version": 3
   },
   "file_extension": ".py",
   "mimetype": "text/x-python",
   "name": "python",
   "nbconvert_exporter": "python",
   "pygments_lexer": "ipython3",
   "version": "3.12.3"
  }
 },
 "nbformat": 4,
 "nbformat_minor": 2
}
