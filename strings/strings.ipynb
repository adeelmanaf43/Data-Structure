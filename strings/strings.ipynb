{
 "cells": [
  {
   "cell_type": "markdown",
   "metadata": {},
   "source": [
    "### Reverse a string"
   ]
  },
  {
   "cell_type": "code",
   "execution_count": 4,
   "metadata": {},
   "outputs": [
    {
     "data": {
      "text/plain": [
       "'olleh'"
      ]
     },
     "execution_count": 4,
     "metadata": {},
     "output_type": "execute_result"
    }
   ],
   "source": [
    "def reverse_string(s):\n",
    "    rev_string = \"\"\n",
    "    for i in range(len(s)-1, -1, -1):\n",
    "        rev_string+=s[i]\n",
    "    return rev_string\n",
    "reverse_string(\"hello\")"
   ]
  },
  {
   "cell_type": "markdown",
   "metadata": {},
   "source": [
    "### Count Vowels in a String"
   ]
  },
  {
   "cell_type": "code",
   "execution_count": 7,
   "metadata": {},
   "outputs": [
    {
     "data": {
      "text/plain": [
       "3"
      ]
     },
     "execution_count": 7,
     "metadata": {},
     "output_type": "execute_result"
    }
   ],
   "source": [
    "def count_vowels(s):\n",
    "    count = 0\n",
    "    for char in s:\n",
    "        if char in \"aeiouAEIOU\":\n",
    "            count +=1\n",
    "    return count\n",
    "count_vowels(\"Hello World\")"
   ]
  },
  {
   "cell_type": "markdown",
   "metadata": {},
   "source": [
    "### Check for Same Strings"
   ]
  },
  {
   "cell_type": "code",
   "execution_count": 9,
   "metadata": {},
   "outputs": [
    {
     "data": {
      "text/plain": [
       "True"
      ]
     },
     "execution_count": 9,
     "metadata": {},
     "output_type": "execute_result"
    }
   ],
   "source": [
    "def are_equal_strings(s, t):\n",
    "    if len(s) != len(t):\n",
    "        return False\n",
    "    for i in range(len(s)):\n",
    "        if s[i] != t[i]:\n",
    "            return False\n",
    "    return True\n",
    "are_equal_strings(\"hello\", \"hello\")"
   ]
  },
  {
   "cell_type": "markdown",
   "metadata": {},
   "source": [
    "### Check Palindrome"
   ]
  },
  {
   "cell_type": "code",
   "execution_count": 13,
   "metadata": {},
   "outputs": [
    {
     "data": {
      "text/plain": [
       "True"
      ]
     },
     "execution_count": 13,
     "metadata": {},
     "output_type": "execute_result"
    }
   ],
   "source": [
    "def is_palindrome(s):\n",
    "    s = \"\".join(s.lower().split())\n",
    "    start = 0\n",
    "    end = len(s) - 1\n",
    "    while start < end:\n",
    "        if s[start] != s[end]:\n",
    "            return False\n",
    "        start +=1\n",
    "        end -= 1\n",
    "    return True\n",
    "is_palindrome(\"A man a plan a canal Panama\")"
   ]
  },
  {
   "cell_type": "markdown",
   "metadata": {},
   "source": [
    "### Remove duplicates from String"
   ]
  },
  {
   "cell_type": "code",
   "execution_count": 15,
   "metadata": {},
   "outputs": [
    {
     "data": {
      "text/plain": [
       "'Helo, Wrd!'"
      ]
     },
     "execution_count": 15,
     "metadata": {},
     "output_type": "execute_result"
    }
   ],
   "source": [
    "def remove_duplicates(s):\n",
    "    new_string = \"\"\n",
    "    for char in s:\n",
    "        if char not in new_string:\n",
    "            new_string+=char\n",
    "    return new_string\n",
    "remove_duplicates(\"Hello, World!\")"
   ]
  },
  {
   "cell_type": "markdown",
   "metadata": {},
   "source": [
    "### Count consonants in a string"
   ]
  },
  {
   "cell_type": "code",
   "execution_count": 16,
   "metadata": {},
   "outputs": [
    {
     "data": {
      "text/plain": [
       "13"
      ]
     },
     "execution_count": 16,
     "metadata": {},
     "output_type": "execute_result"
    }
   ],
   "source": [
    "def count_consonants(s):\n",
    "    vowels = \"aeiouAEIOU\"\n",
    "    count = 0\n",
    "    for char in s:\n",
    "        if char not in vowels and char.isalpha():\n",
    "            count+=1\n",
    "    return count\n",
    "count_consonants(\"Python Programming\")"
   ]
  },
  {
   "cell_type": "markdown",
   "metadata": {},
   "source": [
    "### Check for anagrams"
   ]
  },
  {
   "cell_type": "code",
   "execution_count": 17,
   "metadata": {},
   "outputs": [
    {
     "data": {
      "text/plain": [
       "True"
      ]
     },
     "execution_count": 17,
     "metadata": {},
     "output_type": "execute_result"
    }
   ],
   "source": [
    "def is_anagram(s, t):\n",
    "    if len(s) != len(t):\n",
    "        return False\n",
    "    for i in range(len(s)):\n",
    "        if s[i] not in t:\n",
    "            return False\n",
    "    return True\n",
    "is_anagram(\"anagram\", \"nagaram\")"
   ]
  },
  {
   "cell_type": "markdown",
   "metadata": {},
   "source": [
    "### Check Subsequence"
   ]
  },
  {
   "cell_type": "code",
   "execution_count": 30,
   "metadata": {},
   "outputs": [
    {
     "data": {
      "text/plain": [
       "True"
      ]
     },
     "execution_count": 30,
     "metadata": {},
     "output_type": "execute_result"
    }
   ],
   "source": [
    "def is_subsequence(s, t):\n",
    "    if len(t) > len(s):\n",
    "        return False\n",
    "    elif len(s) == len(t) and s == t:\n",
    "        return True\n",
    "    else:\n",
    "        for i in range(1, len(t)):\n",
    "            if t[i-1] not in s or not s.index(t[i-1]) < s.index(t[i]):\n",
    "                return False\n",
    "        return True\n",
    "is_subsequence(\"abcde\", \"abc\")"
   ]
  },
  {
   "cell_type": "markdown",
   "metadata": {},
   "source": [
    "### Check for Substring"
   ]
  },
  {
   "cell_type": "code",
   "execution_count": 37,
   "metadata": {},
   "outputs": [
    {
     "data": {
      "text/plain": [
       "False"
      ]
     },
     "execution_count": 37,
     "metadata": {},
     "output_type": "execute_result"
    }
   ],
   "source": [
    "def is_substring(s, t):\n",
    "    if s == t:\n",
    "        return True\n",
    "    if t[0] not in s:\n",
    "        return False\n",
    "    start = s.index(t[0])\n",
    "    end = s.index(t[-1])\n",
    "    print(start)\n",
    "    s = s[start:end+1]\n",
    "    return s == t\n",
    "is_substring(\"Hello world\", \"Ali\")"
   ]
  },
  {
   "cell_type": "markdown",
   "metadata": {},
   "source": [
    "### Length of the Longest Word"
   ]
  },
  {
   "cell_type": "code",
   "execution_count": 38,
   "metadata": {},
   "outputs": [],
   "source": [
    "s = \"The quick brown fox jumps over the lazy dog\""
   ]
  },
  {
   "cell_type": "code",
   "execution_count": 46,
   "metadata": {},
   "outputs": [
    {
     "data": {
      "text/plain": [
       "6"
      ]
     },
     "execution_count": 46,
     "metadata": {},
     "output_type": "execute_result"
    }
   ],
   "source": [
    "def longest_word_length(s):\n",
    "    max_len = 0\n",
    "    length = 0\n",
    "    if not \" \" in s:\n",
    "        return len(s)\n",
    "    for char in s:\n",
    "        if char != \" \":\n",
    "            length+=1\n",
    "        elif char == \" \" or char == s[-1]:\n",
    "            print(\"yes\")\n",
    "            if max_len < length:\n",
    "                max_len = length\n",
    "            length = 0\n",
    "    return max_len\n",
    "longest_word_length(\"Adeela\")"
   ]
  }
 ],
 "metadata": {
  "kernelspec": {
   "display_name": "base",
   "language": "python",
   "name": "python3"
  },
  "language_info": {
   "codemirror_mode": {
    "name": "ipython",
    "version": 3
   },
   "file_extension": ".py",
   "mimetype": "text/x-python",
   "name": "python",
   "nbconvert_exporter": "python",
   "pygments_lexer": "ipython3",
   "version": "3.12.3"
  }
 },
 "nbformat": 4,
 "nbformat_minor": 2
}
