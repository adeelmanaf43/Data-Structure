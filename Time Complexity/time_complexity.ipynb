{
 "cells": [
  {
   "cell_type": "markdown",
   "metadata": {
    "vscode": {
     "languageId": "plaintext"
    }
   },
   "source": [
    "# Complexity Analysis"
   ]
  },
  {
   "cell_type": "markdown",
   "metadata": {},
   "source": [
    "### Complexity\n",
    "A factor involved in complicated process or situation."
   ]
  },
  {
   "cell_type": "markdown",
   "metadata": {},
   "source": [
    "If we have written a code/solution to a problem, we want to figure out how good or bad is the solution.\n",
    "\n",
    "how good or bad w.r.t to time and space."
   ]
  },
  {
   "cell_type": "markdown",
   "metadata": {},
   "source": [
    "### Intro To Time Complexity\n",
    "\n",
    "\n",
    "Can you tell the time complexity of code you have written?\n",
    "\n",
    "Can you improve the complexity?\n",
    "\n",
    "I have written an algo.\n",
    "\n",
    "An array of size = 10 (n = 10)\n",
    "\n",
    "An array of size = 1000 (n = 1000)\n",
    "\n",
    "Algo -> T(n) (n is input)\n",
    "\n"
   ]
  },
  {
   "cell_type": "markdown",
   "metadata": {},
   "source": [
    "### Merge Sort"
   ]
  },
  {
   "cell_type": "code",
   "execution_count": 5,
   "metadata": {},
   "outputs": [
    {
     "name": "stdout",
     "output_type": "stream",
     "text": [
      "Time taken to sort an array of size 10: 998000 nanoseconds\n",
      "Time taken to sort an array of size 100: 0 nanoseconds\n",
      "Time taken to sort an array of size 1000: 953800 nanoseconds\n",
      "Time taken to sort an array of size 10000: 66140400 nanoseconds\n",
      "Time taken to sort an array of size 100000: 532599100 nanoseconds\n",
      "Time taken to sort an array of size 1000000: 6943379500 nanoseconds\n"
     ]
    }
   ],
   "source": [
    "def merge_sort(arr):\n",
    "    def merge(left, right):\n",
    "        i = j = 0\n",
    "        sorted_arr = []\n",
    "        while i < len(left) and j < len(right):\n",
    "            if left[i] < right[j]:\n",
    "                sorted_arr.append(left[i])\n",
    "                i += 1\n",
    "            else:\n",
    "                sorted_arr.append(right[j])\n",
    "                j+=1\n",
    "        while i < len(left):\n",
    "            sorted_arr.append(left[i])\n",
    "            i+=1\n",
    "        while j < len(right):\n",
    "            sorted_arr.append(right[j])\n",
    "            j += 1\n",
    "        return sorted_arr\n",
    "    if len(arr) <= 1:\n",
    "        return arr\n",
    "    mid = len(arr) // 2\n",
    "    left = merge_sort(arr[:mid])\n",
    "    right = merge_sort(arr[mid:])\n",
    "    return merge(left, right)\n",
    "\n",
    "import numpy as np\n",
    "import time\n",
    "def measure_time_merge_sort():\n",
    "    input_sizes = [10**i for i in range(1, 7)]\n",
    "    for size in input_sizes:\n",
    "        arr = np.arange(size, 0, -1)\n",
    "        start_time = time.time_ns()\n",
    "        merge_sort(arr)\n",
    "        end_time = time.time_ns()\n",
    "        print(f\"Time taken to sort an array of size {size}: {(end_time-start_time)} nanoseconds\")\n",
    "measure_time_merge_sort()"
   ]
  },
  {
   "cell_type": "markdown",
   "metadata": {},
   "source": [
    "### Experimental analysis\n",
    "\n",
    "1. different times on different run\n",
    "2. few changes, time can be different\n",
    "3. time actually varies with input, but we are not getting or establish a relationship.\n",
    "4. Generate test cases.\n",
    "5. Check for each and every implmentation.\n",
    "5. Large inputs are very time consuming.\n",
    "\n",
    "Time complexity is not equal to time taken.\n",
    "\n",
    "Time complexity is time dependent on the input size."
   ]
  },
  {
   "cell_type": "markdown",
   "metadata": {},
   "source": [
    "### Quantifying the Time Complexity\n",
    "\n",
    "1. We want time complexity  when input is very large.\n",
    "\n",
    "2. We want to calculate for worst test case.\n",
    "\n",
    "3. We want to look for biggest factor in the run time.\n",
    "\n",
    "4. We want to express runtime as input size and we don't want to look for precision but order of works.\n",
    "\n",
    "5n**2    5n**3\n",
    "\n",
    "Bubble sort : 20n^2 + 5n + 1\n",
    "\n",
    "We are fine with most dominant term: 20n^2\n",
    "\n",
    "no of unit operation +, -, >, /, ==, \n",
    "\n",
    "3 major things:-\n",
    "\n",
    "1. Talk in terms of no of operations not time.\n",
    "\n",
    "2. Focus only on the highest power.\n",
    "\n",
    "3. Don't care about coeff much.\n",
    "\n",
    "Big Oh Complexity"
   ]
  },
  {
   "cell_type": "markdown",
   "metadata": {},
   "source": [
    "### Asymptotic Notation and Analysis\n",
    "\n",
    "- Main idea of our analysis is to do have a measure of the efficiency of algorithm that do not depend on i) machine specific constants, ii) require algorithm to be implemented\n",
    "\n",
    "Asymptotic notation are mathematic tools to represent time complexity of our algorithm\n",
    "\n",
    "There are mainly 3 types of asymptotic notation\n",
    "\n",
    "1. Big O Notation (O notation, worst case)\n",
    "\n",
    "2. Omega Notation (omega notation, best case)\n",
    "\n",
    "3. Thete notation (0 notation, average case)\n",
    "\n"
   ]
  },
  {
   "cell_type": "markdown",
   "metadata": {},
   "source": [
    "### Asymptotic - Big O notation\n",
    "\n",
    "\n",
    "Bubble Sort: f(n) = 20n^2 + 15n + 2\n",
    "\n",
    "To get the Big O Complexity define another function g(n) with constant c\n",
    "f(n) <= c * g(n)\n",
    "\n",
    "Time Complexity O(g(n))\n",
    "\n",
    "\n",
    "f(n) = 2n^2 + 2 <= c * g(n)\n",
    "\n",
    "if g(n) = n^2 and c = 3 then\n",
    "\n",
    "2n^2 + 2 <= 3n^2   then time complexity is O(n^2)\n",
    "\n",
    "upper bounds my function.\n",
    "\n",
    "You are a runner and you have to run 100 m. In very much worst case I will not take more than 10 mins. So my upper bound limit is 10 mins."
   ]
  },
  {
   "cell_type": "markdown",
   "metadata": {},
   "source": [
    "### Asymptotic - Big  Omega\n",
    "\n",
    "-> Best Case Scenario\n",
    "\n",
    "f(n) = omega(g(n)) when f(n) >= c.g(n)\n",
    "\n",
    "I can compelete this 100 ms in 10 seconds on my absolute best.\n",
    "\n",
    "2n^2 + n >=  c.n^2\n",
    "\n",
    "for c = 2\n",
    "\n",
    "2n^2 + n >= 2n^2\n",
    "\n",
    "### Asymptotic - Thete\n",
    "\n",
    "Average Case Complexity\n",
    "\n",
    "c1.g(n) <= f(n) <= c2.g(n)\n",
    "\n",
    "I can complete 100 meters on average in 2 minutes.\n"
   ]
  },
  {
   "cell_type": "markdown",
   "metadata": {},
   "source": [
    "### Time Complexity is not equal to Time Taken"
   ]
  },
  {
   "cell_type": "markdown",
   "metadata": {},
   "source": [
    "Middle of Our List\n",
    "\n",
    "\n",
    "List of size 10^3\n",
    "\n",
    "list of size 10^6\n",
    "\n",
    "list of size 10\n",
    "\n",
    "To find out middle\n",
    "\n",
    "mid = n//2\n",
    "\n",
    "K n^0 <= (K+1)(n^0)\n",
    "\n",
    "Complexity is O(1)"
   ]
  },
  {
   "cell_type": "markdown",
   "metadata": {},
   "source": [
    "### Largest element in an array\n",
    "max = a[0]\n",
    "for i -> n\n",
    "if a[i] > curr_max:\n",
    "    curr_max = a[i]\n",
    "\n",
    "k operations\n",
    "\n",
    "1  2   3  ....   n\n",
    "k  k   k .....   k\n",
    "\n",
    "summation = nk  <= c.g(n) => (c = k+1, g(n) = n)\n",
    "\n",
    "\n",
    "In worst case, the maximum element is at the end of the array.\n",
    "\n",
    "O(g(n)) = O(n)\n",
    "\n",
    "\n"
   ]
  },
  {
   "cell_type": "markdown",
   "metadata": {},
   "source": [
    "### Bubble Sort Complexity\n",
    "\n",
    "We are given an array in bubble sort. Worst case is when everything sorted in decreasing order.\n",
    "\n",
    "In each iteration we are doing k operation.\n",
    "\n",
    "For first operation\n",
    "\n",
    "i    j\n",
    "\n",
    "0  (n-1)k\n",
    "\n",
    "1  (n-2)k\n",
    "\n",
    "2  (n-3)k\n",
    "\n",
    "\n",
    "for 1st element   (n-1)k\n",
    "\n",
    "for 2nd element (n-2)k\n",
    "\n",
    "for 3rd element  (n-3)k\n",
    ".\n",
    ".\n",
    ".\n",
    "for 2nd last element    k\n",
    "\n",
    "= k(n-1) + k(n-2) + k(n-3).....k\n",
    "= k ([n-1] + [n-2] + [n-3] +.....1)\n",
    "1 + 2 + 3 +.....n = (n(n+1))/2\n",
    "\n",
    "= ((n-1)(n-1+1))/2\n",
    "= k((n(n-1)) / 2)\n",
    "= k(n^2/2) - (n/2)k\n",
    "= (kn^2)/2 <= c.g(n)\n",
    "g(n) = n^2,  c = k/2 + 1\n",
    "\n",
    "g(n) = n^2\n",
    "\n",
    "O(n^2)\n",
    "\n",
    "We will have complexity for bubble sort as O(n^2) which is quadratic time complexity.\n"
   ]
  },
  {
   "cell_type": "code",
   "execution_count": 37,
   "metadata": {},
   "outputs": [
    {
     "name": "stdout",
     "output_type": "stream",
     "text": [
      "[4, 5, 3, 2, 1]\n",
      "[4, 3, 5, 2, 1]\n",
      "[4, 3, 2, 5, 1]\n",
      "[4, 3, 2, 1, 5]\n",
      "[3, 4, 2, 1, 5]\n",
      "[3, 2, 4, 1, 5]\n",
      "[3, 2, 1, 4, 5]\n",
      "[2, 3, 1, 4, 5]\n",
      "[2, 1, 3, 4, 5]\n",
      "[1, 2, 3, 4, 5]\n"
     ]
    },
    {
     "data": {
      "text/plain": [
       "[1, 2, 3, 4, 5]"
      ]
     },
     "execution_count": 37,
     "metadata": {},
     "output_type": "execute_result"
    }
   ],
   "source": [
    "def Bubble_sort(arr):\n",
    "    n = len(arr)\n",
    "    for i in range(n):\n",
    "        for j in range(n-i-1):\n",
    "            if arr[j] > arr[j+1]:\n",
    "                arr[j], arr[j+1] = arr[j+1], arr[\n",
    "                    j]\n",
    "            print(arr)\n",
    "    return arr\n",
    "Bubble_sort([5,4,3,2,1])"
   ]
  },
  {
   "cell_type": "markdown",
   "metadata": {},
   "source": [
    "### Insertion Sort\n",
    "\n",
    "We are given an array, we gonna pick one element and put it in right position.\n",
    "\n",
    "for first element   -  0\n",
    "for 2nd element     -  k\n",
    "for 3rd element     - 2k\n",
    ".\n",
    ".\n",
    ".\n",
    ".\n",
    "\n",
    "for nth element  - (n-1)k\n",
    "\n",
    "\n",
    "1 + 2...... (n-1)\n",
    "((n-1)(n)k)/2 = (kn^2)/2 - (kn)/2   \n",
    "\n",
    "= (kn^2)/2 <= c.g(n)\n",
    "\n",
    "c = k/2+1, g(n) = n^2\n",
    "\n",
    "Complexity is O(n^2) i.e. quadratic\n",
    "\n",
    "\n",
    "Best Case Complexity for Insertion Sort (Omega time complexity of insertion sort)\n",
    "\n",
    "1, 2, 3, 4,\n",
    "\n",
    "while loop will not executed\n",
    "\n",
    "1 element - 0\n",
    "\n",
    "2 element - k\n",
    "\n",
    "3 element - k\n",
    ".\n",
    ".\n",
    ".\n",
    "n element - k\n",
    "\n",
    "\n",
    "k(n-1) = kn - k <= (k+1)(n)\n",
    "\n",
    "O(n) is the best case complexity for insertion sort.\n",
    "\n"
   ]
  },
  {
   "cell_type": "code",
   "execution_count": 34,
   "metadata": {},
   "outputs": [
    {
     "name": "stdout",
     "output_type": "stream",
     "text": [
      "[4, 5, 3, 2, 1]\n",
      "[4, 3, 5, 2, 1]\n",
      "[3, 4, 5, 2, 1]\n",
      "[3, 4, 2, 5, 1]\n",
      "[3, 2, 4, 5, 1]\n",
      "[2, 3, 4, 5, 1]\n",
      "[2, 3, 4, 1, 5]\n",
      "[2, 3, 1, 4, 5]\n",
      "[2, 1, 3, 4, 5]\n",
      "[1, 2, 3, 4, 5]\n"
     ]
    },
    {
     "data": {
      "text/plain": [
       "[1, 2, 3, 4, 5]"
      ]
     },
     "execution_count": 34,
     "metadata": {},
     "output_type": "execute_result"
    }
   ],
   "source": [
    "def insertion_sort(arr):\n",
    "    for step in range(1, len(arr)):\n",
    "        key = arr[step]\n",
    "        j = step-1\n",
    "        while j >= 0 and key < arr[j]:\n",
    "            arr[j+1] = arr[j]\n",
    "            j-=1\n",
    "            arr[j+1] = key\n",
    "            print(arr)\n",
    "    return arr\n",
    "insertion_sort([5,4,3,2,1])"
   ]
  },
  {
   "cell_type": "markdown",
   "metadata": {},
   "source": [
    "### Selection Sort\n",
    "\n",
    "We pick an element and compare it with all elements and find out which is the minimum elements and swap it with minimum."
   ]
  },
  {
   "cell_type": "code",
   "execution_count": 36,
   "metadata": {},
   "outputs": [
    {
     "name": "stdout",
     "output_type": "stream",
     "text": [
      "[5, 4, 3, 2, 1]\n",
      "[1, 4, 3, 2, 5]\n",
      "[1, 2, 3, 4, 5]\n",
      "[1, 2, 3, 4, 5]\n",
      "[1, 2, 3, 4, 5]\n",
      "[1, 2, 3, 4, 5]\n"
     ]
    },
    {
     "data": {
      "text/plain": [
       "[1, 2, 3, 4, 5]"
      ]
     },
     "execution_count": 36,
     "metadata": {},
     "output_type": "execute_result"
    }
   ],
   "source": [
    "def selection_sort(arr):\n",
    "    n = len(arr)\n",
    "    print(arr)\n",
    "    for i in range(n):\n",
    "        smallestIndex = i\n",
    "        j = i+1 \n",
    "        while j <= n-1:\n",
    "            if arr[j] < arr[smallestIndex]: \n",
    "                smallestIndex = j\n",
    "            j += 1 \n",
    "        arr[i], arr[smallestIndex] = arr[smallestIndex], arr[i]\n",
    "    return arr\n",
    "\n",
    "selection_sort([5, 4,3,2,1])"
   ]
  },
  {
   "cell_type": "code",
   "execution_count": 33,
   "metadata": {},
   "outputs": [
    {
     "data": {
      "text/plain": [
       "[1, 2, 3, 4]"
      ]
     },
     "execution_count": 33,
     "metadata": {},
     "output_type": "execute_result"
    }
   ],
   "source": [
    "def selection_sort(arr):\n",
    "    n = len(arr)\n",
    "    for i in range(n):\n",
    "        smallestIndex = i\n",
    "        for j in range(i+1, n):\n",
    "            if arr[j] < arr[smallestIndex]: \n",
    "                smallestIndex = j\n",
    "        arr[i], arr[smallestIndex] = arr[smallestIndex], arr[i]\n",
    "    return arr\n",
    "\n",
    "selection_sort([4,3,2,1])"
   ]
  },
  {
   "cell_type": "markdown",
   "metadata": {},
   "source": [
    "### Time Complexity of Binary Search"
   ]
  },
  {
   "cell_type": "code",
   "execution_count": 58,
   "metadata": {},
   "outputs": [
    {
     "name": "stdout",
     "output_type": "stream",
     "text": [
      "0\n",
      "1\n",
      "2\n"
     ]
    },
    {
     "data": {
      "text/plain": [
       "6"
      ]
     },
     "execution_count": 58,
     "metadata": {},
     "output_type": "execute_result"
    }
   ],
   "source": [
    "def binary_search(arr, target):\n",
    "    start = 0\n",
    "    end = len(arr) - 1\n",
    "    i = 0\n",
    "    while start <= end:\n",
    "        mid = start + (end - start)//2\n",
    "        if arr[mid] == target:\n",
    "            return mid\n",
    "        if arr[mid] > target:\n",
    "            end = mid - 1\n",
    "        else:\n",
    "            start = mid + 1\n",
    "        i+=1\n",
    "    return -1\n",
    "binary_search([1,2,3,4,5, 6, 7],7)"
   ]
  },
  {
   "cell_type": "markdown",
   "metadata": {},
   "source": []
  }
 ],
 "metadata": {
  "kernelspec": {
   "display_name": "base",
   "language": "python",
   "name": "python3"
  },
  "language_info": {
   "codemirror_mode": {
    "name": "ipython",
    "version": 3
   },
   "file_extension": ".py",
   "mimetype": "text/x-python",
   "name": "python",
   "nbconvert_exporter": "python",
   "pygments_lexer": "ipython3",
   "version": "3.12.3"
  }
 },
 "nbformat": 4,
 "nbformat_minor": 2
}
