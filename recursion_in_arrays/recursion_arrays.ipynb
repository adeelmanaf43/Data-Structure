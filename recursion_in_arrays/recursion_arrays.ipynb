{
 "cells": [
  {
   "cell_type": "markdown",
   "metadata": {},
   "source": [
    "### Recursion with Arrays/List\n",
    "\n",
    "Whenever in arrays, we are dealing with a problem that can be broken and individually be applied to left over part, we can use recursion there.\n",
    "\n",
    "Below are major ways we break our array/list.\n",
    "\n",
    "1. First or last element removed\n",
    "2. Using start and end index (eg. binary search)\n",
    "3. Copy part into a new array and send to further calls."
   ]
  },
  {
   "cell_type": "markdown",
   "metadata": {},
   "source": [
    "### Question. Write a program to check if array is sorted.\n",
    "recurrence relation \n",
    "\n",
    "head / tail recursion\n",
    "\n",
    "[1,2,3,4,5,6]\n",
    "\n",
    "1.Base case : size == 1 or size == 0\n",
    "\n",
    "2. Recursion Call"
   ]
  },
  {
   "cell_type": "code",
   "execution_count": 8,
   "metadata": {},
   "outputs": [
    {
     "data": {
      "text/plain": [
       "True"
      ]
     },
     "execution_count": 8,
     "metadata": {},
     "output_type": "execute_result"
    }
   ],
   "source": [
    "def checkSorted(l1):\n",
    "    if len(l1) == 0 or len(l1) == 1:\n",
    "        return True\n",
    "    ans = checkSorted(l1[1:])\n",
    "    if l1[0] < l1[1]:\n",
    "        return ans \n",
    "    else:\n",
    "        return False\n",
    "\n",
    "checkSorted([2,5,7,8,10])"
   ]
  },
  {
   "cell_type": "code",
   "execution_count": 9,
   "metadata": {},
   "outputs": [
    {
     "data": {
      "text/plain": [
       "True"
      ]
     },
     "execution_count": 9,
     "metadata": {},
     "output_type": "execute_result"
    }
   ],
   "source": [
    "def checkSorted2(l1):\n",
    "    if len(l1) == 0 or len(l1) == 1:\n",
    "        return True\n",
    "    if l1[0] <= l1[1]:\n",
    "        return checkSorted2(l1[1:])\n",
    "    else:\n",
    "        return False\n",
    "checkSorted2([1,2,3,4,5])\n"
   ]
  },
  {
   "cell_type": "code",
   "execution_count": 11,
   "metadata": {},
   "outputs": [
    {
     "data": {
      "text/plain": [
       "False"
      ]
     },
     "execution_count": 11,
     "metadata": {},
     "output_type": "execute_result"
    }
   ],
   "source": [
    "def checkSorted2(l1):\n",
    "    if len(l1) == 0 or len(l1) == 1:\n",
    "        return True\n",
    "    if l1[0] >= l1[1]:\n",
    "        return False\n",
    "    return checkSorted2(l1[1:])\n",
    "checkSorted2([1,2,3,4,5])"
   ]
  },
  {
   "cell_type": "code",
   "execution_count": null,
   "metadata": {},
   "outputs": [],
   "source": [
    "def is_sorted(arr, i = 0):\n",
    "    if len(arr) <= 1:\n",
    "        return True\n",
    "    if i == len(arr) - 1:\n",
    "        return True\n",
    "    if arr[i] <= arr[i+1]:\n",
    "        return is_sorted(arr, i+1)\n",
    "    else:\n",
    "        return False\n",
    "is_sorted([1,2,3,6,5])"
   ]
  },
  {
   "cell_type": "markdown",
   "metadata": {},
   "source": [
    "### Sum of An Array"
   ]
  },
  {
   "cell_type": "markdown",
   "metadata": {},
   "source": [
    "##### Mine Solutions"
   ]
  },
  {
   "cell_type": "code",
   "execution_count": 17,
   "metadata": {},
   "outputs": [
    {
     "data": {
      "text/plain": [
       "15"
      ]
     },
     "execution_count": 17,
     "metadata": {},
     "output_type": "execute_result"
    }
   ],
   "source": [
    "def sumHead(arr):\n",
    "    if len(arr) == 0:\n",
    "        return 0\n",
    "    #if len(arr) == 1:\n",
    "    #    return arr[0]\n",
    "    smallAns = sumHead(arr[1:])\n",
    "    ans = arr[0] + smallAns\n",
    "    return ans\n",
    "sumHead([1,2,3,4,5])"
   ]
  },
  {
   "cell_type": "code",
   "execution_count": 16,
   "metadata": {},
   "outputs": [
    {
     "data": {
      "text/plain": [
       "15"
      ]
     },
     "execution_count": 16,
     "metadata": {},
     "output_type": "execute_result"
    }
   ],
   "source": [
    "def sumTail(arr, summ = 0):\n",
    "    if len(arr) == 0:\n",
    "        return summ\n",
    "    summ += arr[0]\n",
    "    return sumTail(arr[1:], summ)\n",
    "sumTail([1,2,3,4,5])"
   ]
  },
  {
   "cell_type": "markdown",
   "metadata": {},
   "source": [
    "##### Instructor Solutions\n",
    "\n",
    "1. Base Case size = 0 return 0, size = 1 return l1[0]\n",
    "\n",
    "2. sum(l1[1:])\n",
    "\n",
    "3. l1[0] + sum(l1[1:])\n"
   ]
  },
  {
   "cell_type": "code",
   "execution_count": 23,
   "metadata": {},
   "outputs": [
    {
     "data": {
      "text/plain": [
       "15"
      ]
     },
     "execution_count": 23,
     "metadata": {},
     "output_type": "execute_result"
    }
   ],
   "source": [
    "def sumArray(l1):\n",
    "    if len(l1) == 0:\n",
    "        return 0\n",
    "    sumOfLeftOverArray = sumArray(l1[1:])\n",
    "    ans = l1[0] + sumOfLeftOverArray\n",
    "    return ans\n",
    "sumArray([1,2,3,4,5])"
   ]
  },
  {
   "cell_type": "code",
   "execution_count": 26,
   "metadata": {},
   "outputs": [
    {
     "data": {
      "text/plain": [
       "15"
      ]
     },
     "execution_count": 26,
     "metadata": {},
     "output_type": "execute_result"
    }
   ],
   "source": [
    "def sumArray2(l1, accumulator = 0):\n",
    "    if len(l1) == 0:\n",
    "        return accumulator\n",
    "    accumulator = accumulator + l1[0]\n",
    "    return sumArray2(l1[1:], accumulator)\n",
    "sumArray2([1,2,3,4,5])"
   ]
  },
  {
   "cell_type": "markdown",
   "metadata": {},
   "source": [
    "### Given an array find first and last index of an element."
   ]
  },
  {
   "cell_type": "markdown",
   "metadata": {},
   "source": [
    "##### My Solution"
   ]
  },
  {
   "cell_type": "code",
   "execution_count": 61,
   "metadata": {},
   "outputs": [
    {
     "data": {
      "text/plain": [
       "1"
      ]
     },
     "execution_count": 61,
     "metadata": {},
     "output_type": "execute_result"
    }
   ],
   "source": [
    "def findFirstIndex(arr, element):\n",
    "    if len(arr) == 0:\n",
    "        return -1\n",
    "    def helper(arr, element, i = 0):\n",
    "        if i == len(arr) - 1:\n",
    "            return -1\n",
    "        if arr[i] == element:\n",
    "            return i\n",
    "        return helper(arr, element, i+1)\n",
    "    return helper(arr, element)\n",
    "a = [1,2,3,4,5,6,7,4, 9, 10, 5, 11, 12]\n",
    "findFirstIndex([1, 2, 3, 2, 4, 2], 2)"
   ]
  },
  {
   "cell_type": "code",
   "execution_count": 62,
   "metadata": {},
   "outputs": [
    {
     "data": {
      "text/plain": [
       "3"
      ]
     },
     "execution_count": 62,
     "metadata": {},
     "output_type": "execute_result"
    }
   ],
   "source": [
    "a = [1,2,3,4,5,6,7,4, 9, 10, 5, 11, 12]\n",
    "def findFirst(arr,target, i = 0):\n",
    "    if len(arr) == 0 or i == len(arr):\n",
    "        return -1\n",
    "    if arr[i] == target:\n",
    "        return i\n",
    "    return findFirst(arr, target, i+1)\n",
    "findFirst(a, 4)\n",
    "    "
   ]
  },
  {
   "cell_type": "code",
   "execution_count": 34,
   "metadata": {},
   "outputs": [
    {
     "data": {
      "text/plain": [
       "-1"
      ]
     },
     "execution_count": 34,
     "metadata": {},
     "output_type": "execute_result"
    }
   ],
   "source": [
    "a = [1,2,3,4,5,6,7,4, 9, 10, 5, 11, 12]\n",
    "def findLast(arr, target):\n",
    "    def helper(i = len(arr) - 1):\n",
    "        if len(arr) == 0 or i == 0:\n",
    "            return -1\n",
    "        if arr[i] == target:\n",
    "            return i\n",
    "        return helper(i-1)\n",
    "    return helper()\n",
    "findLast(a, 20)"
   ]
  },
  {
   "cell_type": "markdown",
   "metadata": {},
   "source": [
    "##### Instructor Solutions\n",
    "\n",
    "For first index\n",
    "1. Base Case \n",
    "\n",
    "2. if l1[0] == x:\n",
    "    return 0\n",
    "\n",
    "3. Recursive call"
   ]
  },
  {
   "cell_type": "code",
   "execution_count": 51,
   "metadata": {},
   "outputs": [
    {
     "name": "stdout",
     "output_type": "stream",
     "text": [
      "6\n"
     ]
    }
   ],
   "source": [
    "def firstIndex(l1, x):\n",
    "    # 1. base case\n",
    "    if len(l1) == 0:\n",
    "        return -1\n",
    "    if l1[0] == x:\n",
    "        return 0\n",
    "    ansFromRecursion =  firstIndex(l1[1:], x) + 1\n",
    "    if ansFromRecursion == -1:\n",
    "        return ansFromRecursion\n",
    "    else:\n",
    "        return ansFromRecursion + 1\n",
    "print(firstIndex([3,2,5,2,8,2,1],10))"
   ]
  },
  {
   "cell_type": "code",
   "execution_count": 56,
   "metadata": {},
   "outputs": [
    {
     "data": {
      "text/plain": [
       "9"
      ]
     },
     "execution_count": 56,
     "metadata": {},
     "output_type": "execute_result"
    }
   ],
   "source": [
    "def lastIndex(l1, x):\n",
    "    if (len(l1) == 0):\n",
    "        return -1\n",
    "    if l1[-1] == x:\n",
    "        return len(l1) - 1\n",
    "    ansFromRecursion = lastIndex(l1[:-1],x) - 1\n",
    "    if ansFromRecursion == -1:\n",
    "        return ansFromRecursion\n",
    "    else:\n",
    "        return ansFromRecursion - 1\n",
    "lastIndex([3,2,5,2,8,2,3, 5,1, 8], 8)"
   ]
  },
  {
   "cell_type": "markdown",
   "metadata": {},
   "source": [
    "### Write a program to find all index of a given element.\n",
    "\n",
    "1. Print the indexes\n",
    "2. Update the answer in the list provided\n",
    "3. Update the indices in the global list.\n",
    "4. Return answer as a new list."
   ]
  },
  {
   "cell_type": "code",
   "execution_count": 82,
   "metadata": {},
   "outputs": [
    {
     "name": "stdout",
     "output_type": "stream",
     "text": [
      "1\n",
      "3\n",
      "4\n"
     ]
    }
   ],
   "source": [
    "def printAll(l1,x, index = 0):\n",
    "    if len(l1) == index:\n",
    "        return \n",
    "    if l1[index] == x:\n",
    "        print(index)\n",
    "    printAll(l1,x, index + 1)\n",
    "printAll([3,2,5,2,2], 2)"
   ]
  },
  {
   "cell_type": "code",
   "execution_count": 70,
   "metadata": {},
   "outputs": [
    {
     "name": "stdout",
     "output_type": "stream",
     "text": [
      "1\n",
      "3\n",
      "5\n"
     ]
    }
   ],
   "source": [
    "def printAllIndicesOfAnElement(l1, x):\n",
    "    def helper(index = 0):\n",
    "        if len(l1) == index:\n",
    "            return \n",
    "        if l1[index] == x:\n",
    "            print(index)\n",
    "        helper(index + 1)\n",
    "    helper()\n",
    "printAllIndicesOfAnElement([3,2,5,2,8,2,1],2)"
   ]
  },
  {
   "cell_type": "markdown",
   "metadata": {},
   "source": [
    "##### 2. Update all indices in a provided list."
   ]
  },
  {
   "cell_type": "code",
   "execution_count": 71,
   "metadata": {},
   "outputs": [
    {
     "name": "stdout",
     "output_type": "stream",
     "text": [
      "[1, 3, 5]\n"
     ]
    }
   ],
   "source": [
    "def updateAllIndicesOfAnElementinProvidedList(l1,x,ansList, index = 0):\n",
    "    if len(l1) == index:\n",
    "        return \n",
    "    if l1[index] == x:\n",
    "        ansList.append(index)\n",
    "    updateAllIndicesOfAnElementinProvidedList(l1, x, ansList, index + 1)\n",
    "ansList = []\n",
    "\n",
    "updateAllIndicesOfAnElementinProvidedList([3,2,5,2,8,2,1],2,ansList)\n",
    "print(ansList)"
   ]
  },
  {
   "cell_type": "markdown",
   "metadata": {},
   "source": [
    "##### 3. Update Indices in a Global List."
   ]
  },
  {
   "cell_type": "code",
   "execution_count": 72,
   "metadata": {},
   "outputs": [
    {
     "name": "stdout",
     "output_type": "stream",
     "text": [
      "Global List before Function Call:\n",
      "[]\n",
      "Global List after Function Call:\n",
      "[1, 3, 5]\n"
     ]
    }
   ],
   "source": [
    "globalList = []\n",
    "def updateAllIndicesOfAnElementinGlobalList(l1,x):\n",
    "    def helper(index = 0):\n",
    "        if len(l1) == index:\n",
    "            return \n",
    "        if l1[index] == x:\n",
    "            globalList.append(index)\n",
    "        helper(index + 1)\n",
    "    helper()\n",
    "print(\"Global List before Function Call:\")\n",
    "print(globalList)\n",
    "updateAllIndicesOfAnElementinGlobalList([3,2,5,2,8,2,1],2)\n",
    "print(\"Global List after Function Call:\")\n",
    "print(globalList)"
   ]
  },
  {
   "cell_type": "markdown",
   "metadata": {},
   "source": [
    "##### 4. Return Answers as new List.\n",
    "\n",
    "1. Base Case\n"
   ]
  },
  {
   "cell_type": "code",
   "execution_count": 79,
   "metadata": {},
   "outputs": [
    {
     "data": {
      "text/plain": [
       "[1, 3, 5]"
      ]
     },
     "execution_count": 79,
     "metadata": {},
     "output_type": "execute_result"
    }
   ],
   "source": [
    "def returnAllIndicesAsList(l1, x, index):\n",
    "    if len(l1) == index:\n",
    "        return []\n",
    "    smallList = returnAllIndicesAsList(l1, x, index + 1)\n",
    "    if l1[index] == x:\n",
    "        smallList.insert(0,index)\n",
    "    \n",
    "    return smallList\n",
    "\n",
    "\n",
    "ansList = returnAllIndicesAsList([3,2,5,2,8,2,1],2,0)\n",
    "ansList\n",
    "#[1,3,5]"
   ]
  },
  {
   "cell_type": "code",
   "execution_count": null,
   "metadata": {},
   "outputs": [],
   "source": []
  }
 ],
 "metadata": {
  "kernelspec": {
   "display_name": "base",
   "language": "python",
   "name": "python3"
  },
  "language_info": {
   "codemirror_mode": {
    "name": "ipython",
    "version": 3
   },
   "file_extension": ".py",
   "mimetype": "text/x-python",
   "name": "python",
   "nbconvert_exporter": "python",
   "pygments_lexer": "ipython3",
   "version": "3.12.3"
  }
 },
 "nbformat": 4,
 "nbformat_minor": 2
}
