{
 "cells": [
  {
   "cell_type": "markdown",
   "metadata": {},
   "source": [
    "### Factorial of a Number"
   ]
  },
  {
   "cell_type": "code",
   "execution_count": 10,
   "metadata": {},
   "outputs": [
    {
     "data": {
      "text/plain": [
       "24"
      ]
     },
     "execution_count": 10,
     "metadata": {},
     "output_type": "execute_result"
    }
   ],
   "source": [
    "def factorial(n):\n",
    "    if n == 0:\n",
    "        return 1\n",
    "    smallAns = factorial(n-1)\n",
    "    return n * smallAns\n",
    "factorial(4)"
   ]
  },
  {
   "cell_type": "markdown",
   "metadata": {},
   "source": [
    "### Sum of N Numbers"
   ]
  },
  {
   "cell_type": "code",
   "execution_count": 13,
   "metadata": {},
   "outputs": [
    {
     "data": {
      "text/plain": [
       "15"
      ]
     },
     "execution_count": 13,
     "metadata": {},
     "output_type": "execute_result"
    }
   ],
   "source": [
    "def sumN(n):\n",
    "    if n == 1:\n",
    "        return 1\n",
    "    return n + sumN(n-1)\n",
    "sumN(5)"
   ]
  },
  {
   "cell_type": "markdown",
   "metadata": {},
   "source": [
    "### Number of Digits"
   ]
  },
  {
   "cell_type": "code",
   "execution_count": 17,
   "metadata": {},
   "outputs": [
    {
     "data": {
      "text/plain": [
       "6"
      ]
     },
     "execution_count": 17,
     "metadata": {},
     "output_type": "execute_result"
    }
   ],
   "source": [
    "def numOfDigits(num):\n",
    "    if num < 10:\n",
    "        return 1\n",
    "    smallAns = numOfDigits(num//10)\n",
    "    return 1 + smallAns\n",
    "numOfDigits(123467)"
   ]
  },
  {
   "cell_type": "markdown",
   "metadata": {},
   "source": [
    "### Fibonacci Series"
   ]
  },
  {
   "cell_type": "code",
   "execution_count": 32,
   "metadata": {},
   "outputs": [
    {
     "data": {
      "text/plain": [
       "5"
      ]
     },
     "execution_count": 32,
     "metadata": {},
     "output_type": "execute_result"
    }
   ],
   "source": [
    "#0 1 1 2 3 5 \n",
    "\n",
    "def fibonacci(n):\n",
    "    if n == 0:\n",
    "        return 0\n",
    "    if n == 1:\n",
    "        return 1\n",
    "    smallAns = fibonacci(n-1)\n",
    "    secondSmallAns = fibonacci(n-2)\n",
    "    return smallAns + secondSmallAns\n",
    "fibonacci(5)"
   ]
  },
  {
   "cell_type": "markdown",
   "metadata": {},
   "source": [
    "### Print 1 to N"
   ]
  },
  {
   "cell_type": "code",
   "execution_count": 33,
   "metadata": {},
   "outputs": [
    {
     "name": "stdout",
     "output_type": "stream",
     "text": [
      "1\n",
      "2\n",
      "3\n",
      "4\n",
      "5\n"
     ]
    }
   ],
   "source": [
    "def OneToN(n):\n",
    "    if n == 1:\n",
    "        print(1)\n",
    "        return \n",
    "    OneToN(n-1)\n",
    "    print(n)\n",
    "OneToN(5)"
   ]
  },
  {
   "cell_type": "markdown",
   "metadata": {},
   "source": [
    "### Print N to 1"
   ]
  },
  {
   "cell_type": "code",
   "execution_count": 34,
   "metadata": {},
   "outputs": [
    {
     "name": "stdout",
     "output_type": "stream",
     "text": [
      "5\n",
      "4\n",
      "3\n",
      "2\n",
      "1\n"
     ]
    }
   ],
   "source": [
    "def NToOne(n):\n",
    "    if n == 1:\n",
    "        print(n)\n",
    "        return \n",
    "    print(n)\n",
    "    NToOne(n-1)\n",
    "NToOne(5)"
   ]
  },
  {
   "cell_type": "markdown",
   "metadata": {},
   "source": [
    "### Store One to N"
   ]
  },
  {
   "cell_type": "code",
   "execution_count": 41,
   "metadata": {},
   "outputs": [
    {
     "data": {
      "text/plain": [
       "[1, 2, 3, 4, 5]"
      ]
     },
     "execution_count": 41,
     "metadata": {},
     "output_type": "execute_result"
    }
   ],
   "source": [
    "def return_oneton(n):\n",
    "    if n == 1:\n",
    "        return [1]\n",
    "    smallAns = return_oneton(n-1)\n",
    "    smallAns.append(n)\n",
    "    return smallAns\n",
    "return_oneton(5)"
   ]
  },
  {
   "cell_type": "code",
   "execution_count": 44,
   "metadata": {},
   "outputs": [
    {
     "data": {
      "text/plain": [
       "[5, 4, 3, 2, 1]"
      ]
     },
     "execution_count": 44,
     "metadata": {},
     "output_type": "execute_result"
    }
   ],
   "source": [
    "def return_NtoOne(n, ans = []):\n",
    "    if n == 0:\n",
    "        return ans\n",
    "    ans.append(n)\n",
    "    smallAns = return_NtoOne(n-1, ans)\n",
    "    return smallAns\n",
    "return_NtoOne(5)"
   ]
  },
  {
   "cell_type": "code",
   "execution_count": 45,
   "metadata": {},
   "outputs": [
    {
     "data": {
      "text/plain": [
       "[5, 4, 3, 2, 1]"
      ]
     },
     "execution_count": 45,
     "metadata": {},
     "output_type": "execute_result"
    }
   ],
   "source": [
    "def return_n_to_one(n):\n",
    "    if n == 1:\n",
    "        return [1]\n",
    "    return [n] + return_n_to_one(n-1)\n",
    "return_n_to_one(5)"
   ]
  },
  {
   "cell_type": "markdown",
   "metadata": {},
   "source": [
    "### Check if Array is Sorted"
   ]
  },
  {
   "cell_type": "code",
   "execution_count": 49,
   "metadata": {},
   "outputs": [
    {
     "data": {
      "text/plain": [
       "True"
      ]
     },
     "execution_count": 49,
     "metadata": {},
     "output_type": "execute_result"
    }
   ],
   "source": [
    "def isSorted(arr):\n",
    "    if len(arr) <= 1:\n",
    "        return True\n",
    "    smallAns = isSorted(arr[1:])\n",
    "    if arr[0] < arr[1]:\n",
    "        return smallAns\n",
    "    else:\n",
    "        return False\n",
    "isSorted([1,2, 3, 4, 5, 6])"
   ]
  },
  {
   "cell_type": "code",
   "execution_count": null,
   "metadata": {},
   "outputs": [],
   "source": [
    "def isSortedTail(arr):\n",
    "    if len(arr) <= 1:\n",
    "        return True\n",
    "    if arr[0] > arr[1]:\n",
    "        return False\n",
    "    return isSortedTail(arr[1:])"
   ]
  },
  {
   "cell_type": "code",
   "execution_count": 59,
   "metadata": {},
   "outputs": [
    {
     "data": {
      "text/plain": [
       "True"
      ]
     },
     "execution_count": 59,
     "metadata": {},
     "output_type": "execute_result"
    }
   ],
   "source": [
    "def isSortedTail(arr, ind = 0):\n",
    "    if len(arr)-1 <= ind:\n",
    "        return True\n",
    "    if arr[ind] > arr[ind + 1]:\n",
    "        return False\n",
    "    return isSorted(arr, ind+1)\n",
    "isSorted([])"
   ]
  },
  {
   "cell_type": "code",
   "execution_count": 61,
   "metadata": {},
   "outputs": [
    {
     "data": {
      "text/plain": [
       "15"
      ]
     },
     "execution_count": 61,
     "metadata": {},
     "output_type": "execute_result"
    }
   ],
   "source": [
    "def sumArray(arr):\n",
    "    if len(arr) == 0:\n",
    "        return 0\n",
    "    smallAns = sumArray(arr[1:])\n",
    "    return arr[0] + smallAns\n",
    "sumArray([1,2,3,4,5])"
   ]
  },
  {
   "cell_type": "code",
   "execution_count": 64,
   "metadata": {},
   "outputs": [
    {
     "data": {
      "text/plain": [
       "15"
      ]
     },
     "execution_count": 64,
     "metadata": {},
     "output_type": "execute_result"
    }
   ],
   "source": [
    "def sumArrayTail(arr, tot = 0):\n",
    "    if len(arr) == 0:\n",
    "        return tot\n",
    "    tot += arr[0]\n",
    "    return sumArrayTail(arr[1:], tot)\n",
    "sumArrayTail([1,2,3,4,5])"
   ]
  },
  {
   "cell_type": "markdown",
   "metadata": {},
   "source": [
    "### Find First Index of an Element in Array"
   ]
  },
  {
   "cell_type": "code",
   "execution_count": 69,
   "metadata": {},
   "outputs": [
    {
     "data": {
      "text/plain": [
       "1"
      ]
     },
     "execution_count": 69,
     "metadata": {},
     "output_type": "execute_result"
    }
   ],
   "source": [
    "def firstIndex(arr, target,ind = 0):\n",
    "    if len(arr) == ind:\n",
    "        return -1\n",
    "    if arr[ind] == target:\n",
    "        return ind\n",
    "    return firstIndex(arr, target, ind + 1)\n",
    "firstIndex([1,2,3,4,2,5,6,7,8], 2)\n"
   ]
  },
  {
   "cell_type": "markdown",
   "metadata": {},
   "source": [
    "### Print All Indices"
   ]
  },
  {
   "cell_type": "code",
   "execution_count": 70,
   "metadata": {},
   "outputs": [
    {
     "name": "stdout",
     "output_type": "stream",
     "text": [
      "0\n",
      "4\n",
      "7\n",
      "10\n"
     ]
    }
   ],
   "source": [
    "def printAllIndices(arr, target):\n",
    "    def helper(index = 0):\n",
    "        if len(arr) == index:\n",
    "            return \n",
    "        if arr[index] == target:\n",
    "            print(index)\n",
    "        helper(index + 1)\n",
    "    helper()\n",
    "printAllIndices([1,2,3,4,1,5,6,1,7,8,1], 1)"
   ]
  },
  {
   "cell_type": "markdown",
   "metadata": {},
   "source": [
    "### Update all indices in the List provided in a function"
   ]
  },
  {
   "cell_type": "code",
   "execution_count": 75,
   "metadata": {},
   "outputs": [
    {
     "name": "stdout",
     "output_type": "stream",
     "text": [
      "[1, 3, 5]\n"
     ]
    }
   ],
   "source": [
    "def updateAllIndicesProvidedList(arr,target, index, ansList):\n",
    "    if len(arr) == index:\n",
    "        return \n",
    "    if arr[index] == target:\n",
    "        ansList.append(index)\n",
    "    updateAllIndicesProvidedList(arr, target, index + 1, ansList)\n",
    "ansList = []\n",
    "updateAllIndicesProvidedList([3,2,5,2,8,2,1],2, 0 , ansList )\n",
    "print(ansList)"
   ]
  },
  {
   "cell_type": "markdown",
   "metadata": {},
   "source": [
    "### Update All Indices in a Global List"
   ]
  },
  {
   "cell_type": "code",
   "execution_count": 74,
   "metadata": {},
   "outputs": [
    {
     "name": "stdout",
     "output_type": "stream",
     "text": [
      "[1, 3, 6]\n"
     ]
    }
   ],
   "source": [
    "globalList = []\n",
    "def updateAllIndicesInGlobalList(arr, target, index=0):\n",
    "    if len(arr) == index:\n",
    "        return \n",
    "    if arr[index] == target:\n",
    "        globalList.append(index)\n",
    "    updateAllIndicesInGlobalList(arr, target, index + 1)\n",
    "updateAllIndicesInGlobalList([3,2,5,2,8,1,2],2)\n",
    "print(globalList)"
   ]
  },
  {
   "cell_type": "markdown",
   "metadata": {},
   "source": [
    "### Return List of All Indices"
   ]
  },
  {
   "cell_type": "code",
   "execution_count": 79,
   "metadata": {},
   "outputs": [
    {
     "data": {
      "text/plain": [
       "[0, 3, 5]"
      ]
     },
     "execution_count": 79,
     "metadata": {},
     "output_type": "execute_result"
    }
   ],
   "source": [
    "def returnlistofAllIndices(arr, target, index = 0):\n",
    "    if len(arr) == index:\n",
    "        return []\n",
    "    smallList = returnlistofAllIndices(arr, target, index + 1)\n",
    "    if arr[index] == target:\n",
    "        smallList.insert(0,index)\n",
    "    return smallList\n",
    "returnlistofAllIndices([2,3,5,2,8,2,1], 2)\n"
   ]
  },
  {
   "cell_type": "code",
   "execution_count": 81,
   "metadata": {},
   "outputs": [
    {
     "data": {
      "text/plain": [
       "[1, 3, 5]"
      ]
     },
     "execution_count": 81,
     "metadata": {},
     "output_type": "execute_result"
    }
   ],
   "source": [
    "def returnAllIndicesList(arr, target, index):\n",
    "    if index == len(arr):\n",
    "        return []\n",
    "    smallAns = returnAllIndicesList(arr, target, index + 1)\n",
    "    if arr[index] == target:\n",
    "        smallAns.insert(0, index)\n",
    "    return smallAns\n",
    "returnAllIndicesList([1,2,3,2,5,2], 2, 0)"
   ]
  },
  {
   "cell_type": "code",
   "execution_count": 84,
   "metadata": {},
   "outputs": [
    {
     "name": "stdout",
     "output_type": "stream",
     "text": [
      "[1, 3, 5, 6]\n"
     ]
    }
   ],
   "source": [
    "globalList = []\n",
    "def updateAllIndicesInGlobalList(arr, index, target):\n",
    "    if index == len(arr):\n",
    "        return \n",
    "    if arr[index] == target:\n",
    "        globalList.append(index)\n",
    "    updateAllIndicesInGlobalList(arr, index + 1, target)\n",
    "updateAllIndicesInGlobalList([1,2,3,2,5,2,2], 0, 2)\n",
    "print(globalList)\n"
   ]
  },
  {
   "cell_type": "markdown",
   "metadata": {},
   "source": [
    "### Linear Search Using Recursion"
   ]
  },
  {
   "cell_type": "code",
   "execution_count": 90,
   "metadata": {},
   "outputs": [
    {
     "data": {
      "text/plain": [
       "-1"
      ]
     },
     "execution_count": 90,
     "metadata": {},
     "output_type": "execute_result"
    }
   ],
   "source": [
    "def LinearSearch(arr, target):\n",
    "   def helper(index = 0):\n",
    "      if len(arr) == index:\n",
    "         return -1\n",
    "      if arr[index] == target:\n",
    "         return index\n",
    "      return helper(index +1)\n",
    "   return helper()\n",
    "LinearSearch([1,2,3,4,5], 6)"
   ]
  },
  {
   "cell_type": "markdown",
   "metadata": {},
   "source": [
    "### Binary Search Using Recursion"
   ]
  },
  {
   "cell_type": "code",
   "execution_count": 99,
   "metadata": {},
   "outputs": [
    {
     "data": {
      "text/plain": [
       "False"
      ]
     },
     "execution_count": 99,
     "metadata": {},
     "output_type": "execute_result"
    }
   ],
   "source": [
    "def BinarySearch(arr, target):\n",
    "    def helper(arr, target, start, end):\n",
    "      if start > end:\n",
    "         return False\n",
    "      mid = start + (end - start)//2\n",
    "      if arr[mid] == target:\n",
    "         return mid\n",
    "      if arr[mid] > target:\n",
    "         return helper(arr, target, start, mid - 1)\n",
    "      else:\n",
    "         return helper(arr, target, start + 1, end)\n",
    "    return helper(arr, target, 0, len(arr) - 1)\n",
    "BinarySearch([1,2,3,4,5], 5)"
   ]
  },
  {
   "cell_type": "markdown",
   "metadata": {},
   "source": [
    "### Merge Sort Using Recursion"
   ]
  },
  {
   "cell_type": "code",
   "execution_count": 104,
   "metadata": {},
   "outputs": [
    {
     "data": {
      "text/plain": [
       "[1, 2, 5, 6, 7, 9]"
      ]
     },
     "execution_count": 104,
     "metadata": {},
     "output_type": "execute_result"
    }
   ],
   "source": [
    "def merge_sort(arr):\n",
    "    def merge(left, right):\n",
    "        sorted_list = []\n",
    "        i = j = 0\n",
    "        while i < len(left) and j < len(right):\n",
    "            if left[i] < right[j]:\n",
    "                sorted_list.append(left[i])\n",
    "                i +=1\n",
    "            else:\n",
    "                sorted_list.append(right[j])\n",
    "                j+=1\n",
    "        while i < len(left):\n",
    "            sorted_list.append(left[i])\n",
    "            i += 1\n",
    "        while j < len(right):\n",
    "            sorted_list.append(right[j])\n",
    "            j+=1\n",
    "        return sorted_list\n",
    "    if len(arr) <= 1:\n",
    "        return arr\n",
    "    mid = len(arr) // 2\n",
    "    left = merge_sort(arr[:mid])\n",
    "    right = merge_sort(arr[mid:])\n",
    "    return merge(left, right)\n",
    "merge_sort([5, 2, 9, 1, 7, 6])"
   ]
  },
  {
   "cell_type": "markdown",
   "metadata": {},
   "source": [
    "### Quick Sort Using Recursion"
   ]
  },
  {
   "cell_type": "code",
   "execution_count": 105,
   "metadata": {},
   "outputs": [
    {
     "data": {
      "text/plain": [
       "[1, 2, 5, 5, 6, 9]"
      ]
     },
     "execution_count": 105,
     "metadata": {},
     "output_type": "execute_result"
    }
   ],
   "source": [
    "def quick_sort(arr):\n",
    "    if len(arr) <= 1:\n",
    "        return arr\n",
    "    pivot = arr[-1]\n",
    "    less_than_pivot = []\n",
    "    greater_then_pivot = []\n",
    "    for i in range(len(arr) - 1):\n",
    "        if arr[i] < pivot:\n",
    "            less_than_pivot.append(arr[i])\n",
    "        else:\n",
    "            greater_then_pivot.append(arr[i])\n",
    "    left = quick_sort(less_than_pivot)\n",
    "    right = quick_sort(greater_then_pivot)\n",
    "    return left + [pivot] + right\n",
    "quick_sort([5,2,9,1,5,6])"
   ]
  },
  {
   "cell_type": "markdown",
   "metadata": {},
   "source": [
    "### Check Palindrome String Using Recursion"
   ]
  },
  {
   "cell_type": "code",
   "execution_count": 111,
   "metadata": {},
   "outputs": [
    {
     "data": {
      "text/plain": [
       "True"
      ]
     },
     "execution_count": 111,
     "metadata": {},
     "output_type": "execute_result"
    }
   ],
   "source": [
    "def is_palindrome(s1):\n",
    "    def palindrome_helper(s1, start, end):\n",
    "        if start >= end:\n",
    "            return True\n",
    "        if s1[start] != s1[end]:\n",
    "            return False\n",
    "        return palindrome_helper(s1, start + 1, end - 1)\n",
    "    return palindrome_helper(s1, 0, len(s1) - 1)\n",
    "is_palindrome(\"civic\")"
   ]
  },
  {
   "cell_type": "markdown",
   "metadata": {},
   "source": [
    "### Return Subsequence of A String"
   ]
  },
  {
   "cell_type": "code",
   "execution_count": 112,
   "metadata": {},
   "outputs": [
    {
     "data": {
      "text/plain": [
       "['', 'c', 'b', 'bc', 'a', 'ac', 'ab', 'abc']"
      ]
     },
     "execution_count": 112,
     "metadata": {},
     "output_type": "execute_result"
    }
   ],
   "source": [
    "def return_subsequence(s1):\n",
    "    if s1 == \"\":\n",
    "        return [\"\"]\n",
    "    smallAns = return_subsequence(s1[1:])\n",
    "    myChar = s1[0]\n",
    "    ans = []\n",
    "    ans.extend(smallAns)\n",
    "    for char in smallAns:\n",
    "        ans.append(myChar + char)\n",
    "    return ans\n",
    "return_subsequence(\"abc\")"
   ]
  },
  {
   "cell_type": "markdown",
   "metadata": {},
   "source": [
    "### Print Subsequence of A String"
   ]
  },
  {
   "cell_type": "code",
   "execution_count": 114,
   "metadata": {},
   "outputs": [
    {
     "name": "stdout",
     "output_type": "stream",
     "text": [
      "abc\n",
      "ab\n",
      "ac\n",
      "a\n",
      "bc\n",
      "b\n",
      "c\n",
      "\n"
     ]
    }
   ],
   "source": [
    "def print_subsequence(s1, takenSoFar = \"\"):\n",
    "    if s1 == \"\":\n",
    "        print(takenSoFar)\n",
    "        return \n",
    "    myChar = s1[0]\n",
    "    smallInput = s1[1:]\n",
    "    print_subsequence(smallInput, takenSoFar + myChar)\n",
    "    print_subsequence(smallInput, takenSoFar)\n",
    "print_subsequence(\"abc\")"
   ]
  },
  {
   "cell_type": "markdown",
   "metadata": {},
   "source": [
    "### Return Permutation of a String"
   ]
  },
  {
   "cell_type": "code",
   "execution_count": 6,
   "metadata": {},
   "outputs": [
    {
     "data": {
      "text/plain": [
       "['abc', 'bac', 'bca', 'acb', 'cab', 'cba']"
      ]
     },
     "execution_count": 6,
     "metadata": {},
     "output_type": "execute_result"
    }
   ],
   "source": [
    "def return_permutation(s1):\n",
    "    if s1 == \"\":\n",
    "        return [\"\"]\n",
    "    permOfSmallString = return_permutation(s1[1:])\n",
    "    myChar = s1[0]\n",
    "    allPerms = []\n",
    "    for eachPerm in permOfSmallString:\n",
    "        for i in range(len(eachPerm) + 1):\n",
    "            allPerms.append(eachPerm[:i] + myChar + eachPerm[i:])\n",
    "    return allPerms\n",
    "return_permutation(\"abc\")"
   ]
  },
  {
   "cell_type": "markdown",
   "metadata": {},
   "source": [
    "### Print Permutation Of a String"
   ]
  },
  {
   "cell_type": "code",
   "execution_count": 120,
   "metadata": {},
   "outputs": [
    {
     "name": "stdout",
     "output_type": "stream",
     "text": [
      "cba\n",
      "bca\n",
      "bac\n",
      "cab\n",
      "acb\n",
      "abc\n"
     ]
    }
   ],
   "source": [
    "def print_permutation(s1, takenSoFar = \"\"):\n",
    "    if s1 == \"\":\n",
    "        print(takenSoFar)\n",
    "        return \n",
    "    myChar = s1[0]\n",
    "    smallInput = s1[1:]\n",
    "    for i in range(len(takenSoFar) + 1):\n",
    "        print_permutation(smallInput, takenSoFar[:i] + myChar + takenSoFar[i:])\n",
    "print_permutation(\"abc\")"
   ]
  },
  {
   "cell_type": "markdown",
   "metadata": {},
   "source": [
    "### Return all Possible Keypad Codes"
   ]
  },
  {
   "cell_type": "code",
   "execution_count": 8,
   "metadata": {},
   "outputs": [
    {
     "data": {
      "text/plain": [
       "['ad', 'ae', 'af', 'bd', 'be', 'bf', 'cd', 'ce', 'cf']"
      ]
     },
     "execution_count": 8,
     "metadata": {},
     "output_type": "execute_result"
    }
   ],
   "source": [
    "keys = {\"2\":\"abc\", \"3\":\"def\", \"4\":\"ghi\", \"5\":\"jkl\", \"6\":\"mno\",\"7\":\"pqrs\", \"8\":\"tuv\",\"9\":\"wxyz\"}\n",
    "def return_keypad_codes(input):\n",
    "    if input == \"\":\n",
    "        return [\"\"]\n",
    "    smallAns = return_keypad_codes(input[1:])\n",
    "    myLetters = keys[input[0]]\n",
    "    keypad_codes = []\n",
    "    for letter in myLetters:\n",
    "        for char in smallAns:\n",
    "            keypad_codes.append(letter + char)\n",
    "    return keypad_codes\n",
    "return_keypad_codes(\"23\")\n"
   ]
  },
  {
   "cell_type": "markdown",
   "metadata": {},
   "source": [
    "### Print All Possible Keypad Codes"
   ]
  },
  {
   "cell_type": "code",
   "execution_count": 123,
   "metadata": {},
   "outputs": [
    {
     "name": "stdout",
     "output_type": "stream",
     "text": [
      "ad\n",
      "ae\n",
      "af\n",
      "bd\n",
      "be\n",
      "bf\n",
      "cd\n",
      "ce\n",
      "cf\n"
     ]
    }
   ],
   "source": [
    "def print_keypad_codes(input, takenSoFar = \"\"):\n",
    "    if input == \"\":\n",
    "        print(takenSoFar)\n",
    "        return \n",
    "    myLetters = keys[input[0]]\n",
    "    for letter in myLetters:\n",
    "        print_keypad_codes(input[1:], takenSoFar + letter)\n",
    "print_keypad_codes(\"23\")"
   ]
  },
  {
   "cell_type": "markdown",
   "metadata": {},
   "source": [
    "### Return All Possible Codes"
   ]
  },
  {
   "cell_type": "code",
   "execution_count": 175,
   "metadata": {},
   "outputs": [
    {
     "data": {
      "text/plain": [
       "['aabc', 'aaw', 'alc', 'kbc', 'kw']"
      ]
     },
     "execution_count": 175,
     "metadata": {},
     "output_type": "execute_result"
    }
   ],
   "source": [
    "def get_chr(value):\n",
    "    return chr(value + 96)\n",
    "get_chr(26)\n",
    "def return_all_codes(input):\n",
    "    if input == \"\":\n",
    "        return [\"\"]\n",
    "    permWithoutSingleDigit = return_all_codes(input[1:])\n",
    "    permWithoutDoubleDigit = return_all_codes(input[2:])\n",
    "    singleDigit = int(input[0:1])\n",
    "    doubleDigit = int(input[0:2])\n",
    "    allPerm = []\n",
    "    for eachPerm in permWithoutSingleDigit:\n",
    "        allPerm.append(get_chr(singleDigit) + eachPerm )\n",
    "    if doubleDigit >= 10 and doubleDigit <= 26:\n",
    "        for eachPerm in permWithoutDoubleDigit:\n",
    "            allPerm.append(get_chr(doubleDigit) + eachPerm )\n",
    "    return allPerm\n",
    "return_all_codes(\"1123\")\n",
    "    "
   ]
  },
  {
   "cell_type": "markdown",
   "metadata": {},
   "source": [
    "### Print All Possible Codes"
   ]
  },
  {
   "cell_type": "code",
   "execution_count": 159,
   "metadata": {},
   "outputs": [
    {
     "name": "stdout",
     "output_type": "stream",
     "text": [
      "aabc\n",
      "aaw\n",
      "alc\n",
      "kbc\n",
      "kw\n"
     ]
    }
   ],
   "source": [
    "def get_chr(value):\n",
    "    return chr(value + 96)\n",
    "def print_all_codes(input, takenSoFar = \"\"):\n",
    "    if input == \"\":\n",
    "        print(takenSoFar)\n",
    "        return \n",
    "    if len(input) == 1:\n",
    "        print(takenSoFar + get_chr(int(input)))\n",
    "        return \n",
    "    singleDigit = int(input[0:1])\n",
    "    doubleDigit = int(input[0:2])\n",
    "    print_all_codes(input[1:], takenSoFar + get_chr(singleDigit))\n",
    "    if doubleDigit >= 10 and doubleDigit <= 26:\n",
    "        print_all_codes(input[2:], takenSoFar + get_chr(doubleDigit))\n",
    "print_all_codes(\"1123\")\n"
   ]
  },
  {
   "cell_type": "markdown",
   "metadata": {},
   "source": [
    "### Tower of Hanoi"
   ]
  },
  {
   "cell_type": "code",
   "execution_count": 173,
   "metadata": {},
   "outputs": [
    {
     "name": "stdout",
     "output_type": "stream",
     "text": [
      "source --> destination\n",
      "source --> auxiliary\n",
      "destination --> auxiliary\n",
      "source --> destination\n",
      "auxiliary --> source\n",
      "auxiliary --> destination\n",
      "source --> destination\n"
     ]
    }
   ],
   "source": [
    "def Tower_of_Hanoi(n, source, destination, auxiliary):\n",
    "    if n == 0:\n",
    "        return\n",
    "    if n == 1:\n",
    "        print(source, \"-->\", destination) \n",
    "        return \n",
    "    Tower_of_Hanoi(n-1, source, auxiliary, destination)\n",
    "    print(source, \"-->\", destination)\n",
    "    Tower_of_Hanoi(n-1, auxiliary, destination, source)\n",
    "Tower_of_Hanoi(3, \"source\", \"destination\", \"auxiliary\")"
   ]
  }
 ],
 "metadata": {
  "kernelspec": {
   "display_name": "base",
   "language": "python",
   "name": "python3"
  },
  "language_info": {
   "codemirror_mode": {
    "name": "ipython",
    "version": 3
   },
   "file_extension": ".py",
   "mimetype": "text/x-python",
   "name": "python",
   "nbconvert_exporter": "python",
   "pygments_lexer": "ipython3",
   "version": "3.12.3"
  }
 },
 "nbformat": 4,
 "nbformat_minor": 2
}
