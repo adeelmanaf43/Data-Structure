{
  "nbformat": 4,
  "nbformat_minor": 0,
  "metadata": {
    "colab": {
      "provenance": []
    },
    "kernelspec": {
      "name": "python3",
      "display_name": "Python 3"
    },
    "language_info": {
      "name": "python"
    }
  },
  "cells": [
    {
      "cell_type": "markdown",
      "source": [
        "# Trees: Generic Trees\n",
        "\n",
        "i) Primary -> (Arrays, Linked List, Tree)\n",
        "\n",
        "ii) Derived -> Stack, Queues\n",
        "\n",
        "Tree is a non-linear data structure and it is heirarchical.\n",
        "\n",
        "Trees is a heirarchical data structure consisting of nodes which are connected by edges."
      ],
      "metadata": {
        "id": "d9VepgVgGsLH"
      }
    },
    {
      "cell_type": "markdown",
      "source": [
        "# Examples of Trees\n",
        "\n",
        "- Family Tree\n",
        "- Organizational Chart\n",
        "\n",
        "Practical Examples:\n",
        "- File Structure\n",
        "- Decision Tree\n",
        "\n",
        "Industrial examples\n",
        "\n",
        "- Indexing in a database\n",
        "- Network Routing\n",
        "- HTML DOM"
      ],
      "metadata": {
        "id": "HoJquSVwIaZY"
      }
    },
    {
      "cell_type": "markdown",
      "source": [
        "# Terminonolgy in Trees\n",
        "1. Node -> each item of my tree\n",
        "2. Edge -> Connection between 2 nodes.\n",
        "3. Root -> The top most node\n",
        "4. Leaf -> Node with no children\n",
        "5. Parent\n",
        "6. Child\n",
        "7. Ancestors (Every thing is above)\n",
        "8. Descendants (Everything below)"
      ],
      "metadata": {
        "id": "JF-WDruOKDEh"
      }
    },
    {
      "cell_type": "markdown",
      "source": [
        "# Tree Implementation"
      ],
      "metadata": {
        "id": "WAUVndMqNenZ"
      }
    },
    {
      "cell_type": "code",
      "execution_count": null,
      "metadata": {
        "id": "vo5qyPa0Gp_p"
      },
      "outputs": [],
      "source": [
        "class TreeNode:\n",
        "    def __init__(self, data):\n",
        "        self.data = data\n",
        "        self.children = []\n",
        "\n",
        "root = TreeNode(1)\n",
        "child1 = TreeNode(2)\n",
        "child2 = TreeNode(3)\n",
        "child3 = TreeNode(4)\n",
        "root.children.append(child1)\n",
        "root.children.append(child2)\n",
        "root.children.append(child3)\n"
      ]
    },
    {
      "cell_type": "code",
      "source": [
        "print(root.children[2].data)"
      ],
      "metadata": {
        "colab": {
          "base_uri": "https://localhost:8080/"
        },
        "id": "xD2G4hYpPKGM",
        "outputId": "4f695b82-96bb-45f8-ff57-110240b1f1e2"
      },
      "execution_count": null,
      "outputs": [
        {
          "output_type": "stream",
          "name": "stdout",
          "text": [
            "4\n"
          ]
        }
      ]
    },
    {
      "cell_type": "code",
      "source": [
        "# ### Organization Tree\n",
        "# root = TreeNode(\"CEO\")\n",
        "# head_of_sales = TreeNode(\"Head Of CEO\")\n",
        "# head_of_marketing = TreeNode(\"Head Of Marketing\")\n",
        "# sales_executive = TreeNode(\"Sales Executive\")\n",
        "# marketing_executive = TreeNode(\"Marketing Executive\")"
      ],
      "metadata": {
        "id": "1MDn_v2YPRvg"
      },
      "execution_count": null,
      "outputs": []
    },
    {
      "cell_type": "markdown",
      "source": [
        "# Print Tree"
      ],
      "metadata": {
        "id": "nn6fl2MNQjEL"
      }
    },
    {
      "cell_type": "code",
      "source": [
        "# we handle root and call recursion on the rest\n",
        "def print_tree(root):\n",
        "    print(root.data)\n",
        "\n",
        "    for eachChild in root.children:\n",
        "        print_tree(eachChild)\n",
        "print_tree(root)\n",
        "\n"
      ],
      "metadata": {
        "colab": {
          "base_uri": "https://localhost:8080/"
        },
        "id": "srwmMYc3QYha",
        "outputId": "7ac4a005-ea00-4350-9233-90a5d1a292e4"
      },
      "execution_count": null,
      "outputs": [
        {
          "output_type": "stream",
          "name": "stdout",
          "text": [
            "1\n",
            "2\n",
            "3\n",
            "4\n"
          ]
        }
      ]
    },
    {
      "cell_type": "markdown",
      "source": [
        "# Print Tree Detailed"
      ],
      "metadata": {
        "id": "RAA3OqpZUTr3"
      }
    },
    {
      "cell_type": "code",
      "source": [
        "root = TreeNode(1)\n",
        "child1 = TreeNode(2)\n",
        "child2 = TreeNode(3)\n",
        "child3 = TreeNode(4)\n",
        "root.children.append(child1)\n",
        "child1.children.append(child2)\n",
        "root.children.append(child3)\n"
      ],
      "metadata": {
        "id": "anWE_lLUYcjZ"
      },
      "execution_count": null,
      "outputs": []
    },
    {
      "cell_type": "code",
      "source": [
        "root = TreeNode(1)\n",
        "child1 = TreeNode(2)\n",
        "child2 = TreeNode(3)\n",
        "child3 = TreeNode(4)\n",
        "root.children.append(child1)\n",
        "root.children.append(child2)\n",
        "root.children.append(child3)\n",
        "def print_tree_detailed(root):\n",
        "    if root is None: #edge case\n",
        "        return\n",
        "    print(f\"{root.data}:\", end = \"\")\n",
        "    for eachChild in root.children:\n",
        "        print(eachChild.data, end = \",\")\n",
        "    print()\n",
        "    for eachChild in root.children:\n",
        "        print_tree_detailed(eachChild)\n",
        "print_tree_detailed(root)\n",
        "\n"
      ],
      "metadata": {
        "colab": {
          "base_uri": "https://localhost:8080/"
        },
        "id": "gc9m9cx_RJAu",
        "outputId": "380de8ec-b1da-49da-90fb-e4920c866135"
      },
      "execution_count": null,
      "outputs": [
        {
          "output_type": "stream",
          "name": "stdout",
          "text": [
            "1:2,3,4,\n",
            "2:\n",
            "3:\n",
            "4:\n"
          ]
        }
      ]
    },
    {
      "cell_type": "markdown",
      "source": [
        "# Take Input Recursively"
      ],
      "metadata": {
        "id": "C1kSIOVEY3gI"
      }
    },
    {
      "cell_type": "code",
      "source": [
        "def take_input():\n",
        "    data = int(input(\"Enter the data for the Node: \"))\n",
        "    node = TreeNode(data)\n",
        "    num_children = int(input(f\"Enter the number of children for {data}: \"))\n",
        "    for _ in range(num_children):\n",
        "        child = take_input()\n",
        "        node.children.append(child)\n",
        "    return node\n",
        "root = take_input()\n"
      ],
      "metadata": {
        "colab": {
          "base_uri": "https://localhost:8080/"
        },
        "id": "ZGTeHQkiVzul",
        "outputId": "fdc2532b-8834-4bf6-db4a-a61d7a9d8f99"
      },
      "execution_count": null,
      "outputs": [
        {
          "name": "stdout",
          "output_type": "stream",
          "text": [
            "Enter the data for the Node: 1\n",
            "Enter the number of children for 1: 3\n",
            "Enter the data for the Node: 2\n",
            "Enter the number of children for 2: 1\n",
            "Enter the data for the Node: 5\n",
            "Enter the number of children for 5: 1\n",
            "Enter the data for the Node: 6\n",
            "Enter the number of children for 6: 0\n",
            "Enter the data for the Node: 3\n",
            "Enter the number of children for 3: 0\n",
            "Enter the data for the Node: 4\n",
            "Enter the number of children for 4: 0\n"
          ]
        }
      ]
    },
    {
      "cell_type": "markdown",
      "source": [
        "# Take Input Level Wise\n",
        "- Taking input level wise\n",
        "- We will process our nodes the first to come will be the first to get process"
      ],
      "metadata": {
        "id": "vnOBkkpqbfIQ"
      }
    },
    {
      "cell_type": "code",
      "source": [
        "\n",
        "\n",
        "from collections import deque\n",
        "def take_input_level_wise():\n",
        "    data = int(input(\"Enter the root data: \"))\n",
        "    root = TreeNode(data)\n",
        "    queue = deque([root])\n",
        "    while (len(queue)) != 0:\n",
        "        current_node = queue.popleft()\n",
        "        num_children = int(input(\"Enter the number of children for: \" + str(current_node.data)))\n",
        "\n",
        "        for i in range(num_children):\n",
        "            child_data = int(input(f\"Enter the data for child {i+1} of Node {current_node.data}: \"))\n",
        "            child_node = TreeNode(child_data)\n",
        "            current_node.children.append(child_node)\n",
        "            queue.append(child_node)\n",
        "    return root\n",
        "root = take_input_level_wise()\n",
        "print_tree_detailed(root)\n"
      ],
      "metadata": {
        "id": "E2YsfsqnaV4w"
      },
      "execution_count": null,
      "outputs": []
    },
    {
      "cell_type": "markdown",
      "source": [
        "# Count Nodes in a Tree"
      ],
      "metadata": {
        "id": "6P1gkUydh8Cp"
      }
    },
    {
      "cell_type": "code",
      "source": [
        "def predefined_generic_tree_inputs():\n",
        "    #Tree 1\n",
        "    root1 = TreeNode(1)\n",
        "    child1 = TreeNode(2)\n",
        "    child2 = TreeNode(3)\n",
        "    root1.children.append(child1)\n",
        "    root1.children.append(child2)\n",
        "    child1.children.append(TreeNode(4))\n",
        "    child1.children.append(TreeNode(5))\n",
        "\n",
        "    # Tree 2\n",
        "    root2 = TreeNode(10)\n",
        "    child1 = TreeNode(20)\n",
        "    child2 = TreeNode(30)\n",
        "    child3 = TreeNode(40)\n",
        "    root2.children.append(child1)\n",
        "    root2.children.append(child2)\n",
        "    root2.children.append(child3)\n",
        "    child2.children.append(TreeNode(50))\n",
        "    child2.children.append(TreeNode(60))\n",
        "\n",
        "    #Tree 3\n",
        "    root3 = TreeNode(100)\n",
        "    child1 = TreeNode(200)\n",
        "    root3.children.append(child1)\n",
        "    root3.children.append(TreeNode(300))\n",
        "    child1.children.append(TreeNode(400))\n",
        "    child1.children.append(TreeNode(500))\n",
        "    return root1, root2, root3"
      ],
      "metadata": {
        "id": "3TrKFZQTisDf"
      },
      "execution_count": null,
      "outputs": []
    },
    {
      "cell_type": "code",
      "source": [
        "def count_nodes(root):\n",
        "    if (root is None):\n",
        "        return 0\n",
        "    numberOfNodes = 1\n",
        "    for eachChild in root.children:\n",
        "        numberOfNodes = numberOfNodes + count_nodes(eachChild)\n",
        "    return numberOfNodes\n",
        "tree1, tree2, tree3 = predefined_generic_tree_inputs()\n",
        "print(count_nodes(tree1))\n",
        "print(count_nodes(tree2))\n",
        "print(count_nodes(tree3))"
      ],
      "metadata": {
        "colab": {
          "base_uri": "https://localhost:8080/"
        },
        "id": "HLf0lJ8hdZpD",
        "outputId": "66ddb12c-33cb-4eff-d8b4-88c2584e5d27"
      },
      "execution_count": null,
      "outputs": [
        {
          "output_type": "stream",
          "name": "stdout",
          "text": [
            "5\n",
            "6\n",
            "5\n"
          ]
        }
      ]
    },
    {
      "cell_type": "markdown",
      "source": [
        "# Finding Height of the Tree"
      ],
      "metadata": {
        "id": "rHU9H94dkxLL"
      }
    },
    {
      "cell_type": "code",
      "source": [
        "def height_of_a_tree(root):\n",
        "    if root is None:\n",
        "        return 0\n",
        "    height = 1\n",
        "    max_child_height = 0\n",
        "    for eachChild in root.children:\n",
        "        max_child_height = max(max_child_height,height_of_a_tree(eachChild))\n",
        "    height = height + max_child_height\n",
        "    return height\n",
        "tree1, tree2, tree3 = predefined_generic_tree_inputs()\n",
        "print(height_of_a_tree(tree1))\n",
        "print(height_of_a_tree(tree2))\n",
        "print(height_of_a_tree(tree3))\n"
      ],
      "metadata": {
        "colab": {
          "base_uri": "https://localhost:8080/"
        },
        "id": "EGT7ZrWajErX",
        "outputId": "8e7bb274-5dc7-4a7f-8469-5f31bfe9c3c7"
      },
      "execution_count": null,
      "outputs": [
        {
          "output_type": "stream",
          "name": "stdout",
          "text": [
            "3\n",
            "3\n",
            "3\n"
          ]
        }
      ]
    },
    {
      "cell_type": "markdown",
      "source": [
        "# Traversal of a Tree\n",
        "\n",
        "Parent -> Child"
      ],
      "metadata": {
        "id": "TOuZH7REnV84"
      }
    },
    {
      "cell_type": "code",
      "source": [
        "#pre order traversal\n",
        "def preorder_traversal(root):\n",
        "    if root is None:\n",
        "        return\n",
        "    print(root.data, end = \" \")\n",
        "    for eachChild in root.children:\n",
        "        preorder_traversal(eachChild)\n",
        "preorder_traversal(tree1)"
      ],
      "metadata": {
        "colab": {
          "base_uri": "https://localhost:8080/"
        },
        "id": "zpNHXka7m7Im",
        "outputId": "29075c92-0292-43a5-f079-6c0fb43eaca8"
      },
      "execution_count": null,
      "outputs": [
        {
          "output_type": "stream",
          "name": "stdout",
          "text": [
            "1 2 5 6 3 "
          ]
        }
      ]
    },
    {
      "cell_type": "code",
      "source": [
        "#post order traversal\n",
        "def postorder_traversal(root):\n",
        "    if root is None:\n",
        "        return\n",
        "    for eachChild in root.children:\n",
        "        preorder_traversal(eachChild)\n",
        "    print(root.data)\n",
        "postorder_traversal(tree1)"
      ],
      "metadata": {
        "colab": {
          "base_uri": "https://localhost:8080/"
        },
        "id": "qMrtX0S5F5b6",
        "outputId": "4e4d99e3-dc4a-4840-9f3e-4eadededd303"
      },
      "execution_count": null,
      "outputs": [
        {
          "output_type": "stream",
          "name": "stdout",
          "text": [
            "2 5 6 3 1\n"
          ]
        }
      ]
    },
    {
      "cell_type": "code",
      "source": [],
      "metadata": {
        "id": "JstF3GOEGece"
      },
      "execution_count": null,
      "outputs": []
    },
    {
      "cell_type": "code",
      "source": [
        "print_tree_detailed(tree1)"
      ],
      "metadata": {
        "colab": {
          "base_uri": "https://localhost:8080/"
        },
        "id": "IQIQ73sxGFzu",
        "outputId": "f6cc3198-abfe-4ffa-97b3-baab0223bc0e"
      },
      "execution_count": null,
      "outputs": [
        {
          "output_type": "stream",
          "name": "stdout",
          "text": [
            "1:2,3,\n",
            "2:5,5,\n",
            "5:\n",
            "5:\n",
            "3:\n"
          ]
        }
      ]
    },
    {
      "cell_type": "code",
      "source": [],
      "metadata": {
        "id": "B7rlsBWzGMid"
      },
      "execution_count": null,
      "outputs": []
    }
  ]
}