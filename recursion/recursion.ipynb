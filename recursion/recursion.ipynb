{
 "cells": [
  {
   "cell_type": "markdown",
   "metadata": {},
   "source": [
    "### Recursion \n",
    "Most important topic\n",
    "\n",
    "Let us understand few concepts on function.\n",
    "\n"
   ]
  },
  {
   "cell_type": "code",
   "execution_count": 3,
   "metadata": {},
   "outputs": [
    {
     "name": "stdout",
     "output_type": "stream",
     "text": [
      "5\n",
      "4\n",
      "3\n",
      "2\n",
      "1\n"
     ]
    }
   ],
   "source": [
    "def printNumFive(num):\n",
    "    print(num)\n",
    "printNumFive(5)\n",
    "printNumFive(4)\n",
    "printNumFive(3)\n",
    "printNumFive(2)\n",
    "printNumFive(1)\n",
    "#To just use above function and a single print statement to print out numbers from\n",
    "# 5 to 1\n"
   ]
  },
  {
   "cell_type": "markdown",
   "metadata": {},
   "source": [
    "A function can call another function "
   ]
  },
  {
   "cell_type": "code",
   "execution_count": 4,
   "metadata": {},
   "outputs": [
    {
     "name": "stdout",
     "output_type": "stream",
     "text": [
      "5\n",
      "4\n",
      "3\n",
      "2\n",
      "1\n"
     ]
    }
   ],
   "source": [
    "def printNumFive(num):\n",
    "    print(num)\n",
    "    printNumFour(num-1)\n",
    "def printNumFour(num):\n",
    "    print(num)\n",
    "    printNumThree(num - 1)\n",
    "def printNumThree(num):\n",
    "    print(num)\n",
    "    printNumTwo(num - 1)\n",
    "def printNumTwo(num):\n",
    "    print(num)\n",
    "    printNumOne(num-1)\n",
    "def printNumOne(num):\n",
    "    print(num)\n",
    "printNumFive(5)\n",
    "\n"
   ]
  },
  {
   "cell_type": "markdown",
   "metadata": {},
   "source": [
    "In above code first printNumFive() will be called and it will print 5 and  it will call printNumFour() and it will stays in the memory because it's work is not completed and then printNumFour() print 4, and will call prinNumThree() and it will stays in the memory because it's work is not completed and then printNumThree() print 3, and it will call prinNumTwo() and it will stays in the memory because it's work is not completed and then prinNumTwo() print 2 and will call printNumOne() and it will stays in the memory. Now printNumOne() will print 1, and it will be deleted from the memory because it's work is completed and then printNumTwo() will be deleted from the memory because it's work is completed, and then printNumThree() will be deleted from the memory because it's work is completed, and then printNumFour() will be deleted from the memory because it's work is completed and at the ened printNumFive() will be deleted from the memory."
   ]
  },
  {
   "cell_type": "markdown",
   "metadata": {},
   "source": [
    "1. We can call a function from inside another function.\n",
    "2. A function stays in the memory until it gets fully executed.\n",
    "\n",
    "1. We are doing almost similar work in each of the function.\n",
    "\n",
    "- Question. Can a function call itself?"
   ]
  },
  {
   "cell_type": "markdown",
   "metadata": {},
   "source": [
    "### Function Calling itself as well?"
   ]
  },
  {
   "cell_type": "code",
   "execution_count": 8,
   "metadata": {},
   "outputs": [
    {
     "name": "stdout",
     "output_type": "stream",
     "text": [
      "5\n",
      "4\n",
      "3\n",
      "2\n",
      "1\n"
     ]
    }
   ],
   "source": [
    "def printNum(num):\n",
    "    if num == 0:    \n",
    "        return \n",
    "    print(num)\n",
    "    printNum(num - 1)\n",
    "printNum(5)\n"
   ]
  },
  {
   "cell_type": "code",
   "execution_count": 10,
   "metadata": {},
   "outputs": [
    {
     "name": "stdout",
     "output_type": "stream",
     "text": [
      "5\n",
      "4\n",
      "3\n",
      "2\n",
      "1\n"
     ]
    }
   ],
   "source": [
    "def printNum(num):\n",
    "    if num == 0:\n",
    "        return\n",
    "    print(num)\n",
    "    printNum(num-1)\n",
    "printNum(5)"
   ]
  },
  {
   "cell_type": "code",
   "execution_count": 11,
   "metadata": {},
   "outputs": [
    {
     "name": "stdout",
     "output_type": "stream",
     "text": [
      "5\n",
      "4\n",
      "3\n",
      "2\n",
      "1\n"
     ]
    }
   ],
   "source": [
    "def printNum(num):\n",
    "    print(num)\n",
    "    if num == 1:\n",
    "        return\n",
    "    printNum(num-1)\n",
    "printNum(5)"
   ]
  },
  {
   "cell_type": "markdown",
   "metadata": {},
   "source": [
    "With this exercise 2 things are clear.\n",
    "\n",
    "1. Functions wait in the memory unless their work is completed.\n",
    "2. When a function finishes execution, then only it comes out of program and gets deleted from the stack.\n",
    "\n",
    "##### Recursion is a function calling itself\n",
    "\n",
    "##### Recursion is when solution of a problem depends on same smaller problem."
   ]
  },
  {
   "cell_type": "markdown",
   "metadata": {},
   "source": [
    "### Factorial of number"
   ]
  },
  {
   "cell_type": "code",
   "execution_count": null,
   "metadata": {},
   "outputs": [],
   "source": [
    "#fact(n) = n! = n * (n-1) * (n-2) * ..... 1 \n",
    "# n! = n* (n-1)!\n",
    "# fact(n) = n * fact(n-1)!\n",
    "#fact(n-1) = (n-1) * fact(n-2)"
   ]
  },
  {
   "cell_type": "code",
   "execution_count": 15,
   "metadata": {},
   "outputs": [
    {
     "data": {
      "text/plain": [
       "6"
      ]
     },
     "execution_count": 15,
     "metadata": {},
     "output_type": "execute_result"
    }
   ],
   "source": [
    "def factorial(num):\n",
    "    if num == 1:\n",
    "        return 1\n",
    "    return num * factorial(num - 1)\n",
    "factorial(3)"
   ]
  },
  {
   "cell_type": "code",
   "execution_count": 19,
   "metadata": {},
   "outputs": [
    {
     "data": {
      "text/plain": [
       "720"
      ]
     },
     "execution_count": 19,
     "metadata": {},
     "output_type": "execute_result"
    }
   ],
   "source": [
    "def factorial(n):\n",
    "    if n == 1: #base case, base limit\n",
    "        return 1\n",
    "    smallAns = factorial(n-1)\n",
    "    ans = n * smallAns\n",
    "    return ans\n",
    "factorial(6)"
   ]
  },
  {
   "cell_type": "markdown",
   "metadata": {},
   "source": [
    "- Recursion was givig us maximum depth exceeded.\n",
    "- We have to make sure that recursion stops somewhere and do not keep on going till infinity.\n",
    "- We add a base case."
   ]
  },
  {
   "cell_type": "code",
   "execution_count": 20,
   "metadata": {},
   "outputs": [
    {
     "data": {
      "text/plain": [
       "120"
      ]
     },
     "execution_count": 20,
     "metadata": {},
     "output_type": "execute_result"
    }
   ],
   "source": [
    "def factorial(n):\n",
    "    smallAns = factorialFour(n-1)\n",
    "    ans = n * smallAns\n",
    "    return ans\n",
    "def factorialFour(n):\n",
    "    smallAns = factorialThree(n-1)\n",
    "    ans = n * smallAns\n",
    "    return ans\n",
    "def factorialThree(n):\n",
    "    smallAns = factorialTwo(n-1)\n",
    "    ans = n * smallAns\n",
    "    return ans\n",
    "def factorialTwo(n):\n",
    "    smallAns = factorialOne(n-1)\n",
    "    ans = n * smallAns\n",
    "    return ans\n",
    "def factorialOne(n):\n",
    "   return 1\n",
    "factorial(5)\n",
    "\n",
    "\n"
   ]
  },
  {
   "cell_type": "code",
   "execution_count": null,
   "metadata": {},
   "outputs": [],
   "source": [
    "def factorial(n):\n",
    "    if n == 1:\n",
    "        return 1\n",
    "    smallAns = factorial(n-1)\n",
    "    ans = n * smallAns\n",
    "    return ans"
   ]
  },
  {
   "cell_type": "markdown",
   "metadata": {},
   "source": [
    "### PMI (Principle of Mathematical Induction)\n",
    "It is used to prove some fact\n",
    "\n",
    "f(x) = true for all n (natural numbers)\n",
    "\n",
    "using PMI, we can break this problem in 3 steps.\n",
    "\n",
    "1. Proive F(0) or F(1) is true. (base case)\n",
    "\n",
    "2. Assume F(k) is true -> induction hypothesis\n",
    "\n",
    "3. Using steps 2, i.e F(k) is true, prove that F(k+1) is true\n",
    "\n",
    "$$sum(n) = n(n+1)\\div2$$\n",
    "\n",
    "Let us prove using PMI\n",
    "\n",
    "### 1. Base case F(0) or F(1)\n",
    "\n",
    "- L.H.S = sum(0) = 0\n",
    "- R.H.S = 0/1 = 0\n",
    "\n",
    "- L.H.S = R.H.S\n",
    "\n",
    "- for F(1)\n",
    "\n",
    "- L.H.S = sum(1) = 1\n",
    "- R.H.S = 1(1+1)/2 = 2/2 = 1\n",
    "- L.H.S = R.H.S\n",
    "\n",
    "### 2. Assume (don't Question) thet F(K) is true.\n",
    "\n",
    "- sum(k) = k(k+1)/2\n",
    "\n",
    "### Now, we need to prove that F(k+1) is true.\n",
    "\n",
    "- sum(k+1) = (k+1)(k+2)/2\n",
    "\n",
    "- L.H.S = sum(k + 1) = (k + 1) + sum(k)\n",
    " \n",
    " = k + 1 + k(k+1) / 2\n",
    " = 2*(k+1)/2 + (k(k+1))/2\n",
    " = (k+1)(k+2) / 2 = R.H.S \n",
    "\n",
    "Hence, by using PMI, we have proven that \n",
    "\n",
    "sum(n) = n(n+1)/2\n",
    "\n",
    "Now, let we go a little deep and understand how exactly it works.\n",
    "\n",
    "\n",
    "So, basically we know the base and how to take a step forward, which means we can keep on taking our steps.\n",
    "\n",
    "\n",
    "F(1) is true.\n",
    "\n",
    "k -> 1 = true F(1)\n",
    "\n",
    "F(2) = true\n",
    "\n",
    "\n",
    "So, in every recursion question, we just have to apply PMI."
   ]
  },
  {
   "cell_type": "markdown",
   "metadata": {},
   "source": [
    "### Question. Finding 2^n for a given n using recursion\n",
    "\n",
    "2^n = 2 * 2^(n-1)\n",
    "\n",
    "pow(2, n) = 2 * pow(2, n-1)\n"
   ]
  },
  {
   "cell_type": "code",
   "execution_count": 28,
   "metadata": {},
   "outputs": [
    {
     "data": {
      "text/plain": [
       "8"
      ]
     },
     "execution_count": 28,
     "metadata": {},
     "output_type": "execute_result"
    }
   ],
   "source": [
    "def pow(n):\n",
    "    if n == 1: #base case (1)\n",
    "        return 2\n",
    "    smallAns = pow(n-1) #(2) assume it is true (Induction hypothesis)\n",
    "    ans = 2* smallAns # (3) using (2)\n",
    "    return ans\n",
    "pow(3)"
   ]
  },
  {
   "cell_type": "markdown",
   "metadata": {},
   "source": [
    "### Sum of N Numbers"
   ]
  },
  {
   "cell_type": "code",
   "execution_count": 31,
   "metadata": {},
   "outputs": [
    {
     "data": {
      "text/plain": [
       "55"
      ]
     },
     "execution_count": 31,
     "metadata": {},
     "output_type": "execute_result"
    }
   ],
   "source": [
    "#recurrence relation sum(n) = n + sum(n-1)\n",
    "def summ(n):\n",
    "    if n == 1: #base case\n",
    "        return 1\n",
    "    smallAns = summ(n-1) # assume it is true (induction hypothesis)\n",
    "    ans = n + smallAns #(3) using 2\n",
    "    return ans\n",
    "summ(10)"
   ]
  },
  {
   "cell_type": "markdown",
   "metadata": {},
   "source": [
    "### Write a program to find no of digits in a number.\n",
    "\n",
    "Recurrence Relation\n",
    "\n",
    "sum = 1 + sum(num/10)"
   ]
  },
  {
   "cell_type": "code",
   "execution_count": 37,
   "metadata": {},
   "outputs": [
    {
     "data": {
      "text/plain": [
       "1"
      ]
     },
     "execution_count": 37,
     "metadata": {},
     "output_type": "execute_result"
    }
   ],
   "source": [
    "def noOfDigits(num):\n",
    "    if num < 10: # base case\n",
    "        return 1\n",
    "    smallAns = noOfDigits(num//10) # assumping it is true (induction hypothesis)\n",
    "    ans = 1 + smallAns\n",
    "    return ans\n",
    "noOfDigits(9)"
   ]
  },
  {
   "cell_type": "markdown",
   "metadata": {},
   "source": [
    "### Fibonacci Series Using Recursion"
   ]
  },
  {
   "cell_type": "code",
   "execution_count": 43,
   "metadata": {},
   "outputs": [
    {
     "name": "stdout",
     "output_type": "stream",
     "text": [
      "The function call is 1 for 4\n",
      "The function call is 1 for 3\n",
      "The function call is 1 for 2\n",
      "The function call is 1 for 1\n",
      "The function call is 1 for 0\n",
      "The function call is 1 for 1\n",
      "The function call is 1 for 2\n",
      "The function call is 1 for 1\n",
      "The function call is 1 for 0\n"
     ]
    },
    {
     "data": {
      "text/plain": [
       "5"
      ]
     },
     "execution_count": 43,
     "metadata": {},
     "output_type": "execute_result"
    }
   ],
   "source": [
    "def fibonacci(n):\n",
    "    functionCallNumber = 1\n",
    "    print(\"The function call is \" + str(functionCallNumber) + \" for \" + str(n))\n",
    "    if n <= 1:\n",
    "        return 1\n",
    "    last = fibonacci(n-1)\n",
    "    secondLast = fibonacci(n-2)\n",
    "    ans = last + secondLast\n",
    "    return ans\n",
    "fibonacci(4)"
   ]
  },
  {
   "cell_type": "code",
   "execution_count": 52,
   "metadata": {},
   "outputs": [
    {
     "data": {
      "text/plain": [
       "3"
      ]
     },
     "execution_count": 52,
     "metadata": {},
     "output_type": "execute_result"
    }
   ],
   "source": [
    "def fibonacci(n):\n",
    "    if n == 1:\n",
    "        return 1\n",
    "    if n == 0:\n",
    "        return 1\n",
    "    last = fibonacci(n-1)\n",
    "    second_last = fibonacci(n - 2)\n",
    "    ans = last + second_last\n",
    "    return ans\n",
    "fibonacci(3)"
   ]
  },
  {
   "cell_type": "markdown",
   "metadata": {},
   "source": [
    "### Head vs Tail Recursion\n",
    "\n",
    "\n",
    "#### Head Recursion\n",
    "\n",
    "We are making recursive call at the beginning of our function implementation.\n",
    "\n",
    "#### Tail Recursion\n",
    "\n",
    "When we make recursive call at the end of our implementation."
   ]
  },
  {
   "cell_type": "code",
   "execution_count": 55,
   "metadata": {},
   "outputs": [
    {
     "data": {
      "text/plain": [
       "24"
      ]
     },
     "execution_count": 55,
     "metadata": {},
     "output_type": "execute_result"
    }
   ],
   "source": [
    "def factHead(n):\n",
    "    if n == 0:\n",
    "        return 1\n",
    "    smallAns = factHead(n-1) # some calculations after recursion call\n",
    "    final_ans = n * smallAns\n",
    "    return final_ans\n",
    "factHead(4)"
   ]
  },
  {
   "cell_type": "code",
   "execution_count": null,
   "metadata": {},
   "outputs": [],
   "source": [
    "#Wrong tail recursion\n",
    "def factTail(n):\n",
    "    if n == 0:\n",
    "        return 1\n",
    "    return n * factTail(n - 1) "
   ]
  },
  {
   "cell_type": "code",
   "execution_count": 56,
   "metadata": {},
   "outputs": [
    {
     "data": {
      "text/plain": [
       "24"
      ]
     },
     "execution_count": 56,
     "metadata": {},
     "output_type": "execute_result"
    }
   ],
   "source": [
    "def factTail(n, accumulator = 1):\n",
    "    if n == 0:\n",
    "        return accumulator\n",
    "    accumulator = accumulator * n\n",
    "    return factTail(n-1, accumulator)\n",
    "\n",
    "factTail(4)"
   ]
  },
  {
   "cell_type": "markdown",
   "metadata": {},
   "source": [
    "### Print 1 to N"
   ]
  },
  {
   "cell_type": "code",
   "execution_count": 60,
   "metadata": {},
   "outputs": [
    {
     "name": "stdout",
     "output_type": "stream",
     "text": [
      "1\n",
      "2\n",
      "3\n",
      "4\n",
      "5\n"
     ]
    }
   ],
   "source": [
    "def printOnetoN(n):\n",
    "    if n == 0:\n",
    "        return\n",
    "    printOnetoN(n-1)\n",
    "    print(n)\n",
    "printOnetoN(5)\n"
   ]
  },
  {
   "cell_type": "markdown",
   "metadata": {},
   "source": [
    "### Print N to 1"
   ]
  },
  {
   "cell_type": "code",
   "execution_count": 61,
   "metadata": {},
   "outputs": [
    {
     "name": "stdout",
     "output_type": "stream",
     "text": [
      "5\n",
      "4\n",
      "3\n",
      "2\n",
      "1\n"
     ]
    }
   ],
   "source": [
    "def printNToOne(n):\n",
    "    if n == 0:\n",
    "        return \n",
    "    print(n)\n",
    "    printNToOne(n-1)\n",
    "printNToOne(5)"
   ]
  },
  {
   "cell_type": "code",
   "execution_count": 62,
   "metadata": {},
   "outputs": [
    {
     "data": {
      "text/plain": [
       "[1, 2, 3, 4, 5]"
      ]
     },
     "execution_count": 62,
     "metadata": {},
     "output_type": "execute_result"
    }
   ],
   "source": [
    "l = []\n",
    "def count_to_n(n):\n",
    "    \"\"\"\n",
    "    Function to return a list of integers from 1 to n using recursion.\n",
    "    \n",
    "    Parameters:\n",
    "    n (int): The positive integer representing the upper limit of the range.\n",
    "    \n",
    "    Returns:\n",
    "    list: A list of integers from 1 to n.\n",
    "    \"\"\"\n",
    "    # Your code here\n",
    "    if n == 1:\n",
    "        return [1]\n",
    "    return count_to_n(n-1) + [n]\n",
    "count_to_n(5)"
   ]
  },
  {
   "cell_type": "code",
   "execution_count": 63,
   "metadata": {},
   "outputs": [
    {
     "data": {
      "text/plain": [
       "[1, 2, 3, 4, 5]"
      ]
     },
     "execution_count": 63,
     "metadata": {},
     "output_type": "execute_result"
    }
   ],
   "source": [
    "def count(n):\n",
    "    if n == 1:\n",
    "        return [1]\n",
    "    return count_to_n(n-1) + [n]\n",
    "count(5)"
   ]
  },
  {
   "cell_type": "code",
   "execution_count": 66,
   "metadata": {},
   "outputs": [
    {
     "data": {
      "text/plain": [
       "[5, 4, 3, 2, 1]"
      ]
     },
     "execution_count": 66,
     "metadata": {},
     "output_type": "execute_result"
    }
   ],
   "source": [
    "def countR(n, l = []):\n",
    "    if n == 0:\n",
    "        return l\n",
    "    l.append(n)\n",
    "    return countR(n-1)\n",
    "countR(5)\n"
   ]
  },
  {
   "cell_type": "markdown",
   "metadata": {},
   "source": [
    "### 1. Sum of digits of a number"
   ]
  },
  {
   "cell_type": "code",
   "execution_count": 76,
   "metadata": {},
   "outputs": [
    {
     "data": {
      "text/plain": [
       "24"
      ]
     },
     "execution_count": 76,
     "metadata": {},
     "output_type": "execute_result"
    }
   ],
   "source": [
    "def sumOfDig(num, sum = 0):\n",
    "    if num < 9:\n",
    "        return sum + num\n",
    "    smallNum = num//10\n",
    "    sum = sum + num%10\n",
    "    return sumOfDig(smallNum, sum)\n",
    "sumOfDig(789)"
   ]
  },
  {
   "cell_type": "code",
   "execution_count": 81,
   "metadata": {},
   "outputs": [
    {
     "data": {
      "text/plain": [
       "10"
      ]
     },
     "execution_count": 81,
     "metadata": {},
     "output_type": "execute_result"
    }
   ],
   "source": [
    "def sumOfDig(num):\n",
    "    if num < 9:\n",
    "        return num\n",
    "    smallNum = num//10\n",
    "    return num%10 + sumOfDig(smallNum)\n",
    "sumOfDig(1234)"
   ]
  },
  {
   "cell_type": "markdown",
   "metadata": {},
   "source": [
    "### 2. Power of a Number"
   ]
  },
  {
   "cell_type": "code",
   "execution_count": 79,
   "metadata": {},
   "outputs": [
    {
     "data": {
      "text/plain": [
       "2401"
      ]
     },
     "execution_count": 79,
     "metadata": {},
     "output_type": "execute_result"
    }
   ],
   "source": [
    "def pow(base, exp):\n",
    "    if exp == 1:\n",
    "        return base\n",
    "    smallAns = pow(base, exp-1)\n",
    "    ans = base * smallAns\n",
    "    return ans\n",
    "pow(7, 4)"
   ]
  },
  {
   "cell_type": "code",
   "execution_count": 84,
   "metadata": {},
   "outputs": [
    {
     "data": {
      "text/plain": [
       "243"
      ]
     },
     "execution_count": 84,
     "metadata": {},
     "output_type": "execute_result"
    }
   ],
   "source": [
    "def pow(base, exp, res = 1):\n",
    "    if exp == 1:\n",
    "        return res * base\n",
    "    res *= base\n",
    "    return pow(base, exp-1, res)\n",
    "pow(3,5)"
   ]
  },
  {
   "cell_type": "code",
   "execution_count": null,
   "metadata": {},
   "outputs": [],
   "source": []
  }
 ],
 "metadata": {
  "kernelspec": {
   "display_name": "base",
   "language": "python",
   "name": "python3"
  },
  "language_info": {
   "codemirror_mode": {
    "name": "ipython",
    "version": 3
   },
   "file_extension": ".py",
   "mimetype": "text/x-python",
   "name": "python",
   "nbconvert_exporter": "python",
   "pygments_lexer": "ipython3",
   "version": "3.12.3"
  }
 },
 "nbformat": 4,
 "nbformat_minor": 2
}
