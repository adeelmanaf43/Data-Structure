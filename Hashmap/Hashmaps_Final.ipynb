{
  "cells": [
    {
      "cell_type": "markdown",
      "metadata": {
        "id": "lB6LJclK8-lS"
      },
      "source": [
        "# Hashmap"
      ]
    },
    {
      "cell_type": "code",
      "execution_count": null,
      "metadata": {
        "id": "l3B4W-Cn0Zli"
      },
      "outputs": [],
      "source": [
        "#hashmap class\n",
        "class Hashmap:\n",
        "\n",
        "    #constructor\n",
        "    def __init__(self, capacity):\n",
        "        self.capacity = capacity\n",
        "        self.keys = [None] * self.capacity\n",
        "        self.values = [None] * self.capacity\n",
        "        self.size = 0\n",
        "\n",
        "    #hash function\n",
        "    def hash(self, key):\n",
        "        return abs(hash(key)) % self.capacity\n",
        "\n",
        "    #rehash function\n",
        "    def rehash(self, old_hash):\n",
        "        return (old_hash + 1) % self.capacity\n",
        "\n",
        "    #insert function\n",
        "    def insert(self, key, value):\n",
        "        hash_value = self.hash(key)\n",
        "        initial_index = hash_value\n",
        "        if self.keys[hash_value] is None:\n",
        "            self.keys[hash_value] = key\n",
        "            self.values[hash_value] = value\n",
        "        else:\n",
        "            if self.keys[hash_value] == key:\n",
        "                self.values[hash_value] = value\n",
        "            else:\n",
        "                new_hash_value = self.rehash(hash_value)\n",
        "                while self.keys[new_hash_value] is not None and self.keys[new_hash_value] != key:\n",
        "                    new_hash_value = self.rehash(new_hash_value)\n",
        "                if self.keys[new_hash_value] is None:\n",
        "                    self.keys[new_hash_value] = key\n",
        "                    self.values[new_hash_value] = value\n",
        "                else:\n",
        "                    self.values[new_hash_value] = value\n",
        "\n",
        "    #get function\n",
        "    def get(self, key):\n",
        "        initial_index = self.hash(key)\n",
        "        current_position = initial_index\n",
        "        while self.keys[current_position] is not None:\n",
        "            if self.keys[current_position] == key:\n",
        "                return self.values[current_position]\n",
        "            current_position = self.rehash(current_position)\n",
        "\n",
        "            if current_position == initial_index:\n",
        "                 return \"Not Found, Traverse Full\"\n",
        "        return \"Not Found\"\n",
        "\n",
        "    #delete function\n",
        "    def delete(self, key):\n",
        "        initial_index = self.hash(key)\n",
        "        current_position = initial_index\n",
        "        while self.keys[current_position] is not None:\n",
        "            if self.keys[current_position] == key:\n",
        "                self.keys[current_position] = None\n",
        "                self.values[current_position] = None\n",
        "                print(f\"{key} has benn deleted\")\n",
        "                return\n",
        "            current_position = self.rehash(current_position)\n",
        "            if current_position == initial_index:\n",
        "                break\n",
        "        print(f\"{key} is not found\")\n",
        "\n",
        "\n"
      ]
    },
    {
      "cell_type": "code",
      "execution_count": null,
      "metadata": {
        "id": "RJocHFkL24e_"
      },
      "outputs": [],
      "source": [
        "h1 = Hashmap(3)\n",
        "h1.insert(\"Apple\", 20)\n",
        "h1.insert(\"Grapes\", 30)\n"
      ]
    },
    {
      "cell_type": "code",
      "execution_count": null,
      "metadata": {
        "colab": {
          "base_uri": "https://localhost:8080/"
        },
        "id": "f1AdjDqd3bxT",
        "outputId": "1cfa3bde-1da4-4727-b4b9-c28086c32e48"
      },
      "outputs": [
        {
          "output_type": "stream",
          "name": "stdout",
          "text": [
            "Apple has benn deleted\n"
          ]
        }
      ],
      "source": [
        "h1.delete(\"Apple\")"
      ]
    },
    {
      "cell_type": "code",
      "execution_count": null,
      "metadata": {
        "colab": {
          "base_uri": "https://localhost:8080/"
        },
        "id": "Xlab938T3jnT",
        "outputId": "cd079b64-e2e1-4e66-cfa2-28318eece38d"
      },
      "outputs": [
        {
          "name": "stdout",
          "output_type": "stream",
          "text": [
            "Banana is not found\n"
          ]
        }
      ],
      "source": [
        "h1.delete(\"Banana\")"
      ]
    },
    {
      "cell_type": "code",
      "execution_count": null,
      "metadata": {
        "colab": {
          "base_uri": "https://localhost:8080/"
        },
        "id": "6xeQEJ_T3WLy",
        "outputId": "e2fd7938-1950-4640-964c-b93cd3a69452"
      },
      "outputs": [
        {
          "name": "stdout",
          "output_type": "stream",
          "text": [
            "['Apple', None, 'Grapes']\n",
            "[20, None, 30]\n"
          ]
        }
      ],
      "source": [
        "print(h1.keys)\n",
        "print(h1.values)"
      ]
    },
    {
      "cell_type": "code",
      "execution_count": null,
      "metadata": {
        "colab": {
          "base_uri": "https://localhost:8080/"
        },
        "id": "jA6ZhR8V26-R",
        "outputId": "cae31348-2632-445b-d17e-a19d23b33866"
      },
      "outputs": [
        {
          "name": "stdout",
          "output_type": "stream",
          "text": [
            "0\n",
            "2\n"
          ]
        }
      ],
      "source": [
        "print(h1.hash(\"Apple\"))\n",
        "print(h1.hash(\"Grapes\"))"
      ]
    },
    {
      "cell_type": "code",
      "execution_count": null,
      "metadata": {
        "colab": {
          "base_uri": "https://localhost:8080/"
        },
        "id": "ecUGPXFM291r",
        "outputId": "686c2a89-af4e-48ff-a997-d2fe285eeb41"
      },
      "outputs": [
        {
          "data": {
            "text/plain": [
              "0"
            ]
          },
          "execution_count": 8,
          "metadata": {},
          "output_type": "execute_result"
        }
      ],
      "source": [
        "hash(\"Orange\") % 3"
      ]
    },
    {
      "cell_type": "markdown",
      "metadata": {
        "id": "kxXnKk02KmIH"
      },
      "source": [
        "# Hashmap using Link Lst"
      ]
    },
    {
      "cell_type": "markdown",
      "metadata": {
        "id": "SFWHdimzKtVg"
      },
      "source": [
        "## Link List Class"
      ]
    },
    {
      "cell_type": "code",
      "execution_count": null,
      "metadata": {
        "id": "8m0AHv4Z3Bec"
      },
      "outputs": [],
      "source": [
        "#class for single node of a link list\n",
        "class LLNode:\n",
        "\n",
        "    #constructor\n",
        "    def __init__(self, key, value):\n",
        "        self.key = key\n",
        "        self.value = value\n",
        "        self.next = None\n",
        "\n",
        "\n",
        "#class for creating link list\n",
        "class LinkedList:\n",
        "\n",
        "    #constructor\n",
        "    def __init__(self):\n",
        "        self.head = None\n",
        "\n",
        "    #insert function\n",
        "    def insert(self, key, value):\n",
        "        new_node = LLNode(key, value)\n",
        "        new_node.next = self.head\n",
        "        self.head = new_node\n",
        "\n",
        "    #search function\n",
        "    def search(self, key):\n",
        "        current = self.head\n",
        "        while current is not None:\n",
        "            if current.key == key:\n",
        "                return current\n",
        "            current = current.next\n",
        "        return None\n",
        "\n",
        "    #delete function\n",
        "    def delete(self, key):\n",
        "        current = self.head\n",
        "        prev = None\n",
        "        while current:\n",
        "            if current.key == key:\n",
        "                if not prev:\n",
        "                    self.head = current.next\n",
        "                else:\n",
        "                    prev.next = current.next\n",
        "                return True\n",
        "            prev = current\n",
        "            current = current.next\n",
        "        return False\n",
        "\n",
        "    #traverse function\n",
        "    def traverse(self):\n",
        "        current = self.head\n",
        "        while current:\n",
        "            print(f\"{current.key}:{current.value} ->\", end = \" \")\n",
        "            current = current.next\n",
        "        print(\"None\")\n",
        "my_ll = LinkedList()\n"
      ]
    },
    {
      "cell_type": "code",
      "execution_count": null,
      "metadata": {
        "id": "iRTckmKfM65h"
      },
      "outputs": [],
      "source": [
        "my_ll = LinkedList()\n",
        "my_ll.insert(\"Apple\", 100)\n",
        "my_ll.insert(\"Orange\", 200)\n",
        "my_ll.insert(\"Banana\", 300)"
      ]
    },
    {
      "cell_type": "code",
      "execution_count": null,
      "metadata": {
        "colab": {
          "base_uri": "https://localhost:8080/"
        },
        "id": "HjHPY79gNjbw",
        "outputId": "77270d7f-d6de-4c94-8923-68eb6aa84d99"
      },
      "outputs": [
        {
          "output_type": "stream",
          "name": "stdout",
          "text": [
            "Banana:300 -> Orange:200 -> Apple:100 -> None\n"
          ]
        }
      ],
      "source": [
        "my_ll.traverse()"
      ]
    },
    {
      "cell_type": "code",
      "execution_count": null,
      "metadata": {
        "colab": {
          "base_uri": "https://localhost:8080/"
        },
        "id": "mf5AkaAINlEd",
        "outputId": "c6abc6d1-5f30-45e8-ea7c-9934d70c0c68"
      },
      "outputs": [
        {
          "data": {
            "text/plain": [
              "True"
            ]
          },
          "execution_count": 8,
          "metadata": {},
          "output_type": "execute_result"
        }
      ],
      "source": [
        "my_ll.delete(\"Banana\")"
      ]
    },
    {
      "cell_type": "code",
      "execution_count": null,
      "metadata": {
        "colab": {
          "base_uri": "https://localhost:8080/"
        },
        "id": "_IHleK2CNnX7",
        "outputId": "f31a8ef9-ba5f-445a-bc38-7a8191aa049b"
      },
      "outputs": [
        {
          "name": "stdout",
          "output_type": "stream",
          "text": [
            "Orange:200 -> Apple:100 -> None\n"
          ]
        }
      ],
      "source": [
        "my_ll.traverse()"
      ]
    },
    {
      "cell_type": "markdown",
      "metadata": {
        "id": "zi9XVbGiNwza"
      },
      "source": [
        "# Hashmap Class"
      ]
    },
    {
      "cell_type": "code",
      "execution_count": null,
      "metadata": {
        "id": "8LwgG9bvNvwT"
      },
      "outputs": [],
      "source": [
        "# Hashmap Class\n",
        "class HashMap:\n",
        "\n",
        "    #constructor\n",
        "    def __init__(self, capacity = 13):\n",
        "        self.capacity = capacity\n",
        "        self.buckets = self.__create_buckets(capacity)\n",
        "        self.size = 0\n",
        "\n",
        "\n",
        "    #private function to create buckets\n",
        "    def __create_buckets(self, capacity):\n",
        "        buckets = [LinkedList() for i in range(capacity)]\n",
        "        return buckets\n",
        "\n",
        "    #hash function\n",
        "    def hash(self, key):\n",
        "        return abs(hash(key)) % self.capacity\n",
        "\n",
        "    #insert function\n",
        "    def insert(self, key, value):\n",
        "        bucket_index = self.hash(key)\n",
        "        bucket = self.buckets[bucket_index]\n",
        "        print(bucket_index)\n",
        "        node = bucket.search(key)\n",
        "        if node is None:\n",
        "            bucket.insert(key, value)\n",
        "            self.size += 1\n",
        "        else:\n",
        "            node.value = value\n",
        "\n",
        "    #search function\n",
        "    def get(self, key):\n",
        "        bucket_index = self.hash(key)\n",
        "        bucket = self.buckets[bucket_index]\n",
        "        node = bucket.search(key)\n",
        "        if node:\n",
        "            return node.value\n",
        "        else:\n",
        "            return f\"{key} not found\"\n",
        "\n",
        "    #delete function\n",
        "    def remove(self, key):\n",
        "        bucket_index = self.hash(key)\n",
        "        bucket = self.buckets[bucket_index]\n",
        "        removed = bucket.remove(key)\n",
        "        if removed:\n",
        "            print(f\"{key} is successfully delted\")\n",
        "            self.size -=1\n",
        "        else:\n",
        "            print(f\"{key} is not found\")\n",
        "\n",
        "    #len function\n",
        "    def __len__(self):\n",
        "        return self.size\n",
        "\n",
        "    #print function\n",
        "    def __str__(self):\n",
        "        for i in range(self.capacity):\n",
        "            if self.buckets[i] is not None:\n",
        "                self.buckets[i].traverse()\n",
        "        return \"\""
      ]
    },
    {
      "cell_type": "code",
      "source": [
        "h1 = HashMap()\n",
        "h1.capacity"
      ],
      "metadata": {
        "colab": {
          "base_uri": "https://localhost:8080/"
        },
        "id": "83DHoRS7Z3H4",
        "outputId": "18bc6bf8-92c0-410e-97ae-7e55edc676ff"
      },
      "execution_count": null,
      "outputs": [
        {
          "output_type": "execute_result",
          "data": {
            "text/plain": [
              "13"
            ]
          },
          "metadata": {},
          "execution_count": 32
        }
      ]
    },
    {
      "cell_type": "code",
      "execution_count": null,
      "metadata": {
        "colab": {
          "base_uri": "https://localhost:8080/"
        },
        "id": "ThktteEZRsFK",
        "outputId": "8c861b95-d577-4c48-d4d5-b4324400c486"
      },
      "outputs": [
        {
          "name": "stdout",
          "output_type": "stream",
          "text": [
            "8\n",
            "3\n",
            "0\n"
          ]
        }
      ],
      "source": [
        "print(h1.hash(\"Apple\"))\n",
        "print(h1.hash(\"Orange\"))\n",
        "print(h1.hash(\"Banana\"))"
      ]
    },
    {
      "cell_type": "code",
      "execution_count": null,
      "metadata": {
        "colab": {
          "base_uri": "https://localhost:8080/"
        },
        "id": "roU428oYRuh8",
        "outputId": "d063b7e8-ac6a-42c1-bbf5-7ec90ab6a18b"
      },
      "outputs": [
        {
          "output_type": "stream",
          "name": "stdout",
          "text": [
            "0\n",
            "7\n"
          ]
        }
      ],
      "source": [
        "h1 = HashMap()\n",
        "print(len(h1))\n",
        "h1.insert(\"Apple\", 100)"
      ]
    },
    {
      "cell_type": "code",
      "source": [
        "print(h1)"
      ],
      "metadata": {
        "colab": {
          "base_uri": "https://localhost:8080/"
        },
        "id": "cijMVgEydE0f",
        "outputId": "39c0aea9-052d-4928-9727-396bac0ba22d"
      },
      "execution_count": null,
      "outputs": [
        {
          "output_type": "stream",
          "name": "stdout",
          "text": [
            "None\n",
            "None\n",
            "None\n",
            "None\n",
            "None\n",
            "None\n",
            "None\n",
            "Apple:100 -> None\n",
            "None\n",
            "None\n",
            "None\n",
            "None\n",
            "None\n",
            "\n"
          ]
        }
      ]
    },
    {
      "cell_type": "code",
      "execution_count": null,
      "metadata": {
        "colab": {
          "base_uri": "https://localhost:8080/"
        },
        "id": "r5QFKgKhS4r7",
        "outputId": "66ca19ba-7b47-48e7-87f8-e645f6398bf9"
      },
      "outputs": [
        {
          "output_type": "stream",
          "name": "stdout",
          "text": [
            "7\n",
            "None\n",
            "None\n",
            "None\n",
            "None\n",
            "None\n",
            "None\n",
            "None\n",
            "Orange:100 -> Apple:100 -> None\n",
            "None\n",
            "None\n",
            "None\n",
            "None\n",
            "None\n",
            "\n"
          ]
        }
      ],
      "source": [
        "h1.insert(\"Orange\", 100)\n",
        "print(h1)"
      ]
    },
    {
      "cell_type": "code",
      "execution_count": null,
      "metadata": {
        "colab": {
          "base_uri": "https://localhost:8080/"
        },
        "id": "4EFNLBczOwZN",
        "outputId": "c53d918e-6b8a-4746-bdd7-7cc561a082d6"
      },
      "outputs": [
        {
          "name": "stdout",
          "output_type": "stream",
          "text": [
            "Banana:300 -> None\n",
            "None\n",
            "None\n",
            "Orange:200 -> None\n",
            "None\n",
            "None\n",
            "None\n",
            "None\n",
            "Apple:100 -> None\n",
            "None\n",
            "None\n",
            "None\n",
            "None\n"
          ]
        }
      ],
      "source": [
        "for ll in h1.buckets:\n",
        "    ll.traverse()"
      ]
    },
    {
      "cell_type": "markdown",
      "source": [
        "# Group anagrams"
      ],
      "metadata": {
        "id": "E1t6xeggIiWu"
      }
    },
    {
      "cell_type": "code",
      "source": [
        "strs = [\"eat\", \"tea\", \"tan\", \"ate\", \"nat\", \"bat\"]\n",
        "for s in strs:\n",
        "    print(sorted(s))"
      ],
      "metadata": {
        "colab": {
          "base_uri": "https://localhost:8080/"
        },
        "id": "aQ302SJyJQ4L",
        "outputId": "1daac16f-fb24-419c-a58f-a3d5e2851fb4"
      },
      "execution_count": null,
      "outputs": [
        {
          "output_type": "stream",
          "name": "stdout",
          "text": [
            "['a', 'e', 't']\n",
            "['a', 'e', 't']\n",
            "['a', 'n', 't']\n",
            "['a', 'e', 't']\n",
            "['a', 'n', 't']\n",
            "['a', 'b', 't']\n"
          ]
        }
      ]
    },
    {
      "cell_type": "code",
      "execution_count": null,
      "metadata": {
        "id": "fxxSSZOkRpc4",
        "colab": {
          "base_uri": "https://localhost:8080/"
        },
        "outputId": "251efe17-02fd-4a1b-b1e0-cd147f56647a"
      },
      "outputs": [
        {
          "output_type": "execute_result",
          "data": {
            "text/plain": [
              "[['a']]"
            ]
          },
          "metadata": {},
          "execution_count": 9
        }
      ],
      "source": [
        "strs = [\"eat\", \"tea\", \"tan\", \"ate\", \"nat\", \"bat\"]\n",
        "def group_anagrams(strs):\n",
        "    if len(strs) <= 1:\n",
        "        return [strs]\n",
        "    dic = {}\n",
        "    for s in strs:\n",
        "        sorted_s = \"\".join(sorted(s))\n",
        "        if sorted_s not in dic:\n",
        "            dic[sorted_s] = [s]\n",
        "        else:\n",
        "            dic[sorted_s].append(s)\n",
        "    li = []\n",
        "    for d in dic:\n",
        "        li.append(dic[d])\n",
        "    return li\n",
        "\n",
        "group_anagrams([\"a\"])"
      ]
    },
    {
      "cell_type": "markdown",
      "source": [
        "# Most Frequent Number"
      ],
      "metadata": {
        "id": "G5m1OBI4K2wt"
      }
    },
    {
      "cell_type": "code",
      "source": [
        "def most_frequent_number(arr):\n",
        "    dic = {}\n",
        "    for num in arr:\n",
        "        if num not in dic:\n",
        "            dic[num] = 1\n",
        "        else:\n",
        "            dic[num] += 1\n",
        "    max_count = float(\"-inf\")\n",
        "    most_freq = 0\n",
        "    for key in dic:\n",
        "        if dic[key] > max_count:\n",
        "            max_count = dic[key]\n",
        "            most_freq = key\n",
        "    return most_freq\n",
        "most_frequent_number([1, 3, 2, 2, 1, 1, 4, 5, 1])"
      ],
      "metadata": {
        "colab": {
          "base_uri": "https://localhost:8080/"
        },
        "id": "fUEtUcB7JAHo",
        "outputId": "3cc92934-3525-4c9c-bf7c-1f6360a0387c"
      },
      "execution_count": null,
      "outputs": [
        {
          "output_type": "stream",
          "name": "stdout",
          "text": [
            "{1: 4, 3: 1, 2: 2, 4: 1, 5: 1}\n"
          ]
        },
        {
          "output_type": "execute_result",
          "data": {
            "text/plain": [
              "1"
            ]
          },
          "metadata": {},
          "execution_count": 13
        }
      ]
    },
    {
      "cell_type": "markdown",
      "source": [
        "# Greatest Number Product"
      ],
      "metadata": {
        "id": "vaA2Cq6nMOBR"
      }
    },
    {
      "cell_type": "code",
      "source": [
        "def greatest_product_equal_to_element(arr):\n",
        "    arr_map = {}\n",
        "    for num in arr:\n",
        "        arr_map[num] = True\n",
        "    i = 0\n",
        "    dic = {}\n",
        "    max_product = -1\n",
        "    while i < len(arr):\n",
        "        for j in range(i + 1, len(arr)):\n",
        "            product =  arr[i] * arr[j]\n",
        "            dic[(i,j)] = product\n",
        "            if product in arr_map:\n",
        "                max_value = max(product, max_product)\n",
        "        i+=1\n",
        "    return max_value\n",
        "\n",
        "\n",
        "greatest_product_equal_to_element( [1, 2, 3, 6, 12])\n"
      ],
      "metadata": {
        "colab": {
          "base_uri": "https://localhost:8080/"
        },
        "id": "uzdD6iu4LXj2",
        "outputId": "f9cdd526-8499-48b8-d72c-1f64651a3ed3"
      },
      "execution_count": null,
      "outputs": [
        {
          "output_type": "execute_result",
          "data": {
            "text/plain": [
              "12"
            ]
          },
          "metadata": {},
          "execution_count": 24
        }
      ]
    },
    {
      "cell_type": "code",
      "source": [
        "def two_sum(nums, target):\n",
        "    \"\"\"\n",
        "    Function to return indices of the two numbers such that they add up to the target.\n",
        "\n",
        "    :param nums: List[int] -> The input list of integers\n",
        "    :param target: int -> The target sum\n",
        "    :return: List[int] -> A list of two indices whose corresponding elements add up to the target\n",
        "    \"\"\"\n",
        "    # TODO: Implement the logic using a hashmap (dictionary)\n",
        "    i = 0\n",
        "    dic = {}\n",
        "    while i < len(nums):\n",
        "        for j in range(i+1, len(nums)):\n",
        "            #print(dic[i] + dic[j], (i, j))\n",
        "            dic[nums[i] + nums[j]] = [i , j]\n",
        "        i += 1\n",
        "    print(dic)\n",
        "    if target in dic:\n",
        "        return list(dic[target])\n",
        "two_sum([2,7,11,5], 9)"
      ],
      "metadata": {
        "colab": {
          "base_uri": "https://localhost:8080/"
        },
        "id": "kdEATqkzMqx6",
        "outputId": "b48bd649-54f9-43e1-da1a-4d640e8d3c61"
      },
      "execution_count": null,
      "outputs": [
        {
          "output_type": "stream",
          "name": "stdout",
          "text": [
            "{9: [0, 1], 13: [0, 2], 7: [0, 3], 18: [1, 2], 12: [1, 3], 16: [2, 3]}\n"
          ]
        },
        {
          "output_type": "execute_result",
          "data": {
            "text/plain": [
              "[0, 1]"
            ]
          },
          "metadata": {},
          "execution_count": 34
        }
      ]
    },
    {
      "cell_type": "code",
      "source": [
        "d = {}\n",
        "d[1] = (0, 1)\n",
        "d"
      ],
      "metadata": {
        "colab": {
          "base_uri": "https://localhost:8080/"
        },
        "id": "E2FTnT8nPSfh",
        "outputId": "1ca9be8d-2543-43ac-d4c2-8789eea49edd"
      },
      "execution_count": null,
      "outputs": [
        {
          "output_type": "execute_result",
          "data": {
            "text/plain": [
              "{1: (0, 1)}"
            ]
          },
          "metadata": {},
          "execution_count": 32
        }
      ]
    },
    {
      "cell_type": "code",
      "source": [],
      "metadata": {
        "id": "C8nKV1ZpP2ZI"
      },
      "execution_count": null,
      "outputs": []
    }
  ],
  "metadata": {
    "colab": {
      "provenance": [],
      "gpuType": "T4"
    },
    "kernelspec": {
      "display_name": "Python 3",
      "name": "python3"
    },
    "language_info": {
      "name": "python"
    },
    "accelerator": "GPU"
  },
  "nbformat": 4,
  "nbformat_minor": 0
}