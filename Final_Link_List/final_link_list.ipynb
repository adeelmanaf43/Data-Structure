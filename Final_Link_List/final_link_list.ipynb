{
 "cells": [
  {
   "cell_type": "code",
   "execution_count": 1,
   "metadata": {},
   "outputs": [],
   "source": [
    "#class for creating a single Node\n",
    "class ListNode:\n",
    "    def __init__(self, value):\n",
    "        self.val = value\n",
    "        self.next = None"
   ]
  },
  {
   "cell_type": "code",
   "execution_count": 2,
   "metadata": {},
   "outputs": [],
   "source": [
    "#function for creating a link list\n",
    "def create_ll(values):\n",
    "    head = None\n",
    "    tail = None\n",
    "    for val in values:\n",
    "        newNode = ListNode(val)\n",
    "        if head == None:\n",
    "            head = newNode\n",
    "            tail = newNode\n",
    "        else:\n",
    "            tail.next = newNode\n",
    "            tail = newNode\n",
    "    return head\n",
    "ll = create_ll([1,2,3,4,5,6])"
   ]
  },
  {
   "cell_type": "code",
   "execution_count": 3,
   "metadata": {},
   "outputs": [
    {
     "name": "stdout",
     "output_type": "stream",
     "text": [
      "1 -> 2 -> 3 -> 4 -> 5 -> 6 -> "
     ]
    }
   ],
   "source": [
    "#recursive function for printing link list\n",
    "def print_ll(head):\n",
    "    if head == None:\n",
    "        return \n",
    "    print(head.val, end = \" -> \")\n",
    "    print_ll(head.next)\n",
    "print_ll(ll)"
   ]
  },
  {
   "cell_type": "code",
   "execution_count": 8,
   "metadata": {},
   "outputs": [
    {
     "name": "stdout",
     "output_type": "stream",
     "text": [
      "10\n",
      "20\n",
      "30\n",
      "40\n",
      "45\n"
     ]
    }
   ],
   "source": [
    "#recursive function to add node at tail\n",
    "def insert_at_tail(head, data):\n",
    "    if head == None:\n",
    "        newNode = Node(data)\n",
    "        return newNode\n",
    "    head.next = insert_at_tail(head.next, data)\n",
    "    return head\n",
    "ll = insert_at_tail(ll, 45)\n",
    "print_ll(ll)"
   ]
  },
  {
   "cell_type": "code",
   "execution_count": 8,
   "metadata": {},
   "outputs": [
    {
     "name": "stdout",
     "output_type": "stream",
     "text": [
      "10\n",
      "20\n",
      "30\n",
      "40\n"
     ]
    }
   ],
   "source": [
    "#insert at particular index\n",
    "def insert_at_index(head, index, data):\n",
    "    newNode = Node(data)\n",
    "    if index == 0:\n",
    "        newNode.next = head\n",
    "        head = newNode\n",
    "    count = 0\n",
    "    temp = head\n",
    "    while temp != None and count < index - 1:\n",
    "        temp = temp.next\n",
    "        count +=1\n",
    "    newNode.next = temp.next\n",
    "    temp.next = newNode\n",
    "    return head\n",
    "#ll = insert_at_index(ll, 3, 35)\n",
    "print_ll(ll)\n",
    "\n",
    "#10=>20=>30=>40=>45"
   ]
  },
  {
   "cell_type": "code",
   "execution_count": 19,
   "metadata": {},
   "outputs": [
    {
     "name": "stdout",
     "output_type": "stream",
     "text": [
      "10\n",
      "20\n",
      "25\n",
      "30\n",
      "40\n"
     ]
    }
   ],
   "source": [
    "def insert_at_index_rec(head, index, data):\n",
    "    if head == None:\n",
    "        print(\"Index out of bound\")\n",
    "        return \n",
    "    if index == 0:\n",
    "        newNode = Node(data)\n",
    "        newNode.next = head\n",
    "        head = newNode\n",
    "        return head\n",
    "    head.next = insert_at_index_rec(head.next, index - 1, data)\n",
    "    return head\n",
    "print_ll(insert_at_index_rec(ll, 2, 25))\n",
    "    "
   ]
  },
  {
   "cell_type": "code",
   "execution_count": 20,
   "metadata": {},
   "outputs": [
    {
     "name": "stdout",
     "output_type": "stream",
     "text": [
      "10\n",
      "20\n",
      "25\n",
      "30\n",
      "40\n"
     ]
    }
   ],
   "source": [
    "print_ll(ll)"
   ]
  },
  {
   "cell_type": "code",
   "execution_count": 21,
   "metadata": {},
   "outputs": [
    {
     "name": "stdout",
     "output_type": "stream",
     "text": [
      "10\n",
      "20\n",
      "25\n",
      "30\n"
     ]
    }
   ],
   "source": [
    "#function to delete a node at tail recursively\n",
    "def delete_at_tail_rec(head):\n",
    "    if head == None or head.next == None:\n",
    "        return None\n",
    "    head.next = delete_at_tail_rec(head.next)\n",
    "    return head\n",
    "delete_at_tail_rec(ll)\n",
    "print_ll(delete_at_tail_rec(ll))"
   ]
  },
  {
   "cell_type": "code",
   "execution_count": 23,
   "metadata": {},
   "outputs": [],
   "source": [
    "#delete a node at any given index\n",
    "def delete_at_given_index(head, index):\n",
    "    if index == 0:\n",
    "        return head.next\n",
    "    temp = head\n",
    "    count = 0\n",
    "    while temp != None and count < index - 1:\n",
    "        temp = temp.next\n",
    "        count += 1\n",
    "    if temp == None:\n",
    "        print(\"Index Out of Bound\")\n",
    "        return head\n",
    "    temp.next = temp.next.next\n",
    "    return head\n",
    "ll2 = delete_at_given_index(ll, 2)\n",
    "#10=>20=>25=>30"
   ]
  },
  {
   "cell_type": "code",
   "execution_count": null,
   "metadata": {},
   "outputs": [],
   "source": [
    "# delete a node at any given index recursively\n",
    "def delete_at_given_index_rec(head, index):\n",
    "    if head == None:\n",
    "        print(\"Index out of Bound\")\n",
    "        return head\n",
    "    if index == 0:\n",
    "        return head.next\n",
    "    head.next = delete_at_given_index_rec(head.next, index - 1)\n",
    "    return head\n",
    "delete_at_given_index(ll, 1)"
   ]
  },
  {
   "cell_type": "code",
   "execution_count": 27,
   "metadata": {},
   "outputs": [
    {
     "name": "stdout",
     "output_type": "stream",
     "text": [
      "10\n",
      "20\n",
      "30\n",
      "40\n"
     ]
    }
   ],
   "source": [
    "ll = create_ll()\n",
    "print_ll(ll)"
   ]
  },
  {
   "cell_type": "code",
   "execution_count": 28,
   "metadata": {},
   "outputs": [
    {
     "name": "stdout",
     "output_type": "stream",
     "text": [
      "10\n",
      "20\n",
      "40\n"
     ]
    }
   ],
   "source": [
    "#delete a node by value\n",
    "def delete_node_by_value(head, value):\n",
    "    if head.data == value:\n",
    "        return head.next\n",
    "    temp = head\n",
    "    while temp.next.data != value and temp.next != None:\n",
    "        temp = temp.next\n",
    "    if temp == None:\n",
    "        print(\"Out of bound index\")\n",
    "        return \n",
    "    temp.next = temp.next.next\n",
    "    return head\n",
    "ll = delete_node_by_value(ll, 30)\n",
    "print_ll(ll)\n",
    "    \n",
    "\n",
    "#10=>20=>30=>40"
   ]
  },
  {
   "cell_type": "code",
   "execution_count": 43,
   "metadata": {},
   "outputs": [
    {
     "name": "stdout",
     "output_type": "stream",
     "text": [
      "Out of bound Index\n",
      "10\n",
      "20\n",
      "30\n",
      "40\n"
     ]
    }
   ],
   "source": [
    "def delete_node_by_value_rec(head, value):\n",
    "    if head == None:\n",
    "        print(\"Out of bound Index\")\n",
    "        return None\n",
    "    if head.data == value:\n",
    "        return head.next\n",
    "    head.next = delete_node_by_value_rec(head.next, value)\n",
    "    return head\n",
    "\n",
    "ll2 = delete_node_by_value_rec(ll, 50)\n",
    "print_ll(ll2)"
   ]
  },
  {
   "cell_type": "code",
   "execution_count": 49,
   "metadata": {},
   "outputs": [
    {
     "name": "stdout",
     "output_type": "stream",
     "text": [
      "Out of Bound Index\n"
     ]
    }
   ],
   "source": [
    "### search a value by index\n",
    "def search_at_index(head, index):\n",
    "    if head is None:\n",
    "        return None\n",
    "    if index == 0:\n",
    "        return head.data\n",
    "    temp = head\n",
    "    count = 0\n",
    "    while temp != None and count != index:\n",
    "        temp  = temp.next\n",
    "        count += 1\n",
    "    if temp is None:\n",
    "        print(\"Out of Bound Index\")\n",
    "        return None\n",
    "    return temp.data\n",
    "search_at_index(ll, 4)"
   ]
  },
  {
   "cell_type": "code",
   "execution_count": 37,
   "metadata": {},
   "outputs": [
    {
     "name": "stdout",
     "output_type": "stream",
     "text": [
      "20\n"
     ]
    }
   ],
   "source": [
    "# search a value by index recursively\n",
    "def search_at_index_rec(head, index):\n",
    "    if head is None:\n",
    "        print(\"Out of Bound Index\")\n",
    "        return None\n",
    "    if index == 0:\n",
    "        return head.data\n",
    "    return search_at_index_rec(head.next, index - 1)\n",
    "search_at_index_rec(ll, 2)\n",
    "value = search_at_index_rec(ll, 1)\n",
    "print(value)"
   ]
  },
  {
   "cell_type": "code",
   "execution_count": 43,
   "metadata": {},
   "outputs": [
    {
     "name": "stdout",
     "output_type": "stream",
     "text": [
      "Index is Out of Bound\n"
     ]
    }
   ],
   "source": [
    "### search by value\n",
    "def search_by_value(head, value):\n",
    "    if head is None:\n",
    "        print(\"Link List is Empty\")\n",
    "        return None\n",
    "    if head.data == value:\n",
    "        return head.data\n",
    "    temp = head\n",
    "    while temp != None and temp.data != value:\n",
    "        temp  =temp.next\n",
    "    if temp is None:\n",
    "        print(\"Index is Out of Bound\")\n",
    "        return None\n",
    "    return temp.data\n",
    "search_by_value(ll, 50)"
   ]
  },
  {
   "cell_type": "code",
   "execution_count": 49,
   "metadata": {},
   "outputs": [
    {
     "data": {
      "text/plain": [
       "10"
      ]
     },
     "execution_count": 49,
     "metadata": {},
     "output_type": "execute_result"
    }
   ],
   "source": [
    "## search by value recursive\n",
    "def search_by_value_rec(head, value):\n",
    "    if head is None:\n",
    "        print(\"Index is Out of Bound\")\n",
    "        return \n",
    "    if head.data == value:\n",
    "        return head.data\n",
    "    return search_by_value_rec(head.next, value)\n",
    "search_by_value_rec(ll, 10)"
   ]
  },
  {
   "cell_type": "code",
   "execution_count": 52,
   "metadata": {},
   "outputs": [],
   "source": [
    "# update value by index\n",
    "def update_by_index(head, index, value):\n",
    "    if head is None:\n",
    "        print(\"Empty Link List\")\n",
    "        return \n",
    "    if index == 0:\n",
    "        head.data = value\n",
    "        return head\n",
    "    temp = head\n",
    "    count = 0\n",
    "    while temp != None and count != index:\n",
    "        temp = temp.next\n",
    "        count += 1\n",
    "    if temp is None:\n",
    "        print(\"Index is out of bound\")\n",
    "        return head\n",
    "    temp.data = value\n",
    "    return head\n",
    "ll = update_by_index(ll, 1, 15)"
   ]
  },
  {
   "cell_type": "code",
   "execution_count": 73,
   "metadata": {},
   "outputs": [],
   "source": [
    "# update value by index recursively\n",
    "def update_by_index_rec(head, index, value):\n",
    "    if head is None:\n",
    "        print(\"index is out of bound\")\n",
    "        return None\n",
    "    if index == 0:\n",
    "        head.data = value\n",
    "        return head\n",
    "    head.next = update_by_index_rec(head.next, index - 1, value)\n",
    "    return head\n",
    "ll2 = update_by_index_rec(ll2, 1, 16)"
   ]
  },
  {
   "cell_type": "code",
   "execution_count": 21,
   "metadata": {},
   "outputs": [
    {
     "name": "stdout",
     "output_type": "stream",
     "text": [
      "3\n",
      "6\n",
      "7\n"
     ]
    }
   ],
   "source": [
    "print_ll(ll2)"
   ]
  },
  {
   "cell_type": "code",
   "execution_count": 22,
   "metadata": {},
   "outputs": [
    {
     "name": "stdout",
     "output_type": "stream",
     "text": [
      "3\n",
      "6\n",
      "7\n"
     ]
    }
   ],
   "source": [
    "ll = create_ll()\n",
    "print_ll(ll)"
   ]
  },
  {
   "cell_type": "markdown",
   "metadata": {},
   "source": [
    "### Middle of a Link List"
   ]
  },
  {
   "cell_type": "code",
   "execution_count": null,
   "metadata": {},
   "outputs": [],
   "source": [
    "# 1 -> 2 -> 3 -> 4 -> 5 -> None\n",
    "# 1. Find length\n",
    "# 2. Find Middle\n",
    "# 3. temp = head, count = 0\n",
    "# while count < middle\n",
    "# if empty or a single node ll return head"
   ]
  },
  {
   "cell_type": "code",
   "execution_count": 76,
   "metadata": {},
   "outputs": [
    {
     "data": {
      "text/plain": [
       "4"
      ]
     },
     "execution_count": 76,
     "metadata": {},
     "output_type": "execute_result"
    }
   ],
   "source": [
    "def length(head):\n",
    "    count = 0\n",
    "    temp = head\n",
    "    while temp != None:\n",
    "        count += 1\n",
    "        temp = temp.next\n",
    "    return count\n",
    "length(ll)"
   ]
  },
  {
   "cell_type": "code",
   "execution_count": 77,
   "metadata": {},
   "outputs": [
    {
     "data": {
      "text/plain": [
       "30"
      ]
     },
     "execution_count": 77,
     "metadata": {},
     "output_type": "execute_result"
    }
   ],
   "source": [
    "def middle_ll(head):\n",
    "    if head is None or head.next is None:\n",
    "        return head\n",
    "    length_ll = length(head)\n",
    "    mid_index = length_ll //2 \n",
    "    count = 0\n",
    "    temp = head\n",
    "    while count < mid_index:\n",
    "        temp = temp.next\n",
    "        count += 1\n",
    "    return temp.data\n",
    "middle_ll(ll)\n",
    "    "
   ]
  },
  {
   "cell_type": "markdown",
   "metadata": {},
   "source": [
    "### Middle of Linked List using Two Pointer Method"
   ]
  },
  {
   "cell_type": "code",
   "execution_count": 4,
   "metadata": {},
   "outputs": [
    {
     "data": {
      "text/plain": [
       "30"
      ]
     },
     "execution_count": 4,
     "metadata": {},
     "output_type": "execute_result"
    }
   ],
   "source": [
    "def middle_ll(head):\n",
    "    if head is None or head.next is None:\n",
    "        return head\n",
    "    fast = head\n",
    "    slow = head\n",
    "    while fast != None and fast.next != None:\n",
    "        fast = fast.next.next\n",
    "        slow = slow.next\n",
    "    return slow.data\n",
    "middle_ll(ll)"
   ]
  },
  {
   "cell_type": "code",
   "execution_count": 121,
   "metadata": {},
   "outputs": [
    {
     "name": "stdout",
     "output_type": "stream",
     "text": [
      "4\n"
     ]
    }
   ],
   "source": [
    "def middleofLL(head):\n",
    "    if head is None or head.next is None:\n",
    "        return head\n",
    "    slow = head\n",
    "    fast = head\n",
    "    while fast is not None and fast.next is not None:\n",
    "        slow = slow.next\n",
    "        fast = fast.next.next\n",
    "    return slow\n",
    "middle = middleofLL(ll)\n",
    "print(middle.data)"
   ]
  },
  {
   "cell_type": "markdown",
   "metadata": {},
   "source": [
    "### Merge Two Sorted Link List"
   ]
  },
  {
   "cell_type": "code",
   "execution_count": 67,
   "metadata": {},
   "outputs": [
    {
     "name": "stdout",
     "output_type": "stream",
     "text": [
      "2\n",
      "3\n",
      "5\n",
      "6\n",
      "7\n",
      "9\n",
      "10\n",
      "17\n"
     ]
    }
   ],
   "source": [
    "# instructor solution\n",
    "def merge_two_sorted_LL(head1, head2):\n",
    "    if head1 is None:\n",
    "        return head2\n",
    "    if head2 is None:\n",
    "        return head1\n",
    "    finalHead = None\n",
    "    finalTail = None\n",
    "    while head1 is not None and head2 is not None:\n",
    "        if head1.data < head2.data:\n",
    "            if finalHead is None:\n",
    "                finalHead = head1\n",
    "                finalTail = head1\n",
    "            else:\n",
    "                finalTail.next = head1\n",
    "                finalTail = head1\n",
    "            head1 = head1.next\n",
    "        else:\n",
    "            if finalHead is None:\n",
    "                finalHead = head2\n",
    "                finalTail = head2\n",
    "            else:\n",
    "                finalTail.next = head2\n",
    "                finalTail = head2\n",
    "            head2 = head2.next\n",
    "    if head1 is not None:\n",
    "        finalTail.next = head1\n",
    "    if head2 is not None:\n",
    "        finalTail.next = head2\n",
    "    return finalHead\n",
    "final_ll = merge_two_sorted_LL(ll, ll2)\n",
    "print_ll(final_ll)\n",
    "# 2=>5=>9=>10=>17\n",
    "# 3=>6=>7\n",
    "\n",
    "#2, 3"
   ]
  },
  {
   "cell_type": "code",
   "execution_count": 52,
   "metadata": {},
   "outputs": [
    {
     "name": "stdout",
     "output_type": "stream",
     "text": [
      "2\n",
      "3\n",
      "5\n",
      "6\n",
      "7\n",
      "9\n",
      "10\n",
      "17\n"
     ]
    }
   ],
   "source": [
    "#my solution\n",
    "def merge_two_sorted_linked_lists(l1, l2):\n",
    "    fH = None\n",
    "    fT = None\n",
    "    temp1 = l1\n",
    "    temp2 = l2\n",
    "    while temp1 is not None and temp2 is not None:\n",
    "        if fH is None:\n",
    "            if temp1.data < temp2.data:\n",
    "                fH = temp1\n",
    "                fT = temp1\n",
    "                temp1 = temp1.next\n",
    "            else:\n",
    "                fH = temp2\n",
    "                fT = temp2\n",
    "                temp2 = temp2.next\n",
    "        else:\n",
    "            if temp1.data < temp2.data:\n",
    "                fT.next = temp1\n",
    "                fT = temp1\n",
    "                temp1 = temp1.next\n",
    "            else:\n",
    "                fT.next = temp2\n",
    "                fT = temp2\n",
    "                temp2 = temp2.next\n",
    "    if temp1 is None:\n",
    "        fT.next = temp2\n",
    "    elif temp2 is None:\n",
    "        fT.next = temp1\n",
    "    return fH\n",
    "my_link_list = merge_two_sorted_linked_lists(ll, ll2)\n",
    "print_ll(my_link_list)"
   ]
  },
  {
   "cell_type": "code",
   "execution_count": 62,
   "metadata": {},
   "outputs": [
    {
     "name": "stdout",
     "output_type": "stream",
     "text": [
      "2\n",
      "3\n",
      "5\n",
      "6\n",
      "7\n",
      "9\n",
      "10\n",
      "17\n"
     ]
    }
   ],
   "source": [
    "def merge_two_sorted_linked_lists(l1, l2):\n",
    "    fH = None\n",
    "    fT = None\n",
    "    temp1 = l1\n",
    "    temp2 = l2\n",
    "    while temp1 is not None and temp2 is not None:\n",
    "        if temp1.data < temp2.data:\n",
    "            if fH is None:\n",
    "                fH = temp1\n",
    "                fT = temp1\n",
    "                temp1 = temp1.next\n",
    "            else:\n",
    "                fT.next = temp1\n",
    "                fT = temp1\n",
    "                temp1 = temp1.next\n",
    "        else:\n",
    "            if fH is None:\n",
    "                fH = temp2\n",
    "                fT = temp2\n",
    "                temp2 = temp2.next\n",
    "            else:\n",
    "                fT.next = temp2\n",
    "                fT = temp2\n",
    "                temp2 = temp2.next\n",
    "    if temp1 is None:\n",
    "        fT.next = temp2\n",
    "    elif temp2 is None:\n",
    "        fT.next = temp1\n",
    "    return fH\n",
    "my_ll = merge_two_sorted_linked_lists(ll, ll2)\n",
    "print_ll(my_ll)"
   ]
  },
  {
   "cell_type": "markdown",
   "metadata": {},
   "source": [
    "### Reverse a Link List"
   ]
  },
  {
   "cell_type": "code",
   "execution_count": 82,
   "metadata": {},
   "outputs": [
    {
     "name": "stdout",
     "output_type": "stream",
     "text": [
      "1\n",
      "2\n",
      "3\n",
      "4\n",
      "5\n"
     ]
    }
   ],
   "source": [
    "print_ll(ll)"
   ]
  },
  {
   "cell_type": "code",
   "execution_count": 88,
   "metadata": {},
   "outputs": [
    {
     "name": "stdout",
     "output_type": "stream",
     "text": [
      "5\n",
      "4\n",
      "3\n",
      "2\n",
      "1\n"
     ]
    }
   ],
   "source": [
    "def reverse_ll(head):\n",
    "    if head is None or head.next is None:\n",
    "        return head\n",
    "    smallLinkedList = reverse_ll(head.next)\n",
    "    temp = smallLinkedList\n",
    "    while temp.next is not None:\n",
    "        temp = temp.next\n",
    "    temp.next = head\n",
    "    head.next = None\n",
    "    return smallLinkedList\n",
    "a = reverse_ll(ll)\n",
    "print_ll(a)\n",
    "\n",
    "#1=>2=>3=>4=>5\n",
    "#"
   ]
  },
  {
   "cell_type": "markdown",
   "metadata": {},
   "source": [
    "### Reverse Linked List Optimized "
   ]
  },
  {
   "cell_type": "code",
   "execution_count": null,
   "metadata": {},
   "outputs": [],
   "source": [
    "#we are making n recursive call -> O(n)\n",
    "## finding the tail, it is O(n)\n",
    "### "
   ]
  },
  {
   "cell_type": "code",
   "execution_count": 91,
   "metadata": {},
   "outputs": [
    {
     "name": "stdout",
     "output_type": "stream",
     "text": [
      "5\n",
      "4\n",
      "3\n",
      "2\n",
      "1\n"
     ]
    }
   ],
   "source": [
    "def reverse_ll_Better(head):\n",
    "    if head is None or head.next is None:\n",
    "        return head\n",
    "    smallLinkList = reverse_ll_Better(head.next)\n",
    "    tailOfReversedList = head.next\n",
    "    tailOfReversedList.next = head\n",
    "    head.next = None\n",
    "    return smallLinkList\n",
    "\n",
    "rev_ll = reverse_ll_Better(ll)\n",
    "print_ll(rev_ll)"
   ]
  },
  {
   "cell_type": "markdown",
   "metadata": {},
   "source": [
    "### Reverse Linked List (Iteration)"
   ]
  },
  {
   "cell_type": "code",
   "execution_count": 111,
   "metadata": {},
   "outputs": [
    {
     "name": "stdout",
     "output_type": "stream",
     "text": [
      "5\n",
      "4\n",
      "3\n",
      "2\n",
      "1\n"
     ]
    }
   ],
   "source": [
    "def reverse_ll_iterative(head):\n",
    "    if head is None or head.next is None:\n",
    "        return head\n",
    "    prev = None\n",
    "    curr = head\n",
    "    nex = head.next\n",
    "    while curr != None:\n",
    "        curr.next = prev\n",
    "        prev = curr\n",
    "        curr = nex\n",
    "        if nex != None:\n",
    "            nex = nex.next\n",
    "    return prev\n",
    "ll_rev = reverse_ll_iterative(ll)\n",
    "print_ll(ll_rev)\n",
    "\n",
    "#1=>2=>3=>4=>5\n",
    "#4 => 3 => 2 => 1=>None\n",
    "#prev = None, 1, 2, 3, 4\n",
    "#curr = 1, 2, 3, 4, 5\n",
    "#next = 2, 3, 4, 5, None "
   ]
  },
  {
   "cell_type": "code",
   "execution_count": 113,
   "metadata": {},
   "outputs": [
    {
     "name": "stdout",
     "output_type": "stream",
     "text": [
      "5\n",
      "4\n",
      "3\n",
      "2\n",
      "1\n"
     ]
    }
   ],
   "source": [
    "def rev_ll_iteration(head):\n",
    "    if head is None or head.next is None:\n",
    "        return head\n",
    "    prev = None\n",
    "    current = head\n",
    "    while current is not None:\n",
    "        next_node = current.next\n",
    "        current.next = prev\n",
    "        prev = current\n",
    "        current = next_node\n",
    "    return prev\n",
    "rev_l = rev_ll_iteration(ll)\n",
    "print_ll(rev_l)"
   ]
  },
  {
   "cell_type": "markdown",
   "metadata": {},
   "source": [
    "### Merge Sort (Linked List)"
   ]
  },
  {
   "cell_type": "code",
   "execution_count": 114,
   "metadata": {},
   "outputs": [
    {
     "data": {
      "text/plain": [
       "2"
      ]
     },
     "execution_count": 114,
     "metadata": {},
     "output_type": "execute_result"
    }
   ],
   "source": [
    "5//2"
   ]
  },
  {
   "cell_type": "code",
   "execution_count": null,
   "metadata": {},
   "outputs": [],
   "source": [
    "#1. Break Linked List into two halves\n",
    "#2. Call Recursion on two halves\n",
    "#3. Merge 2 sorted LL halves into one"
   ]
  },
  {
   "cell_type": "markdown",
   "metadata": {},
   "source": [
    "### Type of Linked List\n",
    "1. Singly Linked List: Each node has a data and next pointer.\n",
    "2. Doubley Linked List: Each node has a data, next pointer, and previous pointer.\n",
    "3. Circular Linked List: A list where last node points to the first node.\n",
    "4. Doubly Circular Linked List:"
   ]
  },
  {
   "cell_type": "code",
   "execution_count": 117,
   "metadata": {},
   "outputs": [
    {
     "data": {
      "text/plain": [
       "5"
      ]
     },
     "execution_count": 117,
     "metadata": {},
     "output_type": "execute_result"
    }
   ],
   "source": [
    "#\n",
    "def length_ll(head):\n",
    "    length = 0\n",
    "    while head != None:\n",
    "        length += 1\n",
    "        head = head.next\n",
    "    return length\n",
    "length_ll(ll)"
   ]
  },
  {
   "cell_type": "code",
   "execution_count": 119,
   "metadata": {},
   "outputs": [
    {
     "data": {
      "text/plain": [
       "3"
      ]
     },
     "execution_count": 119,
     "metadata": {},
     "output_type": "execute_result"
    }
   ],
   "source": [
    "def middle(head):\n",
    "    if head is None or head.next is None:\n",
    "        return head\n",
    "    length = length_ll(head)\n",
    "    mid = length // 2\n",
    "    count = 0; temp = head\n",
    "    while count != mid:\n",
    "        temp = temp.next\n",
    "        count += 1\n",
    "    return temp.data\n",
    "middle(ll)"
   ]
  },
  {
   "cell_type": "markdown",
   "metadata": {},
   "source": []
  },
  {
   "cell_type": "code",
   "execution_count": 115,
   "metadata": {},
   "outputs": [
    {
     "name": "stdout",
     "output_type": "stream",
     "text": [
      "1\n",
      "2\n",
      "3\n",
      "4\n",
      "5\n"
     ]
    }
   ],
   "source": [
    "### \n",
    "ll = create_ll()\n",
    "print_ll(ll)"
   ]
  },
  {
   "cell_type": "code",
   "execution_count": 132,
   "metadata": {},
   "outputs": [],
   "source": [
    "class Node:\n",
    "    def __init__(self, data):\n",
    "        self.data = data\n",
    "        self.next = None\n",
    "def create_ll(values):\n",
    "    head = None\n",
    "    tail = None\n",
    "    for val in values:\n",
    "        if val != -1:\n",
    "            newNode = Node(val)\n",
    "            if head is None:\n",
    "                head = newNode\n",
    "                tail = newNode\n",
    "            else:\n",
    "                tail.next = newNode\n",
    "                tail = newNode\n",
    "    return head\n",
    "ll = create_ll([1,2,3,4,5,-1])\n",
    "def reverse_ll(head):\n",
    "    if head is None or head.next is None:\n",
    "        return head\n",
    "    smallLinkList = reverse_ll(head.next)\n",
    "    temp = smallLinkList\n",
    "    while temp.next != None:\n",
    "        temp = temp.next\n",
    "    temp.next = head\n",
    "    head.next = None\n",
    "    return smallLinkList\n",
    "#rev_ll = reverse_ll(ll)\n"
   ]
  },
  {
   "cell_type": "code",
   "execution_count": 134,
   "metadata": {},
   "outputs": [
    {
     "name": "stdout",
     "output_type": "stream",
     "text": [
      "5\n",
      "4\n",
      "3\n",
      "2\n",
      "1\n"
     ]
    }
   ],
   "source": [
    "def rev_ll_ite(head):\n",
    "    if head is None or head.next is None:\n",
    "        return head\n",
    "    prev = None\n",
    "    current = head\n",
    "    while current != None:\n",
    "        next_node = current.next\n",
    "        current.next = prev\n",
    "        prev = current\n",
    "        current = next_node\n",
    "    return prev\n",
    "rev = rev_ll_ite(ll)\n",
    "print_ll(rev)"
   ]
  },
  {
   "cell_type": "markdown",
   "metadata": {},
   "source": [
    "### Merge Sort for Arrays "
   ]
  },
  {
   "cell_type": "code",
   "execution_count": 136,
   "metadata": {},
   "outputs": [
    {
     "data": {
      "text/plain": [
       "[1, 2, 3, 4, 5, 6]"
      ]
     },
     "execution_count": 136,
     "metadata": {},
     "output_type": "execute_result"
    }
   ],
   "source": [
    "def merge(left, right):\n",
    "    i = j = 0\n",
    "    arr = []\n",
    "    while i < len(left) and j < len(right):\n",
    "        if left[i] < right[j]:\n",
    "            arr.append(left[i])\n",
    "            i+=1\n",
    "        else:\n",
    "            arr.append(right[j])\n",
    "            j+=1\n",
    "    while i < len(left):\n",
    "        arr.append(left[i])\n",
    "        i+=1\n",
    "    while j < len(right):\n",
    "        arr.append(right[j])\n",
    "        j += 1\n",
    "    return arr\n",
    "merge([1,3,5],[2,4,6])"
   ]
  },
  {
   "cell_type": "code",
   "execution_count": 137,
   "metadata": {},
   "outputs": [
    {
     "data": {
      "text/plain": [
       "[2, 3, 5, 7, 9, 10, 12]"
      ]
     },
     "execution_count": 137,
     "metadata": {},
     "output_type": "execute_result"
    }
   ],
   "source": [
    "def merge_sort(arr):\n",
    "    if len(arr) <= 1:\n",
    "        return arr\n",
    "    mid = len(arr)//2\n",
    "    left = merge_sort(arr[:mid])\n",
    "    right = merge_sort(arr[mid:])\n",
    "    return merge(left, right)\n",
    "merge_sort([7, 5, 9, 2, 10,12, 3])"
   ]
  },
  {
   "cell_type": "markdown",
   "metadata": {},
   "source": [
    "### Merge Sort Link List"
   ]
  },
  {
   "cell_type": "code",
   "execution_count": 9,
   "metadata": {},
   "outputs": [
    {
     "name": "stdout",
     "output_type": "stream",
     "text": [
      "7\n",
      "2\n",
      "5\n",
      "3\n",
      "12\n",
      "10\n",
      "9\n"
     ]
    }
   ],
   "source": [
    "class Node:\n",
    "    def __init__(self, data):\n",
    "        self.data = data\n",
    "        self.next = None\n",
    "def create_ll(values):\n",
    "    head = tail = None\n",
    "    for val in values:\n",
    "        if val != -1:\n",
    "            newNode = Node(val)\n",
    "            if head is None:\n",
    "                head = newNode\n",
    "                tail = newNode\n",
    "            else:\n",
    "                tail.next = newNode\n",
    "                tail = newNode\n",
    "    return head\n",
    "my_ll = create_ll([7, 2, 5, 3, 12, 10, 9])\n",
    "print_ll(my_ll)"
   ]
  },
  {
   "cell_type": "code",
   "execution_count": 177,
   "metadata": {},
   "outputs": [],
   "source": [
    "#function to merge two sorted linked list\n",
    "def merge(head1, head2):\n",
    "    if head1 is None:\n",
    "        return head2\n",
    "    if head2 is None:\n",
    "        return head1\n",
    "    finalHead = finalTail = None\n",
    "    while head1 is not None and head2 is not None:\n",
    "        if head1.data < head2.data:\n",
    "            if finalHead is None:\n",
    "                finalHead = head1\n",
    "                finalTail = head1\n",
    "            else:\n",
    "                finalTail.next = head1\n",
    "                finalTail = head1\n",
    "            head1 = head1.next\n",
    "        else:\n",
    "            if finalHead is None:\n",
    "                finalHead = head2\n",
    "                finalTail = head2\n",
    "            else:\n",
    "                finalTail.next = head2\n",
    "                finalTail = head2\n",
    "            head2 = head2.next\n",
    "    if head1 is not None:\n",
    "        finalTail.next = head1\n",
    "    if head2 is not None:\n",
    "        finalTail.next = head2\n",
    "    return finalHead"
   ]
  },
  {
   "cell_type": "code",
   "execution_count": 178,
   "metadata": {},
   "outputs": [],
   "source": [
    "def two_halves(head):\n",
    "    temp = head\n",
    "    if temp is None or temp.next is None:\n",
    "        return temp\n",
    "    fast = temp\n",
    "    slow = temp\n",
    "    prev = temp\n",
    "    while fast is not None and fast.next is not None:\n",
    "        fast = fast.next.next\n",
    "        prev = slow\n",
    "        slow = slow.next\n",
    "    prev.next = None\n",
    "    return head, slow"
   ]
  },
  {
   "cell_type": "code",
   "execution_count": 179,
   "metadata": {},
   "outputs": [],
   "source": [
    "def merge_sort(head):\n",
    "    if head is None or head.next is None:\n",
    "        return head\n",
    "    left, right = two_halves(head)\n",
    "    left = merge_sort(left)\n",
    "    right = merge_sort(right)\n",
    "    return merge(left, right)\n",
    "sorted_link_list = merge_sort(my_ll)"
   ]
  },
  {
   "cell_type": "code",
   "execution_count": 180,
   "metadata": {},
   "outputs": [
    {
     "name": "stdout",
     "output_type": "stream",
     "text": [
      "2\n",
      "3\n",
      "5\n",
      "7\n",
      "9\n",
      "10\n",
      "12\n"
     ]
    }
   ],
   "source": [
    "print_ll(sorted_link_list)"
   ]
  },
  {
   "cell_type": "markdown",
   "metadata": {},
   "source": [
    "# Exercises"
   ]
  },
  {
   "cell_type": "markdown",
   "metadata": {},
   "source": [
    "## Find the Node Index in Linked List"
   ]
  },
  {
   "cell_type": "code",
   "execution_count": 183,
   "metadata": {},
   "outputs": [],
   "source": [
    "def find_node(head, value):\n",
    "    temp = head\n",
    "    count = 0\n",
    "    while temp.data != value and temp != None:\n",
    "        temp = temp.next\n",
    "        count += 1\n",
    "    if temp is None:\n",
    "        return None\n",
    "    return count\n"
   ]
  },
  {
   "cell_type": "markdown",
   "metadata": {},
   "source": [
    "## Middle of a Link List"
   ]
  },
  {
   "cell_type": "code",
   "execution_count": 236,
   "metadata": {},
   "outputs": [],
   "source": [
    "def middle_LL(head):\n",
    "    if head.next is None:\n",
    "        return 1\n",
    "    fast = head\n",
    "    slow = head\n",
    "    while fast != None and fast.next != None:\n",
    "        fast = fast.next.next\n",
    "        slow = slow.next\n",
    "    return slow\n"
   ]
  },
  {
   "cell_type": "code",
   "execution_count": 38,
   "metadata": {},
   "outputs": [
    {
     "name": "stdout",
     "output_type": "stream",
     "text": [
      "1\n",
      "2\n",
      "6\n",
      "3\n",
      "6\n",
      "4\n",
      "5\n",
      "6\n"
     ]
    }
   ],
   "source": [
    "l = create_ll([1,2,6, 3,6,4,5,6,-1])\n",
    "print_ll(l)"
   ]
  },
  {
   "cell_type": "code",
   "execution_count": 260,
   "metadata": {},
   "outputs": [],
   "source": [
    "def remove_elements(head, val):\n",
    "    newHead = newTail = None\n",
    "    temp = head\n",
    "    while temp != None:\n",
    "        if temp.data != val:\n",
    "            if newHead is None:\n",
    "                newHead = temp\n",
    "                newTail = temp\n",
    "            else:\n",
    "                newTail.next = temp\n",
    "                newTail = temp\n",
    "        temp = temp.next\n",
    "    if newTail:\n",
    "        newTail.next = None\n",
    "    return newHead\n",
    "a = remove_elements(l, 6)"
   ]
  },
  {
   "cell_type": "code",
   "execution_count": 39,
   "metadata": {},
   "outputs": [
    {
     "name": "stdout",
     "output_type": "stream",
     "text": [
      "1\n",
      "2\n",
      "6\n",
      "3\n",
      "6\n",
      "4\n",
      "5\n",
      "6\n"
     ]
    }
   ],
   "source": [
    "print_ll(l)"
   ]
  },
  {
   "cell_type": "code",
   "execution_count": 44,
   "metadata": {},
   "outputs": [
    {
     "name": "stdout",
     "output_type": "stream",
     "text": [
      "1\n",
      "2\n",
      "3\n",
      "4\n",
      "5\n"
     ]
    }
   ],
   "source": [
    "#remove elements from list \n",
    "def remove_elements(head, value):\n",
    "    if head is None:\n",
    "        return head\n",
    "    dummy = Node(0)\n",
    "    dummy.next = head\n",
    "    curr = dummy\n",
    "    while curr.next is not None:\n",
    "        if curr.next.data == value:\n",
    "            curr.next = curr.next.next\n",
    "        else:\n",
    "            curr = curr.next\n",
    "    return dummy.next\n",
    "c = remove_elements(l, 6)\n",
    "print_ll(c)"
   ]
  },
  {
   "cell_type": "markdown",
   "metadata": {},
   "source": [
    "## Remove Duplicates"
   ]
  },
  {
   "cell_type": "code",
   "execution_count": 49,
   "metadata": {},
   "outputs": [],
   "source": [
    "a = create_ll([0,0,0,0,0,-1])"
   ]
  },
  {
   "cell_type": "code",
   "execution_count": 50,
   "metadata": {},
   "outputs": [
    {
     "name": "stdout",
     "output_type": "stream",
     "text": [
      "0\n"
     ]
    }
   ],
   "source": [
    "def remove_duplicates(head):\n",
    "    if head is None or head.next is None:\n",
    "        return head\n",
    "    dummy = Node(0)\n",
    "    dummy.next = head\n",
    "    current  = dummy\n",
    "    while current.next.next is not None:\n",
    "        if current.next.data == current.next.next.data:\n",
    "            current.next = current.next.next\n",
    "        else:\n",
    "            current = current.next\n",
    "    return dummy.next\n",
    "b = remove_duplicates(a)\n",
    "print_ll(b)\n"
   ]
  },
  {
   "cell_type": "code",
   "execution_count": 51,
   "metadata": {},
   "outputs": [
    {
     "name": "stdout",
     "output_type": "stream",
     "text": [
      "0\n"
     ]
    }
   ],
   "source": [
    "# instructor solution\n",
    "def remove_duplicates2(head):\n",
    "    if head is None or head.next is None:\n",
    "        return head\n",
    "    curr = head\n",
    "    while curr is not None and curr.next is not None:\n",
    "        if curr.data == curr.next.data:\n",
    "            curr.next = curr.next.next\n",
    "        else:\n",
    "            curr = curr.next\n",
    "    return head\n",
    "b = remove_duplicates2(a)\n",
    "print_ll(b)"
   ]
  },
  {
   "cell_type": "markdown",
   "metadata": {},
   "source": [
    "### Reverse a Link List"
   ]
  },
  {
   "cell_type": "code",
   "execution_count": 47,
   "metadata": {},
   "outputs": [
    {
     "name": "stdout",
     "output_type": "stream",
     "text": [
      "1\n",
      "2\n",
      "2\n",
      "1\n"
     ]
    }
   ],
   "source": [
    "def reverse_ll(head):\n",
    "    if head is None or head.next is None:\n",
    "        return head\n",
    "    smallLinkList = reverse_ll(head.next)\n",
    "    temp = smallLinkList\n",
    "    while temp.next is not None:\n",
    "        temp = temp.next\n",
    "    temp.next = head\n",
    "    head.next = None\n",
    "    return smallLinkList\n",
    "rev_b = reverse_ll(a)\n",
    "print_ll(rev_b)"
   ]
  },
  {
   "cell_type": "code",
   "execution_count": 46,
   "metadata": {},
   "outputs": [
    {
     "name": "stdout",
     "output_type": "stream",
     "text": [
      "1\n",
      "2\n",
      "2\n",
      "1\n"
     ]
    }
   ],
   "source": [
    "a = create_ll([1,2,2,1,-1])\n",
    "print_ll(a)"
   ]
  },
  {
   "cell_type": "code",
   "execution_count": 48,
   "metadata": {},
   "outputs": [
    {
     "data": {
      "text/plain": [
       "False"
      ]
     },
     "execution_count": 48,
     "metadata": {},
     "output_type": "execute_result"
    }
   ],
   "source": [
    "a == rev_b"
   ]
  },
  {
   "cell_type": "code",
   "execution_count": 55,
   "metadata": {},
   "outputs": [
    {
     "name": "stdout",
     "output_type": "stream",
     "text": [
      "4\n",
      "1\n",
      "8\n",
      "4\n",
      "5\n"
     ]
    }
   ],
   "source": [
    "a = create_ll([4,1,8,4,5,-1])\n",
    "print_ll(a)"
   ]
  },
  {
   "cell_type": "code",
   "execution_count": 56,
   "metadata": {},
   "outputs": [
    {
     "name": "stdout",
     "output_type": "stream",
     "text": [
      "5\n",
      "6\n",
      "1\n",
      "8\n",
      "4\n",
      "5\n"
     ]
    }
   ],
   "source": [
    "b = create_ll([5,6,1,8,4,5,-1])\n",
    "print_ll(b)"
   ]
  },
  {
   "cell_type": "code",
   "execution_count": 64,
   "metadata": {},
   "outputs": [
    {
     "name": "stdout",
     "output_type": "stream",
     "text": [
      "dummy1: 1 dummy2: 6\n",
      "dummy1: 8 dummy2: 1\n",
      "dummy1: 4 dummy2: 8\n",
      "dummy1: 5 dummy2: 4\n",
      "dummy1: 6 dummy2: 4\n",
      "dummy1: 1 dummy2: 1\n",
      "dummy1: 8 dummy2: 8\n",
      "dummy1: 4 dummy2: 4\n",
      "dummy1: 5 dummy2: 5\n"
     ]
    }
   ],
   "source": [
    "def getIntersectionNode(headA, headB):\n",
    "    if not headA or not headB:\n",
    "        return None\n",
    "    dummy1, dummy2 = headA, headB#4, 5\n",
    "    while dummy1 != dummy2:\n",
    "        dummy1 = dummy1.next if dummy1 else headB#1, 8, 4, 5, None, 5\n",
    "        dummy2 = dummy2.next if dummy2 else headA#6, 1, 8, 4, 5, None, 4\n",
    "        if dummy1 and dummy2:\n",
    "            print(\"dummy1:\", dummy1.data, \"dummy2:\", dummy2.data)\n",
    "    return dummy1  \n",
    "ans = getIntersectionNode(a, b)"
   ]
  },
  {
   "cell_type": "code",
   "execution_count": 159,
   "metadata": {},
   "outputs": [
    {
     "name": "stdout",
     "output_type": "stream",
     "text": [
      "1\n",
      "2\n",
      "3\n",
      "4\n",
      "5\n"
     ]
    }
   ],
   "source": [
    "a = create_ll([1,2,3,4,5,-1])\n",
    "print_ll(a)"
   ]
  },
  {
   "cell_type": "code",
   "execution_count": 198,
   "metadata": {},
   "outputs": [
    {
     "name": "stdout",
     "output_type": "stream",
     "text": [
      "1\n",
      "2\n"
     ]
    }
   ],
   "source": [
    "a = create_ll([1,2,-1])\n",
    "def rotate_list(head, k):\n",
    "    if k == 0:\n",
    "        return head\n",
    "    temp = head\n",
    "    tail = head\n",
    "    length = 0\n",
    "    while temp != None:\n",
    "        tail = temp \n",
    "        temp = temp.next\n",
    "        length += 1\n",
    "    if k > length:\n",
    "        k = k % length\n",
    "    k = length - k\n",
    "    if k == 0:\n",
    "        return head\n",
    "    count = 0\n",
    "    prev = head\n",
    "    curr = head\n",
    "    while count != k:\n",
    "        prev = curr\n",
    "        curr = curr.next\n",
    "        count += 1\n",
    "    tail.next = head\n",
    "    prev.next = None\n",
    "    new_head = curr\n",
    "    return new_head\n",
    "b = rotate_list(a, 0)\n",
    "print_ll(b)"
   ]
  },
  {
   "cell_type": "code",
   "execution_count": 202,
   "metadata": {},
   "outputs": [
    {
     "name": "stdout",
     "output_type": "stream",
     "text": [
      "1\n",
      "2\n"
     ]
    }
   ],
   "source": [
    "a = create_ll([1,2,-1])\n",
    "def rotateRight(head, k):\n",
    "        if head is None or head.next is None: \n",
    "            return head\n",
    "        length = 0\n",
    "        tail = head\n",
    "        temp = head\n",
    "        while temp != None:\n",
    "            tail = temp\n",
    "            temp = temp.next\n",
    "            length +=1\n",
    "        if k >= length:\n",
    "            k = k % length\n",
    "        if k == 0:\n",
    "            return head\n",
    "        k = length - k\n",
    "        count = 0\n",
    "        curr = head\n",
    "        prev = head\n",
    "        while count != k:\n",
    "            prev = curr\n",
    "            curr = curr.next\n",
    "            count += 1\n",
    "        tail.next = head\n",
    "        prev.next = None\n",
    "        new_head = curr\n",
    "        return new_head\n",
    "b = rotateRight(a, 2)\n",
    "print_ll(b)"
   ]
  },
  {
   "cell_type": "markdown",
   "metadata": {},
   "source": [
    "### Remove Nth Node from End"
   ]
  },
  {
   "cell_type": "code",
   "execution_count": 227,
   "metadata": {},
   "outputs": [
    {
     "name": "stdout",
     "output_type": "stream",
     "text": [
      "2\n"
     ]
    }
   ],
   "source": [
    "l = create_ll([1,2,-1])\n",
    "def removeNthNode(head, n):\n",
    "    temp = head\n",
    "    length = 0\n",
    "    while temp != None:\n",
    "        temp = temp.next\n",
    "        length +=1\n",
    "    node_number = length - n + 1\n",
    "    if node_number == 1:\n",
    "        return head.next\n",
    "    count = 0\n",
    "    temp = head\n",
    "    prev = head\n",
    "    while count < node_number - 1:\n",
    "        prev = temp\n",
    "        temp = temp.next\n",
    "        count += 1\n",
    "    prev.next = prev.next.next\n",
    "    return head\n",
    "b = removeNthNode(l, 2)\n",
    "print_ll(b)"
   ]
  },
  {
   "cell_type": "code",
   "execution_count": 224,
   "metadata": {},
   "outputs": [
    {
     "name": "stdout",
     "output_type": "stream",
     "text": [
      "1\n",
      "2\n"
     ]
    }
   ],
   "source": [
    "l = create_ll([1,2,-1])\n",
    "print_ll(l)"
   ]
  },
  {
   "cell_type": "code",
   "execution_count": null,
   "metadata": {},
   "outputs": [],
   "source": []
  },
  {
   "cell_type": "code",
   "execution_count": 108,
   "metadata": {},
   "outputs": [
    {
     "name": "stdout",
     "output_type": "stream",
     "text": [
      "5\n",
      "1\n",
      "2\n",
      "3\n",
      "4\n"
     ]
    }
   ],
   "source": [
    "print_ll(c)"
   ]
  },
  {
   "cell_type": "code",
   "execution_count": 71,
   "metadata": {},
   "outputs": [
    {
     "name": "stdout",
     "output_type": "stream",
     "text": [
      "5\n",
      "1\n",
      "2\n",
      "3\n",
      "4\n"
     ]
    }
   ],
   "source": [
    "def rotate_list(head):\n",
    "    dummy = Node(0)\n",
    "    dummy.next = head\n",
    "    curr = dummy\n",
    "    while curr.next.next is not None:\n",
    "        curr = curr.next\n",
    "    curr.next.next = head\n",
    "    head = curr.next\n",
    "    curr.next = None\n",
    "    return head\n",
    "li = rotate_list(a)\n",
    "print_ll(li)"
   ]
  },
  {
   "cell_type": "markdown",
   "metadata": {},
   "source": [
    "### Maximum Twin Sum of a Linked List"
   ]
  },
  {
   "cell_type": "code",
   "execution_count": 29,
   "metadata": {},
   "outputs": [],
   "source": [
    "def print_ll(head):\n",
    "    curr = head\n",
    "    while curr:\n",
    "        print(curr.data, end = \" -> \")\n",
    "        curr = curr.next"
   ]
  },
  {
   "cell_type": "code",
   "execution_count": 59,
   "metadata": {},
   "outputs": [
    {
     "name": "stdout",
     "output_type": "stream",
     "text": [
      "1 -> 2 -> 3 -> 4 -> 5 -> 6 -> "
     ]
    }
   ],
   "source": [
    "my_list = create_ll([1,2,3,4,5,6])\n",
    "print_ll(my_list)"
   ]
  },
  {
   "cell_type": "code",
   "execution_count": 60,
   "metadata": {},
   "outputs": [
    {
     "name": "stdout",
     "output_type": "stream",
     "text": [
      "Maximum Sum: 7\n"
     ]
    }
   ],
   "source": [
    "def pairSum(head):\n",
    "    def two_halves(head):\n",
    "        if not head or not head.next:\n",
    "            return head\n",
    "        prev = head\n",
    "        slow = head\n",
    "        fast = head\n",
    "        while fast and fast.next:\n",
    "            prev = slow\n",
    "            slow = slow.next\n",
    "            fast = fast.next.next\n",
    "        prev.next = None\n",
    "        return head, slow\n",
    "    left, right = two_halves(head)\n",
    "    def reverse_ll(head):\n",
    "        if not head or not head.next:\n",
    "            return head\n",
    "        prev = None\n",
    "        curr = head\n",
    "        while curr:\n",
    "            next_node = curr.next\n",
    "            curr.next = prev\n",
    "            prev = curr\n",
    "            curr = next_node\n",
    "        return prev\n",
    "    right_reverse = reverse_ll(right)\n",
    "    max_sum = left.val + right_reverse.val\n",
    "    while left.next and right_reverse.next:\n",
    "        new_sum = left.next.val + right_reverse.next.val\n",
    "        if max_sum < new_sum:\n",
    "            max_sum = new_sum\n",
    "        left = left.next\n",
    "        right_reverse = right_reverse.next\n",
    "    return max_sum\n",
    "\n",
    "res = pairSum(my_list)\n",
    "print(\"Maximum Sum:\", res)\n"
   ]
  },
  {
   "cell_type": "markdown",
   "metadata": {},
   "source": [
    "#### Add Two Link List II"
   ]
  },
  {
   "cell_type": "code",
   "execution_count": 88,
   "metadata": {},
   "outputs": [],
   "source": [
    "def add_two_ll(l1, l2):\n",
    "    def reverse_ll(head):\n",
    "        if not head or not head.next:\n",
    "            return head\n",
    "        prev = None\n",
    "        curr = head\n",
    "        while curr:\n",
    "            next_node = curr.next\n",
    "            curr.next = prev\n",
    "            prev = curr\n",
    "            curr = next_node\n",
    "        return prev\n",
    "    l1 = reverse_ll(l1)\n",
    "    l2 = reverse_ll(l2)\n",
    "    dummy = Node(0)\n",
    "    curr = dummy\n",
    "    carry = 0\n",
    "    while l1 or l2 or carry:\n",
    "        val1 = l1.val if l1 else 0\n",
    "        val2 = l2.val if l2 else 0 \n",
    "        total = val1 + val2 +carry\n",
    "        digit = total % 10\n",
    "        carry = total //10\n",
    "        newNode = Node(digit)\n",
    "        curr.next = newNode\n",
    "        curr = curr.next\n",
    "        if l1:\n",
    "            l1 = l1.next\n",
    "        if l2:\n",
    "            l2 = l2.next\n",
    "    \n",
    "    return reverse_ll(dummy.next)\n",
    "\n",
    "l1 = create_ll([7,2,4,3])\n",
    "l2 = create_ll([5,6,4])\n",
    "res1 = add_two_ll(l1, l2)"
   ]
  },
  {
   "cell_type": "code",
   "execution_count": 89,
   "metadata": {},
   "outputs": [
    {
     "name": "stdout",
     "output_type": "stream",
     "text": [
      "7 -> \n",
      "5 -> \n",
      "7 -> 8 -> 0 -> 7 -> "
     ]
    }
   ],
   "source": [
    "print_ll(l1)\n",
    "print()\n",
    "print_ll(l2)\n",
    "print()\n",
    "print_ll(res1)"
   ]
  },
  {
   "cell_type": "code",
   "execution_count": 81,
   "metadata": {},
   "outputs": [
    {
     "name": "stdout",
     "output_type": "stream",
     "text": [
      "0 -> 8 -> 9 -> "
     ]
    }
   ],
   "source": [
    "list1 = create_ll([6,2,3])\n",
    "list2 = create_ll([4,5,6])\n",
    "res = add_two_ll(list1, list2)\n",
    "print_ll(res)"
   ]
  },
  {
   "cell_type": "code",
   "execution_count": 69,
   "metadata": {},
   "outputs": [
    {
     "data": {
      "text/plain": [
       "0"
      ]
     },
     "execution_count": 69,
     "metadata": {},
     "output_type": "execute_result"
    }
   ],
   "source": [
    "10 % 10"
   ]
  },
  {
   "cell_type": "code",
   "execution_count": null,
   "metadata": {},
   "outputs": [],
   "source": [
    "#3->4->2->7\n",
    "#4->6->5\n",
    "#7->0->8->7"
   ]
  },
  {
   "cell_type": "code",
   "execution_count": 27,
   "metadata": {},
   "outputs": [],
   "source": [
    "#1->2->3->4->5->6->\n",
    "#prev = 1\n",
    "#curr = 2\n",
    "#next_node = 3"
   ]
  },
  {
   "cell_type": "code",
   "execution_count": 28,
   "metadata": {},
   "outputs": [
    {
     "ename": "AttributeError",
     "evalue": "'Node' object has no attribute 'val'",
     "output_type": "error",
     "traceback": [
      "\u001b[1;31m---------------------------------------------------------------------------\u001b[0m",
      "\u001b[1;31mAttributeError\u001b[0m                            Traceback (most recent call last)",
      "Cell \u001b[1;32mIn[28], line 1\u001b[0m\n\u001b[1;32m----> 1\u001b[0m print_ll(right)\n",
      "Cell \u001b[1;32mIn[27], line 4\u001b[0m, in \u001b[0;36mprint_ll\u001b[1;34m(head)\u001b[0m\n\u001b[0;32m      2\u001b[0m curr \u001b[38;5;241m=\u001b[39m head\n\u001b[0;32m      3\u001b[0m \u001b[38;5;28;01mwhile\u001b[39;00m curr:\n\u001b[1;32m----> 4\u001b[0m     \u001b[38;5;28mprint\u001b[39m(curr\u001b[38;5;241m.\u001b[39mval, end \u001b[38;5;241m=\u001b[39m \u001b[38;5;124m\"\u001b[39m\u001b[38;5;124m -> \u001b[39m\u001b[38;5;124m\"\u001b[39m)\n\u001b[0;32m      5\u001b[0m     curr \u001b[38;5;241m=\u001b[39m curr\u001b[38;5;241m.\u001b[39mnext\n",
      "\u001b[1;31mAttributeError\u001b[0m: 'Node' object has no attribute 'val'"
     ]
    }
   ],
   "source": [
    "print_ll(right)"
   ]
  },
  {
   "cell_type": "code",
   "execution_count": null,
   "metadata": {},
   "outputs": [],
   "source": []
  }
 ],
 "metadata": {
  "kernelspec": {
   "display_name": "base",
   "language": "python",
   "name": "python3"
  },
  "language_info": {
   "codemirror_mode": {
    "name": "ipython",
    "version": 3
   },
   "file_extension": ".py",
   "mimetype": "text/x-python",
   "name": "python",
   "nbconvert_exporter": "python",
   "pygments_lexer": "ipython3",
   "version": "3.12.3"
  }
 },
 "nbformat": 4,
 "nbformat_minor": 2
}
