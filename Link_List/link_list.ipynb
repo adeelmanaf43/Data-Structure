{
 "cells": [
  {
   "cell_type": "markdown",
   "metadata": {},
   "source": [
    "### Data Structure\n",
    "\n",
    "data + structure\n",
    "\n",
    "data is collection of facts information and statistics and it can be of any form (text, image, sound)\n",
    "\n",
    "Structure is arrangement\n",
    "\n",
    "Way to store our data i.e. add structure to our data\n",
    "\n",
    "In-Built Data Sturcture Python\n",
    "\n",
    "1. List\n",
    "2. Tupple\n",
    "3. Dictionary\n",
    "4. Sets\n",
    "\n",
    "Stack can be used for forward and backward button.\n",
    "\n",
    "For file handling trees data structure can be used.\n",
    "\n",
    "Algorithm:\n",
    "\n",
    "Step by step instruction or procedure used to manipulate the data in our data sturcture.\n",
    "\n",
    "Binary Search  \n",
    "\n",
    "1. mid = len/2\n",
    "\n",
    "2.Compare with mid value\n",
    "\n",
    "3. Proceed with left or right half\n",
    "\n",
    "\n",
    "a -> (aa, ab)\n",
    "b -> (ba, bb,)\n"
   ]
  },
  {
   "cell_type": "code",
   "execution_count": null,
   "metadata": {},
   "outputs": [],
   "source": [
    "s1 = \"\"\n",
    "s2 = \"\"\n",
    "s3 = \"\"\n",
    "li = [s1, s2, s3]\n",
    "\n"
   ]
  },
  {
   "cell_type": "markdown",
   "metadata": {},
   "source": [
    "### Linked List\n",
    "\n",
    "- linear data structure just like arr/list\n",
    "\n",
    "- Whenever we defined an array it asked for size as well.\n",
    "\n",
    "- this might not be free\n",
    "\n",
    "Let we created a very big array\n",
    "\n",
    "insert, memory wastage\n",
    "\n",
    "arr: elements are continuously stored.\n",
    "\n",
    "add elements as per our requirements -> Basic idea of LL\n",
    "\n",
    "In link list we can add element as per requirements.\n",
    "\n",
    "Randomly allocated space in memory.\n",
    "\n",
    "In link list elements are not continuous\n",
    "\n",
    "1. array/list -> to store addresses\n",
    "\n",
    "2. Ask my elements to store the address of next element.\n",
    "\n",
    "3. The first element is known as head.\n",
    "\n",
    "3. Each element has two things (data, address of next element)"
   ]
  },
  {
   "cell_type": "markdown",
   "metadata": {},
   "source": [
    "### Create Link List\n",
    "Link list is a collection of node where each node has data and addreess of next node."
   ]
  },
  {
   "cell_type": "markdown",
   "metadata": {},
   "source": [
    "#### Class for Creating a Single Node in Link List"
   ]
  },
  {
   "cell_type": "code",
   "execution_count": 1,
   "metadata": {},
   "outputs": [],
   "source": [
    "### class for creating a single Node\n",
    "class Node:\n",
    "    def __init__(self, data):\n",
    "        self.data = data\n",
    "        self.next = None"
   ]
  },
  {
   "cell_type": "markdown",
   "metadata": {},
   "source": [
    "### Function for Creating Link List"
   ]
  },
  {
   "cell_type": "code",
   "execution_count": 18,
   "metadata": {},
   "outputs": [
    {
     "data": {
      "text/plain": [
       "10"
      ]
     },
     "execution_count": 18,
     "metadata": {},
     "output_type": "execute_result"
    }
   ],
   "source": [
    "#function for creating a link list\n",
    "def create_LL():\n",
    "    data = [10,20,30,40,50,-1]\n",
    "    head = None\n",
    "    tail = None\n",
    "    for value in data:\n",
    "        if value != -1:\n",
    "            newNode = Node(value)\n",
    "            if head == None:\n",
    "                head = newNode\n",
    "                tail = newNode\n",
    "            else:\n",
    "                tail.next = newNode\n",
    "                tail = newNode\n",
    "    return head\n",
    "link_list = create_LL()\n",
    "link_list.data"
   ]
  },
  {
   "cell_type": "markdown",
   "metadata": {},
   "source": [
    "### Function for Printing Link List"
   ]
  },
  {
   "cell_type": "code",
   "execution_count": 19,
   "metadata": {},
   "outputs": [
    {
     "name": "stdout",
     "output_type": "stream",
     "text": [
      "10\n",
      "20\n",
      "30\n",
      "40\n",
      "50\n"
     ]
    }
   ],
   "source": [
    "# function for printing link list\n",
    "def print_LL(head):\n",
    "    temp = head\n",
    "    while temp != None:\n",
    "        print(temp.data)\n",
    "        temp = temp.next\n",
    "print_LL(link_list)"
   ]
  },
  {
   "cell_type": "markdown",
   "metadata": {},
   "source": [
    "### Recursive Function for Printing Link List"
   ]
  },
  {
   "cell_type": "code",
   "execution_count": 13,
   "metadata": {},
   "outputs": [
    {
     "name": "stdout",
     "output_type": "stream",
     "text": [
      "10\n",
      "20\n",
      "30\n",
      "40\n",
      "50\n"
     ]
    }
   ],
   "source": [
    "# recursive function for printing link list\n",
    "def rec_print_LL(head):\n",
    "    if head == None:\n",
    "        return \n",
    "    print(head.data)\n",
    "    rec_print_LL(head.next)\n",
    "rec_print_LL(link_list)"
   ]
  },
  {
   "cell_type": "markdown",
   "metadata": {},
   "source": [
    "### Function for Finding the Length of Link List"
   ]
  },
  {
   "cell_type": "code",
   "execution_count": 9,
   "metadata": {},
   "outputs": [
    {
     "data": {
      "text/plain": [
       "5"
      ]
     },
     "execution_count": 9,
     "metadata": {},
     "output_type": "execute_result"
    }
   ],
   "source": [
    "#function for finding length of link list\n",
    "def length_LL(head):\n",
    "    count = 0\n",
    "    temp = head\n",
    "    while temp !=None:\n",
    "        count += 1\n",
    "        temp = temp.next\n",
    "    return count\n",
    "length_LL(link_list)"
   ]
  },
  {
   "cell_type": "markdown",
   "metadata": {},
   "source": [
    "### Recursive Function for Finding the length of the link list"
   ]
  },
  {
   "cell_type": "code",
   "execution_count": 10,
   "metadata": {},
   "outputs": [
    {
     "data": {
      "text/plain": [
       "5"
      ]
     },
     "execution_count": 10,
     "metadata": {},
     "output_type": "execute_result"
    }
   ],
   "source": [
    "#recursive function for finding length of link list\n",
    "def rec_length_LL(head):\n",
    "    if head == None:\n",
    "        return 0\n",
    "    return 1 + rec_length_LL(head.next)\n",
    "rec_length_LL(link_list)"
   ]
  },
  {
   "cell_type": "markdown",
   "metadata": {},
   "source": [
    "### Function for Inserting a Node at Head"
   ]
  },
  {
   "cell_type": "code",
   "execution_count": 20,
   "metadata": {},
   "outputs": [
    {
     "name": "stdout",
     "output_type": "stream",
     "text": [
      "5\n",
      "10\n",
      "20\n",
      "30\n",
      "40\n",
      "50\n"
     ]
    }
   ],
   "source": [
    "# function to insert at head\n",
    "def insert_at_Head(head, data):\n",
    "    newNode = Node(data)\n",
    "    newNode.next = head\n",
    "    head = newNode\n",
    "    return head\n",
    "link_list = insert_at_Head(link_list, 5)\n",
    "rec_print_LL(link_list)"
   ]
  },
  {
   "cell_type": "markdown",
   "metadata": {},
   "source": [
    "### Function for Inserting Node at tail"
   ]
  },
  {
   "cell_type": "code",
   "execution_count": 21,
   "metadata": {},
   "outputs": [
    {
     "name": "stdout",
     "output_type": "stream",
     "text": [
      "5\n",
      "10\n",
      "20\n",
      "30\n",
      "40\n",
      "50\n",
      "51\n"
     ]
    }
   ],
   "source": [
    "## function to insert at tail\n",
    "def insert_at_tail(head, data):\n",
    "    temp = head\n",
    "    newNode = Node(data)\n",
    "    while temp.next != None:\n",
    "        temp = temp.next\n",
    "    temp.next = newNode\n",
    "    return head\n",
    "link_list = insert_at_tail(link_list, 51)\n",
    "rec_print_LL(link_list)"
   ]
  },
  {
   "cell_type": "markdown",
   "metadata": {},
   "source": [
    "### Recursive Function to Insert a Node at Tail"
   ]
  },
  {
   "cell_type": "code",
   "execution_count": 22,
   "metadata": {},
   "outputs": [
    {
     "name": "stdout",
     "output_type": "stream",
     "text": [
      "5\n",
      "10\n",
      "20\n",
      "30\n",
      "40\n",
      "50\n",
      "51\n",
      "52\n"
     ]
    }
   ],
   "source": [
    "#recursive function to insert at tail\n",
    "def rec_insert_at_tail(head, data):\n",
    "    if head == None:\n",
    "        newNode = Node(data)\n",
    "        return newNode\n",
    "    head.next = rec_insert_at_tail(head.next, data)\n",
    "    return head\n",
    "link_list = rec_insert_at_tail(link_list, 52)\n",
    "rec_print_LL(link_list)"
   ]
  },
  {
   "cell_type": "markdown",
   "metadata": {},
   "source": [
    "### Function for Inserting node at a Given index"
   ]
  },
  {
   "cell_type": "code",
   "execution_count": 23,
   "metadata": {},
   "outputs": [
    {
     "name": "stdout",
     "output_type": "stream",
     "text": [
      "5\n",
      "10\n",
      "15\n",
      "20\n",
      "30\n",
      "40\n",
      "50\n",
      "51\n",
      "52\n"
     ]
    }
   ],
   "source": [
    "# function to insert at index iteratively\n",
    "def insert_at_index(head,index, data):\n",
    "    if index == 0:\n",
    "        return insert_at_Head(head, data)\n",
    "    count = 0\n",
    "    newNode = Node(data)\n",
    "    temp = head\n",
    "    while temp != None and count < index - 1:\n",
    "        temp = temp.next\n",
    "        count +=1\n",
    "    if temp == None:\n",
    "        print(\"Out of bound index, please check again\")\n",
    "        return head\n",
    "    newNode.next = temp.next\n",
    "    temp.next = newNode\n",
    "    return head\n",
    "link_list = insert_at_index(link_list, 2, 15)\n",
    "rec_print_LL(link_list)\n",
    "#5->10>20"
   ]
  },
  {
   "cell_type": "markdown",
   "metadata": {},
   "source": [
    "### Recursive Function to Insert node at Given Index Recursively"
   ]
  },
  {
   "cell_type": "code",
   "execution_count": 24,
   "metadata": {},
   "outputs": [
    {
     "name": "stdout",
     "output_type": "stream",
     "text": [
      "5\n",
      "10\n",
      "15\n",
      "20\n",
      "25\n",
      "30\n",
      "40\n",
      "50\n",
      "51\n",
      "52\n"
     ]
    }
   ],
   "source": [
    "#insert at index recursively\n",
    "def rec_insert_at_index(head, index, data):\n",
    "    if index == 0:\n",
    "        return insert_at_Head(head, data)\n",
    "    if head == None:\n",
    "        print(\"Index is out of bound\")\n",
    "        return \n",
    "    head.next = rec_insert_at_index(head.next, index - 1, data)\n",
    "    return head\n",
    "link_list = rec_insert_at_index(link_list, 4, 25)\n",
    "rec_print_LL(link_list)"
   ]
  },
  {
   "cell_type": "markdown",
   "metadata": {},
   "source": [
    "### Delete a Node at Head"
   ]
  },
  {
   "cell_type": "code",
   "execution_count": 27,
   "metadata": {},
   "outputs": [
    {
     "name": "stdout",
     "output_type": "stream",
     "text": [
      "15\n",
      "20\n",
      "25\n",
      "30\n",
      "40\n",
      "50\n",
      "51\n",
      "52\n"
     ]
    }
   ],
   "source": [
    "def delete_at_Head(head):\n",
    "    if head == None:\n",
    "        return None\n",
    "    head = head.next\n",
    "    return head\n",
    "link_list = delete_at_Head(link_list)\n",
    "print_LL(link_list)"
   ]
  },
  {
   "cell_type": "markdown",
   "metadata": {},
   "source": [
    "### Delete a Node at Tail"
   ]
  },
  {
   "cell_type": "code",
   "execution_count": 31,
   "metadata": {},
   "outputs": [
    {
     "name": "stdout",
     "output_type": "stream",
     "text": [
      "15\n",
      "20\n",
      "25\n",
      "30\n",
      "40\n",
      "50\n"
     ]
    }
   ],
   "source": [
    "### delete a node at tail\n",
    "def delete_at_Tail(head):\n",
    "    if head == None or head.next == None:\n",
    "        return None\n",
    "    temp = head\n",
    "    while temp.next.next is not None:\n",
    "        temp = temp.next\n",
    "    temp.next = None\n",
    "    return head\n",
    "link_list = delete_at_Tail(link_list)\n",
    "print_LL(link_list)"
   ]
  },
  {
   "cell_type": "markdown",
   "metadata": {},
   "source": [
    "### Delete a Node at Tail Recursively"
   ]
  },
  {
   "cell_type": "code",
   "execution_count": 32,
   "metadata": {},
   "outputs": [
    {
     "name": "stdout",
     "output_type": "stream",
     "text": [
      "15\n",
      "20\n",
      "25\n",
      "30\n",
      "40\n"
     ]
    }
   ],
   "source": [
    "# delete a node at tail recursively\n",
    "def rec_delete_at_Tail(head):\n",
    "    if head is None or head.next is None:\n",
    "        return None\n",
    "    head.next = rec_delete_at_Tail(head.next)\n",
    "    return head\n",
    "link_list = rec_delete_at_Tail(link_list)\n",
    "print_LL(link_list)"
   ]
  },
  {
   "cell_type": "markdown",
   "metadata": {},
   "source": [
    "### Delete a Node at Given Index"
   ]
  },
  {
   "cell_type": "code",
   "execution_count": null,
   "metadata": {},
   "outputs": [],
   "source": [
    "### delete at a give index\n",
    "def delete_at_index(head, index):\n",
    "    if index == 0:\n",
    "        return delete_at_Head(head)\n",
    "    count = 0\n",
    "    temp = head\n",
    "    while temp != None and count < index-1:\n",
    "        temp = temp.next \n",
    "        count = count + 1\n",
    "    if temp == None:\n",
    "        print(\"Index is out of bounds\")\n",
    "        return head\n",
    "    if temp.next is None:\n",
    "        return delete_at_Tail(head)\n",
    "    temp.next = temp.next.next\n",
    "    return head\n",
    "    \n",
    "#10->20->30->40->50"
   ]
  },
  {
   "cell_type": "markdown",
   "metadata": {},
   "source": [
    "### Delete a Node at a Given Index Recursive"
   ]
  },
  {
   "cell_type": "code",
   "execution_count": null,
   "metadata": {},
   "outputs": [],
   "source": [
    "#delete at index recursively\n",
    "def rec_delete_at_index(head, index):\n",
    "    if head == None:\n",
    "        print(\"Index is out of bounds\")\n",
    "        return None\n",
    "    if index == 0:\n",
    "        return head.next\n",
    "    head.next = rec_delete_at_index(head.next, index-1)\n",
    "    return head"
   ]
  },
  {
   "cell_type": "markdown",
   "metadata": {},
   "source": [
    "### Delete a Node by Value"
   ]
  },
  {
   "cell_type": "code",
   "execution_count": 37,
   "metadata": {},
   "outputs": [
    {
     "name": "stdout",
     "output_type": "stream",
     "text": [
      "Value is not found\n",
      "15\n",
      "20\n",
      "25\n",
      "40\n"
     ]
    }
   ],
   "source": [
    "# delete a node by value\n",
    "def delete_by_value(head, value):\n",
    "    if head is None:\n",
    "        print(\"Link List is empty\")\n",
    "        return \n",
    "    if head.data == value:\n",
    "        return head.next\n",
    "    temp = head\n",
    "    while temp.next != None and temp.next.data != value:\n",
    "        temp = temp.next\n",
    "    if temp.next == None:\n",
    "        print(\"Value is not found\")\n",
    "        return head\n",
    "    else:\n",
    "        temp.next = temp.next.next\n",
    "        return head\n",
    "link_list = delete_by_value(link_list, 80)\n",
    "print_LL(link_list)"
   ]
  },
  {
   "cell_type": "markdown",
   "metadata": {},
   "source": [
    "#### Search a Node by Value"
   ]
  },
  {
   "cell_type": "code",
   "execution_count": 39,
   "metadata": {},
   "outputs": [
    {
     "data": {
      "text/plain": [
       "3"
      ]
     },
     "execution_count": 39,
     "metadata": {},
     "output_type": "execute_result"
    }
   ],
   "source": [
    "### search value\n",
    "def search_value(head, value):\n",
    "    if head == None:\n",
    "        print(\"Empty List\")\n",
    "        return \n",
    "    index = 0\n",
    "    temp = head\n",
    "    while temp != None:\n",
    "        if temp.data == value:\n",
    "            return index\n",
    "        temp = temp.next\n",
    "        index += 1\n",
    "    return \"Not Found\"\n",
    "search_value(link_list, 40)"
   ]
  },
  {
   "cell_type": "markdown",
   "metadata": {},
   "source": [
    "### Search a Node by Value Recursively"
   ]
  },
  {
   "cell_type": "code",
   "execution_count": 57,
   "metadata": {},
   "outputs": [
    {
     "data": {
      "text/plain": [
       "'Not Found'"
      ]
     },
     "execution_count": 57,
     "metadata": {},
     "output_type": "execute_result"
    }
   ],
   "source": [
    "#search value recursively \n",
    "def rec_search_val(head, value):\n",
    "   def helper(temp = head, index = 0):\n",
    "      if temp  == None:\n",
    "         return  \"Not Found\"\n",
    "      if temp.data == value:\n",
    "         return index\n",
    "      return helper(temp.next, index + 1)\n",
    "   return helper()\n",
    "         \n",
    "rec_search_val(link_list,50)"
   ]
  },
  {
   "cell_type": "markdown",
   "metadata": {},
   "source": [
    "### Search by Index"
   ]
  },
  {
   "cell_type": "code",
   "execution_count": 69,
   "metadata": {},
   "outputs": [
    {
     "data": {
      "text/plain": [
       "'Not Found'"
      ]
     },
     "execution_count": 69,
     "metadata": {},
     "output_type": "execute_result"
    }
   ],
   "source": [
    "#search by index\n",
    "def search_by_index(head, index):\n",
    "    if head == None:\n",
    "        return None\n",
    "    if index == 0:\n",
    "        return head.data\n",
    "    temp = head\n",
    "    count = 0\n",
    "    while temp !=None and count !=index:\n",
    "        temp = temp.next\n",
    "        count += 1\n",
    "    if temp is None:\n",
    "        return \"Not Found\"\n",
    "    return temp.data\n",
    "search_by_index(link_list, 4)"
   ]
  },
  {
   "cell_type": "markdown",
   "metadata": {},
   "source": [
    "# Link List Class"
   ]
  },
  {
   "cell_type": "code",
   "execution_count": 62,
   "metadata": {},
   "outputs": [
    {
     "name": "stdout",
     "output_type": "stream",
     "text": [
      "10--->20--->25--->30--->35--->40--->\n",
      "20--->25--->30--->35--->40--->\n",
      "20--->25--->35--->40--->\n",
      "\n",
      "20--->25--->37--->42--->"
     ]
    }
   ],
   "source": [
    "class Node:\n",
    "    def __init__(self, data):\n",
    "        self.data = data\n",
    "        self.next = None\n",
    "class LinkedList:\n",
    "    def __init__(self):\n",
    "        self.head = None\n",
    "    def insert_at_Head(self, data):\n",
    "        newNode = Node(data)\n",
    "        if self.head == None:\n",
    "            self.head = newNode\n",
    "        else:\n",
    "            newNode.next = self.head\n",
    "            self.head = newNode\n",
    "       # return self.head\n",
    "    def insert_at_tail(self, data):\n",
    "        newNode = Node(data)\n",
    "        if self.head is None:\n",
    "            return newNode\n",
    "        temp = self.head\n",
    "        while temp.next != None:\n",
    "            temp = temp.next\n",
    "        temp.next = newNode\n",
    "    def insert_at_index(self, index, data):\n",
    "        if index == 0:\n",
    "            return self.insert_at_Head(self, data)\n",
    "        newNode = Node(data)\n",
    "        count = 0\n",
    "        temp = self.head\n",
    "        while temp != None and count < index - 1:\n",
    "            temp = temp.next\n",
    "            count +=1\n",
    "        if temp == None:\n",
    "            print(\"Index is Out of Bounds\")\n",
    "            return \n",
    "        newNode.next = temp.next\n",
    "        temp.next = newNode\n",
    "    def print_LL(self):\n",
    "        temp = self.head\n",
    "        while temp !=None:\n",
    "            print(temp.data, end = \"--->\")\n",
    "            temp = temp.next\n",
    "    def length_LL(self):\n",
    "        count = 0\n",
    "        temp = self.head\n",
    "        while temp != None:\n",
    "            count +=1\n",
    "            temp = temp.next\n",
    "        return count\n",
    "    def delete_Head(self):\n",
    "        if self.head is None:\n",
    "            print(\"Link List is Empty\")\n",
    "            return \n",
    "        self.head = self.head.next\n",
    "    def delete_Tail(self):\n",
    "        if self.temp is None:\n",
    "            print(\"Link List is Empty\")\n",
    "            return \n",
    "        temp = self.head\n",
    "        while temp.next.next != None:\n",
    "            temp = temp.next\n",
    "        temp.next = None\n",
    "    def delete_at_Index(self, index):\n",
    "        if index == 0:\n",
    "            return self.delete_Head()\n",
    "        count = 0\n",
    "        temp = self.head\n",
    "        while temp != None and count < index - 1:\n",
    "            temp = temp.next\n",
    "            count += 1\n",
    "        if temp == None:\n",
    "            return \"Index is out of bound\"\n",
    "        temp.next = temp.next.next\n",
    "    def search_at_Index(self, index):\n",
    "        if index == 0:\n",
    "            return self.head.data\n",
    "        count = 0\n",
    "        temp = self.head\n",
    "        while temp != None and count != index:\n",
    "            temp = temp.next\n",
    "            count += 1\n",
    "        if temp == None:\n",
    "            return \"Index out Of Bound\"\n",
    "        return temp.data\n",
    "    def search_by_Value(self, value):\n",
    "        if self.head.data == value:\n",
    "            return self.head.data\n",
    "        temp = self.head\n",
    "        while temp != None:\n",
    "            if temp.data == value:\n",
    "                return temp.data\n",
    "            temp = temp.next\n",
    "        return \"Value Not Found\"\n",
    "    def update_by_value(self, value, newValue):\n",
    "        if self.head.data == value:\n",
    "            self.head.data = newValue\n",
    "        temp = self.head\n",
    "        while temp != None:\n",
    "            if temp.data == value:\n",
    "                temp.data = newValue\n",
    "                return\n",
    "            temp = temp.next\n",
    "        if temp != None:\n",
    "            return \"Value Not Found\"\n",
    "    def update_by_index(self, index, newValue):\n",
    "        if index == 0:\n",
    "            self.head.data = newValue\n",
    "        count = 0\n",
    "        temp = self.head\n",
    "        while temp != None and count != index:\n",
    "            temp = temp.next\n",
    "            count +=1\n",
    "        if temp == None:\n",
    "            return \"Index is out of bound\"\n",
    "        temp.data = newValue\n",
    "\n",
    "        \n",
    "        \n",
    "ll = LinkedList()\n",
    "ll.insert_at_Head(10)\n",
    "ll.insert_at_tail(20)\n",
    "ll.insert_at_tail(30)\n",
    "ll.insert_at_index(3, 40)\n",
    "ll.insert_at_index(2, 25)\n",
    "ll.insert_at_index(4, 35)\n",
    "ll.print_LL()\n",
    "ll.delete_Head()\n",
    "print()\n",
    "ll.print_LL()\n",
    "ll.delete_at_Index(2)\n",
    "print()\n",
    "ll.print_LL()\n",
    "print()\n",
    "ll.search_at_Index(4)\n",
    "ll.search_by_Value(100)\n",
    "print()\n",
    "ll.update_by_value(35, 37)\n",
    "ll.update_by_index(3, 42)\n",
    "ll.print_LL()\n",
    "            "
   ]
  },
  {
   "cell_type": "code",
   "execution_count": null,
   "metadata": {},
   "outputs": [],
   "source": []
  },
  {
   "cell_type": "code",
   "execution_count": null,
   "metadata": {},
   "outputs": [],
   "source": []
  },
  {
   "cell_type": "code",
   "execution_count": 39,
   "metadata": {},
   "outputs": [
    {
     "data": {
      "text/plain": [
       "6"
      ]
     },
     "execution_count": 39,
     "metadata": {},
     "output_type": "execute_result"
    }
   ],
   "source": [
    "ll.length_LL()"
   ]
  },
  {
   "cell_type": "markdown",
   "metadata": {},
   "source": []
  }
 ],
 "metadata": {
  "kernelspec": {
   "display_name": "base",
   "language": "python",
   "name": "python3"
  },
  "language_info": {
   "codemirror_mode": {
    "name": "ipython",
    "version": 3
   },
   "file_extension": ".py",
   "mimetype": "text/x-python",
   "name": "python",
   "nbconvert_exporter": "python",
   "pygments_lexer": "ipython3",
   "version": "3.12.3"
  }
 },
 "nbformat": 4,
 "nbformat_minor": 2
}
