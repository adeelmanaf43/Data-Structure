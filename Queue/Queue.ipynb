{
  "nbformat": 4,
  "nbformat_minor": 0,
  "metadata": {
    "colab": {
      "provenance": []
    },
    "kernelspec": {
      "name": "python3",
      "display_name": "Python 3"
    },
    "language_info": {
      "name": "python"
    }
  },
  "cells": [
    {
      "cell_type": "markdown",
      "source": [
        "# Introduction to Queue\n",
        "\n",
        "Queue is a Queue\n",
        "\n",
        "Linear Data Structure\n",
        "\n",
        "The first item will come first and last item will come last\n",
        "\n",
        "Examples: People visiting bank, Toll Palaza\n",
        "\n",
        "Queue is a FIFO -> First in First Out\n",
        "\n",
        "### Real World Examples\n",
        "- Printer Jobs\n",
        "- Customer Support\n",
        "- Elevator Request\n",
        "- Task Scheduling\n",
        "\n",
        "### Industry Example\n",
        "- Job Scheduling\n",
        "- Network Traffic\n",
        "- Messaging Services"
      ],
      "metadata": {
        "id": "qyWPznImuVyl"
      }
    },
    {
      "cell_type": "markdown",
      "source": [
        "# Queue Implementation and Operations\n",
        "\n",
        "Queue is an abstract data type. It can be implemented using a list or a link list.\n",
        "\n",
        "### Operations in Queue\n",
        "\n",
        "1. enqueue() -> To add an element into our queue\n",
        "2. dequeue() -> To remove an element from queue\n",
        "3. size() -> Number of elements in our queue\n",
        "4. is_empty() -> To check if queue is empty or not.\n",
        "5. Front() -> Return the data for Front/Start element (oldest element)\n",
        "\n"
      ],
      "metadata": {
        "id": "ctJwNnu3vzew"
      }
    },
    {
      "cell_type": "markdown",
      "source": [
        "# Queue Implementation: Using in-built List\n",
        "\n",
        "1. Enqueue -> l1.append()\n",
        "2. Front ->  l1[0]\n",
        "3. dequeue -> l1.pop(0)\n",
        "4. size -> len(queue)\n",
        "5. is_empty() -> return size == 0"
      ],
      "metadata": {
        "id": "N3E2BGAjwii-"
      }
    },
    {
      "cell_type": "code",
      "execution_count": null,
      "metadata": {
        "colab": {
          "base_uri": "https://localhost:8080/"
        },
        "id": "PgplM9KuuRWG",
        "outputId": "58048263-9836-4e15-eab4-6b2e1eefcd4d"
      },
      "outputs": [
        {
          "output_type": "stream",
          "name": "stdout",
          "text": [
            "3\n",
            "False\n",
            "10\n",
            "10\n",
            "20\n",
            "30\n"
          ]
        }
      ],
      "source": [
        "class QueueUsingList:\n",
        "    def __init__(self):\n",
        "        self.__queue = []\n",
        "\n",
        "    def size(self):\n",
        "        return len(self.__queue)\n",
        "\n",
        "    def is_empty(self):\n",
        "        return self.size() == 0\n",
        "\n",
        "    def enqueue(self, data):\n",
        "        self.__queue.append(data)\n",
        "        return f\"{data} is added into the list\"\n",
        "\n",
        "    def front(self):\n",
        "        if self.size() == 0:\n",
        "            return \"Queue is Empty\"\n",
        "        return self.__queue[0]\n",
        "\n",
        "\n",
        "    def dequeue(self):\n",
        "        if self.size() == 0:\n",
        "            return \"Queue is Empty\"\n",
        "        return self.__queue.pop(0)\n",
        "\n",
        "myQueue = QueueUsingList()\n",
        "myQueue.enqueue(10)\n",
        "myQueue.enqueue(20)\n",
        "myQueue.enqueue(30) #[10, 20, 30]\n",
        "print(myQueue.size()) # 3\n",
        "print(myQueue.is_empty()) # False\n",
        "print(myQueue.front()) # 10\n",
        "print(myQueue.dequeue()) # 10\n",
        "print(myQueue.dequeue()) # 20\n",
        "print(myQueue.front()) # 30\n"
      ]
    },
    {
      "cell_type": "markdown",
      "source": [
        "# Queue Using Linked List\n",
        "1. enqueue(): possible in O(1), we have to maintain a tail\n",
        "2. front(): head.next\n",
        "3. dequeue(): head = head.next O(1)\n",
        "4. size: Maintain len variable\n",
        "5. is_empty(): return size == 0"
      ],
      "metadata": {
        "id": "nlnlo6hUzBfw"
      }
    },
    {
      "cell_type": "code",
      "source": [
        "class ListNode:\n",
        "    def __init__(self, data):\n",
        "        self.data = data\n",
        "        self.next = None\n",
        "\n",
        "class QueueUsingLinkedList:\n",
        "    def __init__(self):\n",
        "        self.head = None\n",
        "        self.tail = None\n",
        "        self.len = 0\n",
        "\n",
        "    def enqueue(self, data):\n",
        "        newNode = ListNode(data)\n",
        "        self.len += 1\n",
        "        if self.head is None:\n",
        "            self.head = newNode\n",
        "            self.tail = newNode\n",
        "        else:\n",
        "            self.tail.next = newNode\n",
        "            self.tail = newNode\n",
        "        return f\"Item {data} is added in Queue\"\n",
        "\n",
        "\n",
        "    def is_empty(self):\n",
        "        return self.len == 0\n",
        "\n",
        "    def size(self):\n",
        "        return self.len\n",
        "    def front(self):\n",
        "        if self.is_empty():\n",
        "            return \"Queue is Empty\"\n",
        "        return self.head.data\n",
        "\n",
        "    def dequeue(self):\n",
        "        if self.is_empty():\n",
        "            return \"Queue is Empty\"\n",
        "        self.len -= 1\n",
        "        dataAtFirst = self.head.data\n",
        "        self.head = self.head.next\n",
        "        if self.head is None:\n",
        "            self.tail = None\n",
        "        return dataAtFirst\n",
        "\n",
        "Q = QueueUsingLinkedList()\n",
        "print(Q.size())\n",
        "print(Q.enqueue(10))\n",
        "print(Q.enqueue(20))\n",
        "print(Q.enqueue(30))\n",
        "print(Q.enqueue(40))\n",
        "print(Q.front())\n",
        "print(Q.size())\n",
        "print(Q.is_empty())\n",
        "print(Q.dequeue())\n",
        "print(Q.dequeue())\n",
        "print(Q.front())\n",
        "\n"
      ],
      "metadata": {
        "colab": {
          "base_uri": "https://localhost:8080/"
        },
        "id": "1gZNd7V-y01O",
        "outputId": "a5be326f-2d17-4da3-b257-6f07beaf3f54"
      },
      "execution_count": null,
      "outputs": [
        {
          "output_type": "stream",
          "name": "stdout",
          "text": [
            "0\n",
            "Item 10 is added in Queue\n",
            "Item 20 is added in Queue\n",
            "Item 30 is added in Queue\n",
            "Item 40 is added in Queue\n",
            "10\n",
            "4\n",
            "False\n",
            "10\n",
            "20\n",
            "30\n"
          ]
        }
      ]
    },
    {
      "cell_type": "markdown",
      "source": [
        "# Types of Queues\n",
        "1. Simple Queue (We have in(rear) and out(front). This queue has a single entry and single exit point.\n",
        "2. Circular Queue\n",
        "3. Priority Queue (Each and every element has some priority attached with it.\n",
        "4. Double Ended Queue -> DeQueue (You can enter and exit from any sides)"
      ],
      "metadata": {
        "id": "p-4uXyNr3buT"
      }
    },
    {
      "cell_type": "code",
      "source": [
        "from collections import dequeue"
      ],
      "metadata": {
        "id": "21RM6ozT1poH"
      },
      "execution_count": null,
      "outputs": []
    }
  ]
}