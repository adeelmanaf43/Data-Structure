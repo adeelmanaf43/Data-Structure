{
  "nbformat": 4,
  "nbformat_minor": 0,
  "metadata": {
    "colab": {
      "provenance": []
    },
    "kernelspec": {
      "name": "python3",
      "display_name": "Python 3"
    },
    "language_info": {
      "name": "python"
    }
  },
  "cells": [
    {
      "cell_type": "markdown",
      "source": [
        "# Next Greater Element"
      ],
      "metadata": {
        "id": "OEZ8oZIWTW2d"
      }
    },
    {
      "cell_type": "code",
      "source": [
        "class ListNode:\n",
        "    def __init__(self, data):\n",
        "        self.data = data\n",
        "        self.next = None\n",
        "class Stack:\n",
        "    def __init__(self):\n",
        "        self.head = None\n",
        "        self.size = 0\n",
        "\n",
        "    def push(self, data):\n",
        "        newNode = ListNode(data)\n",
        "        self.size += 1\n",
        "        if not self.head:\n",
        "            self.head = newNode\n",
        "            return\n",
        "        newNode.next = self.head\n",
        "        self.head = newNode\n",
        "        return\n",
        "\n",
        "    def pop(self):\n",
        "        if self.size == 0:\n",
        "            return\n",
        "        dataAtTop = self.head.data\n",
        "        self.head = self.head.next\n",
        "        self.size -=1\n",
        "        return dataAtTop\n",
        "    def is_empty(self):\n",
        "        return self.size == 0\n"
      ],
      "metadata": {
        "id": "alGA1U_u7RWi"
      },
      "execution_count": null,
      "outputs": []
    },
    {
      "cell_type": "code",
      "source": [
        "def next_greater_element(a, n):\n",
        "    # TODO: Implement this function\n",
        "    stack = Stack()\n",
        "    for ele in a:\n",
        "        stack.push(ele)\n",
        "    new_list = [-1]\n",
        "    curr_max = stack.pop()\n",
        "    check_list = [curr_max]\n",
        "    for i in range(n-1):\n",
        "        first_ele = stack.pop()\n",
        "        check_list.insert(0, first_ele)\n",
        "        for ele in check_list:\n",
        "            if ele > first_ele:\n",
        "                new_list.insert(0, ele)\n",
        "                break\n",
        "        else:\n",
        "            new_list.insert(0, -1)\n",
        "    return new_list\n",
        "s = next_greater_element([4, 5, 2, 25], 4)\n",
        "print(s)"
      ],
      "metadata": {
        "colab": {
          "base_uri": "https://localhost:8080/"
        },
        "id": "bt0CpUs8Gya9",
        "outputId": "3452c00f-e290-4308-9269-39ecdc034b50"
      },
      "execution_count": null,
      "outputs": [
        {
          "output_type": "stream",
          "name": "stdout",
          "text": [
            "[5, 25, 25, -1]\n"
          ]
        }
      ]
    },
    {
      "cell_type": "markdown",
      "source": [
        "# Valid Parenthesis"
      ],
      "metadata": {
        "id": "gE9NL8LTTfrB"
      }
    },
    {
      "cell_type": "code",
      "source": [
        "def isValid(s):\n",
        "    matching = {\")\":\"(\", \"}\":\"{\", \"]\":\"[\"}\n",
        "    stack = Stack()\n",
        "    for char in s:\n",
        "        if char in \"([{\":\n",
        "            stack.push(char)\n",
        "        elif char in \")]}\":\n",
        "            if stack.is_empty():\n",
        "                return False\n",
        "            top = stack.pop()\n",
        "            if matching[char] != top:\n",
        "                return False\n",
        "    return stack.is_empty()\n",
        "isValid(\")(\")\n"
      ],
      "metadata": {
        "colab": {
          "base_uri": "https://localhost:8080/"
        },
        "id": "08Ykj2COThRx",
        "outputId": "41d69d43-6271-4736-96a3-aba40092a81b"
      },
      "execution_count": null,
      "outputs": [
        {
          "output_type": "execute_result",
          "data": {
            "text/plain": [
              "False"
            ]
          },
          "metadata": {},
          "execution_count": 3
        }
      ]
    },
    {
      "cell_type": "code",
      "source": [
        "### More Optimized Code\n",
        "def isValid(s):\n",
        "    if len(s)%2 == 1:\n",
        "        return False\n",
        "    matching = {\")\":\"(\", \"}\":\"{\", \"]\":\"[\"}\n",
        "    stack = []\n",
        "    for char in s:\n",
        "        if char in matching.values():\n",
        "            stack.append(char)\n",
        "        elif char in matching:\n",
        "            if not stack or stack.pop() != matching[char]:\n",
        "                return False\n",
        "    return not stack\n"
      ],
      "metadata": {
        "id": "YBIHUEjmUQrF"
      },
      "execution_count": null,
      "outputs": []
    },
    {
      "cell_type": "markdown",
      "source": [
        "# Remove Duplicates"
      ],
      "metadata": {
        "id": "L7PUNYhxd3V1"
      }
    },
    {
      "cell_type": "code",
      "source": [
        "my_str = \"azxxzy\"\n",
        "def removeDuplicates(s):\n",
        "    stack = []\n",
        "    stack.append(my_str[0])\n",
        "    for char in s[1:]:\n",
        "        if not stack or stack[-1] != char:\n",
        "            stack.append(char)\n",
        "        else:\n",
        "            stack.pop()\n",
        "    return ''.join(stack)\n",
        "removeDuplicates(my_str)"
      ],
      "metadata": {
        "colab": {
          "base_uri": "https://localhost:8080/"
        },
        "id": "eWhM6f8md5Hh",
        "outputId": "eccd0558-db89-43bc-a9f9-695ee7a0e4cb"
      },
      "execution_count": null,
      "outputs": [
        {
          "output_type": "execute_result",
          "data": {
            "text/plain": [
              "['a', 'y']"
            ]
          },
          "metadata": {},
          "execution_count": 60
        }
      ]
    },
    {
      "cell_type": "markdown",
      "source": [
        "# Reverse Array Using Stack"
      ],
      "metadata": {
        "id": "lfy1_WbG_xNY"
      }
    },
    {
      "cell_type": "code",
      "source": [
        "def reverse_array_using_stack(arr):\n",
        "    stack = []\n",
        "    for ele in arr:\n",
        "        stack.append(ele)\n",
        "    new_list = []\n",
        "    while stack:\n",
        "        new_list.append(stack.pop())\n",
        "    return new_list\n",
        "reverse_array_using_stack([1,2,3,4,5])"
      ],
      "metadata": {
        "id": "GLt6RPa1eMdf",
        "colab": {
          "base_uri": "https://localhost:8080/"
        },
        "outputId": "83958a30-5b99-481b-dd5d-28c925c135e7"
      },
      "execution_count": null,
      "outputs": [
        {
          "output_type": "execute_result",
          "data": {
            "text/plain": [
              "[5, 4, 3, 2, 1]"
            ]
          },
          "metadata": {},
          "execution_count": 1
        }
      ]
    },
    {
      "cell_type": "markdown",
      "source": [
        "# Find Next Smaller Element"
      ],
      "metadata": {
        "id": "EPG6-vXRBSoR"
      }
    },
    {
      "cell_type": "code",
      "source": [
        "#a = [4, 5, 2, 10, 8]\n",
        "def next_smaller_element(arr):\n",
        "    result = [-1]\n",
        "    curr_element = arr.pop()\n",
        "    check_list = [curr_element]\n",
        "    while arr:\n",
        "        top_element = arr.pop()\n",
        "        check_list.insert(0, top_element)\n",
        "        for ele in check_list:\n",
        "            if ele < top_element:\n",
        "                result.insert(0, ele)\n",
        "                break\n",
        "        else:\n",
        "            result.insert(0, -1)\n",
        "    return result\n",
        "#print(next_smaller_element(a))\n",
        "print(next_smaller_element([10,20,30,40]))\n",
        "#print(next_smaller_element([1, 3, 2, 4]))"
      ],
      "metadata": {
        "colab": {
          "base_uri": "https://localhost:8080/"
        },
        "id": "dVte1iRjAEjj",
        "outputId": "4b8b0fc1-596d-44a1-a2ea-e19e24654e5b"
      },
      "execution_count": null,
      "outputs": [
        {
          "output_type": "stream",
          "name": "stdout",
          "text": [
            "a\n",
            "a\n",
            "a\n",
            "[-1, -1, -1, -1]\n"
          ]
        }
      ]
    },
    {
      "cell_type": "markdown",
      "source": [
        "# Postfix Expression in a Stack"
      ],
      "metadata": {
        "id": "TCg9nsmQJC39"
      }
    },
    {
      "cell_type": "code",
      "source": [
        "a = \"23\"\n",
        "def evaluate_postfix(expression):\n",
        "    stack = []\n",
        "    my_res = 0\n",
        "    for ele in expression:\n",
        "        if ele.isdigit():\n",
        "            stack.append(ele)\n",
        "        elif ele == \"/\":\n",
        "            first_element = stack.pop()\n",
        "            second_element = stack.pop()\n",
        "            my_res = int(second_element)//int(first_element)\n",
        "            stack.append(my_res)\n",
        "        elif ele == \"+\":\n",
        "            first_element = stack.pop()\n",
        "            second_element = stack.pop()\n",
        "            my_res = int(second_element) + int(first_element)\n",
        "            stack.append(my_res)\n",
        "        elif ele == \"-\":\n",
        "            first_element = stack.pop()\n",
        "            second_element = stack.pop()\n",
        "            stack.append(my_res)\n",
        "        elif ele == \"*\":\n",
        "            first_element = stack.pop()\n",
        "            second_element = stack.pop()\n",
        "            stack.append(my_res)\n",
        "    return stack.pop()\n",
        "result = evaluate_postfix([\"4\", \"13\", \"5\", \"/\", \"+\"])\n"
      ],
      "metadata": {
        "id": "SwqSlE0KCBGa"
      },
      "execution_count": null,
      "outputs": []
    },
    {
      "cell_type": "code",
      "source": [
        "result"
      ],
      "metadata": {
        "id": "2N-EoktyKZZv",
        "colab": {
          "base_uri": "https://localhost:8080/"
        },
        "outputId": "387ba68b-bf67-4ebd-e512-4b6216bd972e"
      },
      "execution_count": null,
      "outputs": [
        {
          "output_type": "execute_result",
          "data": {
            "text/plain": [
              "6"
            ]
          },
          "metadata": {},
          "execution_count": 13
        }
      ]
    },
    {
      "cell_type": "code",
      "source": [
        "int(\"-10\")"
      ],
      "metadata": {
        "colab": {
          "base_uri": "https://localhost:8080/"
        },
        "id": "n_xeG_7OqSOf",
        "outputId": "3968ff21-85bb-45a9-f1ab-104b6db40f96"
      },
      "execution_count": null,
      "outputs": [
        {
          "output_type": "execute_result",
          "data": {
            "text/plain": [
              "-10"
            ]
          },
          "metadata": {},
          "execution_count": 22
        }
      ]
    },
    {
      "cell_type": "code",
      "source": [
        "def evaluate_postfix(expression):\n",
        "    \"\"\"\n",
        "    Function to evaluate a postfix expression.\n",
        "    :param expression: List[str] -> A list of strings representing the postfix expression\n",
        "    :return: int -> The result of the postfix evaluation\n",
        "    \"\"\"\n",
        "    # TODO: Implement this function\n",
        "    stack = []\n",
        "    my_res = 0\n",
        "    for ele in expression:\n",
        "        if ele.isdigit() or (ele[0] == \"-\" and ele[1:].isdigit()):\n",
        "            print(\"Element added to stack\", int(ele))\n",
        "            stack.append(int(ele))\n",
        "        else:\n",
        "            first_ele = stack.pop()\n",
        "            second_ele = stack.pop()\n",
        "            if ele == \"+\":\n",
        "                stack.append(first_ele + second_ele)\n",
        "            elif ele == \"-\":\n",
        "                stack.append(second_ele - first_ele)\n",
        "            elif ele == \"/\":\n",
        "                stack.append(int(second_ele / first_ele))\n",
        "            elif ele == \"*\":\n",
        "                stack.append( first_ele * second_ele)\n",
        "    return stack.pop()\n",
        "evaluate_postfix([\"10\", \"6\", \"9\", \"3\", \"+\", \"-11\", \"*\", \"/\", \"*\", \"17\", \"+\", \"5\", \"+\"])\n"
      ],
      "metadata": {
        "colab": {
          "base_uri": "https://localhost:8080/"
        },
        "id": "ouV3dsv4iDvN",
        "outputId": "bd306c7e-a1ce-4799-ecee-21b559f4f1a8"
      },
      "execution_count": null,
      "outputs": [
        {
          "output_type": "stream",
          "name": "stdout",
          "text": [
            "Element added to stack 10\n",
            "Element added to stack 6\n",
            "Element added to stack 9\n",
            "Element added to stack 3\n",
            "Element added to stack -11\n",
            "Element added to stack 17\n",
            "Element added to stack 5\n"
          ]
        },
        {
          "output_type": "execute_result",
          "data": {
            "text/plain": [
              "22"
            ]
          },
          "metadata": {},
          "execution_count": 31
        }
      ]
    },
    {
      "cell_type": "code",
      "source": [
        "int(6 / - 132)"
      ],
      "metadata": {
        "colab": {
          "base_uri": "https://localhost:8080/"
        },
        "id": "rZa1-Xp-iFvx",
        "outputId": "3be21d15-c34e-4813-9b29-4a8398987f92"
      },
      "execution_count": null,
      "outputs": [
        {
          "output_type": "execute_result",
          "data": {
            "text/plain": [
              "0"
            ]
          },
          "metadata": {},
          "execution_count": 33
        }
      ]
    },
    {
      "cell_type": "markdown",
      "source": [
        "# Winner of Circular Game"
      ],
      "metadata": {
        "id": "ibXUIpTsurva"
      }
    },
    {
      "cell_type": "code",
      "source": [
        "from collections import deque\n",
        "d = deque()"
      ],
      "metadata": {
        "id": "dMGIaUVVtkMe"
      },
      "execution_count": null,
      "outputs": []
    },
    {
      "cell_type": "code",
      "source": [
        "d.append(1)\n",
        "d.append(2)\n",
        "d.append(3)\n",
        "d.append(4)"
      ],
      "metadata": {
        "id": "cKZnq0L_vzOX"
      },
      "execution_count": null,
      "outputs": []
    },
    {
      "cell_type": "code",
      "source": [
        "len(d)"
      ],
      "metadata": {
        "colab": {
          "base_uri": "https://localhost:8080/"
        },
        "id": "iHE8cHJuv0iZ",
        "outputId": "89735a67-dc1b-49ad-a56a-7c41e5a6ac95"
      },
      "execution_count": null,
      "outputs": [
        {
          "output_type": "execute_result",
          "data": {
            "text/plain": [
              "4"
            ]
          },
          "metadata": {},
          "execution_count": 40
        }
      ]
    },
    {
      "cell_type": "code",
      "source": [],
      "metadata": {
        "id": "NfO7qflMyc_p"
      },
      "execution_count": null,
      "outputs": []
    },
    {
      "cell_type": "code",
      "source": [
        "from collections import deque\n",
        "def find_winner(n, k):\n",
        "    queue = deque(range(1, n+1))\n",
        "    while len(queue) > 1:\n",
        "        queue.rotate(-(k-1))\n",
        "        print(\"Rotated queue\", queue)\n",
        "        queue.popleft()\n",
        "    return queue[0]\n",
        "find_winner(5, 3)\n"
      ],
      "metadata": {
        "colab": {
          "base_uri": "https://localhost:8080/"
        },
        "id": "e53qAy1Lv1S8",
        "outputId": "7fd921d8-3b6a-4ef0-fb8b-90b355f5e3f1"
      },
      "execution_count": null,
      "outputs": [
        {
          "output_type": "stream",
          "name": "stdout",
          "text": [
            "Rotated queue deque([3, 4, 5, 1, 2])\n",
            "Rotated queue deque([1, 2, 4, 5])\n",
            "Rotated queue deque([5, 2, 4])\n",
            "Rotated queue deque([2, 4])\n"
          ]
        },
        {
          "output_type": "execute_result",
          "data": {
            "text/plain": [
              "4"
            ]
          },
          "metadata": {},
          "execution_count": 46
        }
      ]
    }
  ]
}