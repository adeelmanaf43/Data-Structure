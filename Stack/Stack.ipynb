{
  "nbformat": 4,
  "nbformat_minor": 0,
  "metadata": {
    "colab": {
      "provenance": []
    },
    "kernelspec": {
      "name": "python3",
      "display_name": "Python 3"
    },
    "language_info": {
      "name": "python"
    }
  },
  "cells": [
    {
      "cell_type": "markdown",
      "source": [
        "Q. Why to study so many data structures?\n",
        "\n",
        "Choice of data structure => efficient problem solving\n",
        "\n",
        "\n",
        "### Stack Data Structures\n",
        "\n",
        "Example of Stack\n",
        "1. Stack of Plates\n",
        "2. Stack of Chairs\n",
        "3. Stack of books\n",
        "\n"
      ],
      "metadata": {
        "id": "tdW1aRXRSKS3"
      }
    },
    {
      "cell_type": "markdown",
      "source": [
        "# Stack - LIFO Principle\n",
        "\n",
        "Stack is a LIFO(FILO): Element which is put up last will be the first one out e.g plate 0\n",
        "\n",
        "### Abstract Data Type:\n",
        "Abstract data type is a type for objects whose behavior is defined by set of operations.\n",
        "\n",
        "As abstract, no knowledge about how they are performed.\n",
        "\n",
        "Internally we will use Array/List or even Linked List\n",
        "\n",
        "### Industry Examples of Stack\n",
        "\n",
        "- undo/redo operation\n",
        "\n",
        "- call stack in programming\n",
        "\n",
        "- matching html tags / bracket\n",
        "\n"
      ],
      "metadata": {
        "id": "3Elox9ZoSbsi"
      }
    },
    {
      "cell_type": "markdown",
      "source": [
        "# Operations on Stack\n",
        "\n",
        "1. Top/peek -> see the top element\n",
        "2. Pop -> removing the top element\n",
        "3. Push -> insert an element on top\n",
        "4. Size -> returns number of elements in our stack\n",
        "5. Empty -> if our stack is empty or not\n",
        "\n",
        "We will make sure that these 5 operations are optimized.\n"
      ],
      "metadata": {
        "id": "OeGBbBlFTiA6"
      }
    },
    {
      "cell_type": "markdown",
      "source": [
        "# Stack Implementation using List"
      ],
      "metadata": {
        "id": "7-bz7y0VUe7l"
      }
    },
    {
      "cell_type": "code",
      "source": [
        "class StackUsingList:\n",
        "  def __init__(self):\n",
        "    self.__stack = []\n",
        "\n",
        "  def push(self, data):\n",
        "    return self.__stack.append(data)\n",
        "\n",
        "  def is_empty(self):\n",
        "    return len(self.__stack) == 0\n",
        "\n",
        "\n",
        "  def pop(self):\n",
        "    if self.is_empty():\n",
        "      print(\"Stack is Empty\")\n",
        "      return None\n",
        "    return self.__stack.pop()\n",
        "\n",
        "  def size(self):\n",
        "    return len(self.__stack)\n",
        "\n",
        "  def top(self):\n",
        "    if self.is_empty():\n",
        "      print(\"Stack is Empty\")\n",
        "      return\n",
        "    return self.__stack[-1]\n",
        "stack = StackUsingList()\n",
        "print(stack.is_empty())\n",
        "stack.push(1)\n",
        "stack.push(2)\n",
        "stack.push(3)\n",
        "stack.push(4)\n",
        "print(stack.is_empty())\n",
        "print(stack.pop())\n",
        "print(stack.pop())\n",
        "print(stack.size())\n",
        "print(stack.top())\n"
      ],
      "metadata": {
        "colab": {
          "base_uri": "https://localhost:8080/"
        },
        "id": "cAVdtypNXsfa",
        "outputId": "48354b86-d619-4a31-9618-7272faf18552"
      },
      "execution_count": null,
      "outputs": [
        {
          "output_type": "stream",
          "name": "stdout",
          "text": [
            "True\n",
            "False\n",
            "4\n",
            "3\n",
            "2\n",
            "2\n"
          ]
        }
      ]
    },
    {
      "cell_type": "code",
      "execution_count": null,
      "metadata": {
        "colab": {
          "base_uri": "https://localhost:8080/"
        },
        "id": "aCDQNaqxSJTr",
        "outputId": "3f784088-eb2b-4a62-fc66-cc6e397ff2b0"
      },
      "outputs": [
        {
          "output_type": "stream",
          "name": "stdout",
          "text": [
            "True\n",
            "Pushed 1 into Stack\n",
            "Pushed 2 into Stack\n",
            "Pushed 3 into Stack\n",
            "Pushed 4 into Stack\n",
            "False\n",
            "4\n",
            "3\n",
            "2\n",
            "2\n"
          ]
        }
      ],
      "source": [
        "class StackUsingList:\n",
        "  def __init__(self):\n",
        "    self.__stack = [] # very important to make it private\n",
        "\n",
        "  def push(self, data):\n",
        "    self.__stack.append(data)\n",
        "    print(f\"Pushed {data} into Stack\")\n",
        "\n",
        "  def size(self):\n",
        "    return len(self.__stack)\n",
        "\n",
        "  def is_empty(self):\n",
        "    return len(self.__stack) == 0\n",
        "\n",
        "  def top(self):\n",
        "    if self.is_empty():\n",
        "      print(\"Stack is empty\")\n",
        "      return\n",
        "    return self.__stack[-1]\n",
        "\n",
        "  def pop(self):\n",
        "    if self.is_empty():\n",
        "      print(\"The Stack is empty\")\n",
        "      return\n",
        "    return self.__stack.pop()\n",
        "\n",
        "\n",
        "stack = StackUsingList()\n",
        "print(stack.is_empty())\n",
        "stack.push(1)\n",
        "stack.push(2)\n",
        "stack.push(3)\n",
        "stack.push(4)\n",
        "print(stack.is_empty())\n",
        "print(stack.pop())\n",
        "print(stack.pop())\n",
        "print(stack.size())\n",
        "print(stack.top())\n"
      ]
    },
    {
      "cell_type": "markdown",
      "source": [
        "# Stack Using Linked List\n",
        "\n",
        "1. push() (It will be implented in O(n^2) complexity. let us maintain a tail variable -> O(1)\n",
        "2. size() O(n) in complexity. Maintain a length or size variable in linked list\n",
        "3. is_empty()\n",
        "4. peek()/top()\n",
        "5. Pop() O(n) Use a temp to travel\n",
        "\n",
        "- Due to pop() function we cannot do it in better complexity than O(n), which is doable. But I would like to reduce it as well if implemented stack using LL."
      ],
      "metadata": {
        "id": "YrC3vFQGli69"
      }
    },
    {
      "cell_type": "markdown",
      "source": [
        "# Stack Using Linked List: Optimized\n",
        "When we insert or delete from LL head, complexity is O(1)\n",
        "\n",
        "1. push() -> Insert at start\n",
        "2. pop() -> We can just move head to next element. O(1)\n",
        "3. top() / peek() -> head.data\n",
        "4. size() -> Maintain size/length variable\n",
        "5. is_empty() -> check is head is empty or not"
      ],
      "metadata": {
        "id": "67FHUUIdnpkK"
      }
    },
    {
      "cell_type": "markdown",
      "source": [
        "# Stack Using LL Implementation"
      ],
      "metadata": {
        "id": "G7nOjRYAovFS"
      }
    },
    {
      "cell_type": "code",
      "source": [
        "class ListNode:\n",
        "    def __init__(self, data):\n",
        "        self.data = data\n",
        "        self.next = None\n",
        "class StackUsingLinkedList:\n",
        "    def __init__(self):\n",
        "        self.head = None\n",
        "        self.size = 0\n",
        "\n",
        "    def push(self, data):\n",
        "        newNode = ListNode(data)\n",
        "        self.size += 1 # Very Important to maintain size\n",
        "        if self.head is None:\n",
        "            self.head = newNode\n",
        "            return f\"Added {data} to the stack\"\n",
        "\n",
        "        newNode.next = self.head\n",
        "        self.head = newNode\n",
        "        return f\"Added {data} to the stack\"\n",
        "    def top(self):\n",
        "        if not self.head or self.size == 0:\n",
        "            return \"Stack is Empty\"\n",
        "        return self.head.data\n",
        "\n",
        "    def pop(self):\n",
        "        if not self.head or self.size == 0:\n",
        "            return \"Stack is Empty\"\n",
        "        dataAtTop = self.head.data\n",
        "        self.head = self.head.next\n",
        "        self.size -=1\n",
        "        return dataAtTop\n",
        "\n",
        "\n",
        "    def is_empty(self):\n",
        "        return self.size == 0\n",
        "\n",
        "    def stack_size(self):\n",
        "        return self.size\n",
        "\n",
        "stack = StackUsingLinkedList()\n",
        "print(stack.is_empty())\n",
        "print(stack.push(10))\n",
        "print(stack.push(20))\n",
        "print(stack.push(30))\n",
        "print(stack.push(40))\n",
        "print(stack.is_empty())\n",
        "print(stack.pop())\n",
        "print(stack.pop())\n",
        "print(stack.stack_size())\n",
        "print(stack.top())\n",
        "\n",
        "\n"
      ],
      "metadata": {
        "colab": {
          "base_uri": "https://localhost:8080/"
        },
        "id": "SDxBWvcPV4m6",
        "outputId": "fde41dbe-d3c9-46b9-af3b-489685235edc"
      },
      "execution_count": null,
      "outputs": [
        {
          "output_type": "stream",
          "name": "stdout",
          "text": [
            "True\n",
            "Added 10 to the stack\n",
            "Added 20 to the stack\n",
            "Added 30 to the stack\n",
            "Added 40 to the stack\n",
            "False\n",
            "40\n",
            "30\n",
            "2\n",
            "20\n"
          ]
        }
      ]
    },
    {
      "cell_type": "code",
      "source": [
        "class ListNode:\n",
        "    def __init__(self, data):\n",
        "        self.data = data\n",
        "        self.next = None\n",
        "\n",
        "class StackUsingLinkList:\n",
        "    def __init__(self):\n",
        "        self.stack = None\n",
        "        self.len = 0\n",
        "\n",
        "    def push(self, data):\n",
        "        newNode = ListNode(data)\n",
        "        self.len += 1\n",
        "        if not self.head:\n",
        "            self.head = newNode\n",
        "            return f\"Added {data} to the stack\"\n",
        "        newNode.next = self.head\n",
        "        self.head = newNode\n",
        "        return f\"Added {data} to the stack\"\n",
        "\n",
        "    def is_empty(self):\n",
        "        return self.size == 0\n",
        "\n",
        "    def size(self):\n",
        "        return self.len\n",
        "\n",
        "    def pop(self):\n",
        "        if not self.head:\n",
        "            return \"Stack is Empty\"\n",
        "        dataAtTop = self.head\n",
        "        self.size -=1\n",
        "        self.head = self.head.next\n",
        "        return dataAtTop\n",
        "    def top(self):\n",
        "        if not self.head or self.size == 0:\n",
        "            return \"Stack is Empty\"\n",
        "        return self.head.data\n",
        "stack = StackUsingLinkedList()\n",
        "print(stack.is_empty())\n",
        "print(stack.push(10))\n",
        "print(stack.push(20))\n",
        "print(stack.push(30))\n",
        "print(stack.push(40))\n",
        "print(stack.is_empty())\n",
        "print(stack.pop())\n",
        "print(stack.pop())\n",
        "print(stack.stack_size())\n",
        "print(stack.top())\n",
        "\n",
        "\n",
        "\n",
        "\n"
      ],
      "metadata": {
        "colab": {
          "base_uri": "https://localhost:8080/"
        },
        "id": "5uFXOAVJrJH8",
        "outputId": "10b93b91-f7cd-4956-ed72-28dca6952dd7"
      },
      "execution_count": null,
      "outputs": [
        {
          "output_type": "stream",
          "name": "stdout",
          "text": [
            "True\n",
            "Added 10 to the stack\n",
            "Added 20 to the stack\n",
            "Added 30 to the stack\n",
            "Added 40 to the stack\n",
            "False\n",
            "40\n",
            "30\n",
            "2\n",
            "20\n"
          ]
        }
      ]
    },
    {
      "cell_type": "code",
      "source": [],
      "metadata": {
        "id": "n9h_wkpzuHui"
      },
      "execution_count": null,
      "outputs": []
    }
  ]
}