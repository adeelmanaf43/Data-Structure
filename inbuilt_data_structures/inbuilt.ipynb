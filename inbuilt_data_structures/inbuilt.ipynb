{
 "cells": [
  {
   "cell_type": "markdown",
   "metadata": {},
   "source": [
    "### Sum of List Elements"
   ]
  },
  {
   "cell_type": "code",
   "execution_count": 2,
   "metadata": {},
   "outputs": [
    {
     "data": {
      "text/plain": [
       "18"
      ]
     },
     "execution_count": 2,
     "metadata": {},
     "output_type": "execute_result"
    }
   ],
   "source": [
    "def sum_list(numbers):\n",
    "    summ = 0\n",
    "    for num in numbers:\n",
    "        summ += num\n",
    "    return summ\n",
    "sum_list([10, -5, 7, 8, -2])"
   ]
  },
  {
   "cell_type": "markdown",
   "metadata": {},
   "source": [
    "### Largest element in a list"
   ]
  },
  {
   "cell_type": "code",
   "execution_count": 3,
   "metadata": {},
   "outputs": [
    {
     "name": "stdout",
     "output_type": "stream",
     "text": [
      "10\n",
      "-1\n"
     ]
    }
   ],
   "source": [
    "def find_largest(numbers):\n",
    "    largest_element = numbers[0]\n",
    "    for i in range(1, len(numbers)):\n",
    "        if numbers[i] > largest_element:\n",
    "            largest_element = numbers[i]\n",
    "    return largest_element\n",
    "print(find_largest([3, 8, 2, 10, 5]))\n",
    "print(find_largest([-5, -10, -2, -1, -7]))"
   ]
  },
  {
   "cell_type": "markdown",
   "metadata": {},
   "source": [
    "### Remove Duplicate in a List"
   ]
  },
  {
   "cell_type": "code",
   "execution_count": 5,
   "metadata": {},
   "outputs": [
    {
     "name": "stdout",
     "output_type": "stream",
     "text": [
      "[1, 2, 3, 4, 5]\n",
      "[4, 5, 6, 7]\n"
     ]
    }
   ],
   "source": [
    "def remove_duplicates(lst):\n",
    "    new_list = []\n",
    "    for ele in lst:\n",
    "        if ele not in new_list:\n",
    "            new_list.append(ele)\n",
    "    return new_list\n",
    "print(remove_duplicates([1, 2, 2, 3, 4, 4, 5]))\n",
    "print(remove_duplicates([4, 5, 5, 4, 6, 7]))"
   ]
  },
  {
   "cell_type": "markdown",
   "metadata": {},
   "source": [
    "### Check if all elements in a list are Unique"
   ]
  },
  {
   "cell_type": "code",
   "execution_count": 7,
   "metadata": {},
   "outputs": [
    {
     "name": "stdout",
     "output_type": "stream",
     "text": [
      "True\n",
      "False\n"
     ]
    }
   ],
   "source": [
    "def check_unique(lst):\n",
    "    for ele in lst:\n",
    "        if lst.count(ele) > 1:\n",
    "            return False\n",
    "    return True\n",
    "print(check_unique([1, 2, 3, 4, 5]))\n",
    "print(check_unique([1, 2, 3, 3, 4, 5]))"
   ]
  },
  {
   "cell_type": "markdown",
   "metadata": {},
   "source": [
    "### Program to Reverse a List"
   ]
  },
  {
   "cell_type": "code",
   "execution_count": 12,
   "metadata": {},
   "outputs": [
    {
     "data": {
      "text/plain": [
       "[8, 7, 6, 5, 4, 3, 2, 1]"
      ]
     },
     "execution_count": 12,
     "metadata": {},
     "output_type": "execute_result"
    }
   ],
   "source": [
    "def reverse_list(lst):\n",
    "    start = 0\n",
    "    end = len(lst) - 1\n",
    "    while start < end:\n",
    "        lst[start], lst[end]  = lst[end], lst[start]\n",
    "        start +=1\n",
    "        end -= 1\n",
    "    return lst\n",
    "reverse_list([1,2,3,4,5, 6, 7, 8])"
   ]
  },
  {
   "cell_type": "markdown",
   "metadata": {},
   "source": [
    "### Count Number of Odd and Even Elements in a List"
   ]
  },
  {
   "cell_type": "code",
   "execution_count": 13,
   "metadata": {},
   "outputs": [
    {
     "data": {
      "text/plain": [
       "(2, 3)"
      ]
     },
     "execution_count": 13,
     "metadata": {},
     "output_type": "execute_result"
    }
   ],
   "source": [
    "def count_even_odd(lst):\n",
    "    count_odd = 0\n",
    "    count_even = 0\n",
    "    for i in lst:\n",
    "        if i%2 == 0:\n",
    "            count_even +=1\n",
    "        else:\n",
    "            count_odd +=1\n",
    "    return (count_even, count_odd)\n",
    "count_even_odd([1, 2, 3, 4, 5])"
   ]
  },
  {
   "cell_type": "markdown",
   "metadata": {},
   "source": [
    "### Check if List is Subset of another List"
   ]
  },
  {
   "cell_type": "code",
   "execution_count": 17,
   "metadata": {},
   "outputs": [
    {
     "name": "stdout",
     "output_type": "stream",
     "text": [
      "False\n",
      "True\n"
     ]
    }
   ],
   "source": [
    "def is_subset(lst1, lst2):\n",
    "    for ele in lst1:\n",
    "        if ele not in lst2:\n",
    "            return False\n",
    "    return True\n",
    "lst1 = [1, 6]\n",
    "lst2 = [1, 2, 3, 4, 5]\n",
    "print(is_subset(lst1, lst2))\n",
    "lst1 = [1, 2, 3]\n",
    "lst2 = [1, 2, 3, 4, 5]\n",
    "print(is_subset(lst1, lst2))"
   ]
  },
  {
   "cell_type": "markdown",
   "metadata": {},
   "source": [
    "### Maximum difference between two consecutive elements in a list"
   ]
  },
  {
   "cell_type": "code",
   "execution_count": 19,
   "metadata": {},
   "outputs": [
    {
     "name": "stdout",
     "output_type": "stream",
     "text": [
      "7\n",
      "12\n"
     ]
    }
   ],
   "source": [
    "def max_consecutive_difference(lst):\n",
    "    if len(lst) == 0:\n",
    "        return 0\n",
    "    max_diff = abs(lst[0] - lst[1])\n",
    "    for i in range(2, len(lst)):\n",
    "        diff = abs(lst[i-1] - lst[i])\n",
    "        if diff > max_diff:\n",
    "            max_diff = diff\n",
    "    return max_diff\n",
    "print(max_consecutive_difference([1, 7, 3, 10, 5]))\n",
    "print(max_consecutive_difference([10, 11, 15, 3]))"
   ]
  },
  {
   "cell_type": "markdown",
   "metadata": {},
   "source": [
    "### Merge Two Sorted List"
   ]
  },
  {
   "cell_type": "code",
   "execution_count": 23,
   "metadata": {},
   "outputs": [
    {
     "name": "stdout",
     "output_type": "stream",
     "text": [
      "[1, 2, 3, 4, 5, 6]\n",
      "[1, 2, 3, 4, 5, 7, 8]\n"
     ]
    }
   ],
   "source": [
    "def merge_two_sorted_lists(list1, list2):\n",
    "    li = []\n",
    "    i = 0\n",
    "    j = 0\n",
    "    while i < len(list1) and j < len(list2):\n",
    "        if list1[i] < list2[j]:\n",
    "            li.append(list1[i])\n",
    "            i+=1\n",
    "        else:\n",
    "            li.append(list2[j])\n",
    "            j+=1\n",
    "    while i < len(list1):\n",
    "        li.append(list1[i])\n",
    "        i+=1\n",
    "    while j < len(list2):\n",
    "        li.append(list2[j])\n",
    "        j+=1\n",
    "    return li\n",
    "list1 = [1, 3, 5]\n",
    "list2 = [2, 4, 6]\n",
    "print(merge_two_sorted_lists(list1, list2))\n",
    "list1 = [1, 4, 7]\n",
    "list2 = [2, 3, 5, 8]\n",
    "print(merge_two_sorted_lists(list1, list2))"
   ]
  },
  {
   "cell_type": "markdown",
   "metadata": {},
   "source": [
    "### Rotate a List"
   ]
  },
  {
   "cell_type": "code",
   "execution_count": 25,
   "metadata": {},
   "outputs": [
    {
     "data": {
      "text/plain": [
       "[4, 5, 1, 2, 3]"
      ]
     },
     "execution_count": 25,
     "metadata": {},
     "output_type": "execute_result"
    }
   ],
   "source": [
    "def rotate_list(lst, k):\n",
    "    k = k % len(lst)\n",
    "    for _ in range(k):\n",
    "        last_ele = lst.pop()\n",
    "        lst.insert(0, last_ele)\n",
    "    return lst\n",
    "rotate_list([1,2,3,4,5], 2)"
   ]
  },
  {
   "cell_type": "markdown",
   "metadata": {},
   "source": [
    "### Merge Two Lists into a Dictionary"
   ]
  },
  {
   "cell_type": "code",
   "execution_count": 27,
   "metadata": {},
   "outputs": [
    {
     "data": {
      "text/plain": [
       "{'a': 1, 'b': 2, 'c': 3}"
      ]
     },
     "execution_count": 27,
     "metadata": {},
     "output_type": "execute_result"
    }
   ],
   "source": [
    "keys = ['a', 'b', 'c']\n",
    "values = [1, 2, 3]\n",
    "def merge_lists_to_dictionary(keys, values):\n",
    "    dic = {}\n",
    "    for i in range(len(keys)):\n",
    "        dic[keys[i]] = values[i]\n",
    "    return dic\n",
    "merge_lists_to_dictionary(keys, values)"
   ]
  },
  {
   "cell_type": "markdown",
   "metadata": {},
   "source": [
    "### Word Frequency in a Sentence"
   ]
  },
  {
   "cell_type": "code",
   "execution_count": 31,
   "metadata": {},
   "outputs": [
    {
     "data": {
      "text/plain": [
       "['the', 'quick', 'brown', 'fox', 'jumps', 'over', 'the', 'lazy', 'dog']"
      ]
     },
     "execution_count": 31,
     "metadata": {},
     "output_type": "execute_result"
    }
   ],
   "source": [
    "sent = \"the quick brown fox jumps over the lazy dog\"\n",
    "sent.split(\" \")"
   ]
  },
  {
   "cell_type": "code",
   "execution_count": 32,
   "metadata": {},
   "outputs": [
    {
     "data": {
      "text/plain": [
       "{'the': 2,\n",
       " 'quick': 1,\n",
       " 'brown': 1,\n",
       " 'fox': 1,\n",
       " 'jumps': 1,\n",
       " 'over': 1,\n",
       " 'lazy': 1,\n",
       " 'dog': 1}"
      ]
     },
     "execution_count": 32,
     "metadata": {},
     "output_type": "execute_result"
    }
   ],
   "source": [
    "sent = \"the quick brown fox jumps over the lazy dog\"\n",
    "def count_word_frequency(sent):\n",
    "    sent_list = sent.split(\" \")\n",
    "    dic_count = {}\n",
    "    for word in sent_list:\n",
    "        if word not in dic_count:\n",
    "            dic_count[word] = 1\n",
    "        else:\n",
    "            dic_count[word] += 1\n",
    "    return dic_count\n",
    "count_word_frequency(sent)"
   ]
  },
  {
   "cell_type": "markdown",
   "metadata": {},
   "source": [
    "### Palindromic Tuple"
   ]
  },
  {
   "cell_type": "code",
   "execution_count": 34,
   "metadata": {},
   "outputs": [
    {
     "data": {
      "text/plain": [
       "True"
      ]
     },
     "execution_count": 34,
     "metadata": {},
     "output_type": "execute_result"
    }
   ],
   "source": [
    "tup = ('a', 'b', 'c', 'b', 'a')\n",
    "def is_palindromic_tuple(tup):\n",
    "    if len(tup) <= 1:\n",
    "        return True\n",
    "    start = 0\n",
    "    end = len(tup) - 1\n",
    "    while start != end:\n",
    "        if tup[start] != tup[end]:\n",
    "            return False\n",
    "        else:\n",
    "            start +=1\n",
    "            end -= 1\n",
    "    return True\n",
    "is_palindromic_tuple(tup)"
   ]
  },
  {
   "cell_type": "markdown",
   "metadata": {},
   "source": [
    "### Merge Dictionaries with Common Keys"
   ]
  },
  {
   "cell_type": "code",
   "execution_count": 36,
   "metadata": {},
   "outputs": [
    {
     "data": {
      "text/plain": [
       "{'x': 70, 'y': 50, 'z': 90}"
      ]
     },
     "execution_count": 36,
     "metadata": {},
     "output_type": "execute_result"
    }
   ],
   "source": [
    "dicts = [{'x': 10, 'y': 20}, {'y': 30, 'z': 40}, {'z': 50, 'x': 60}]\n",
    "def merge_dicts_with_overlapping_keys(dicts):\n",
    "    new_dic = {}\n",
    "    for dic in dicts:\n",
    "        for key in dic:\n",
    "            if key not in new_dic:\n",
    "                new_dic[key] = dic[key]\n",
    "            else:\n",
    "                new_dic[key] += dic[key]\n",
    "    return new_dic\n",
    "merge_dicts_with_overlapping_keys(dicts)"
   ]
  },
  {
   "cell_type": "markdown",
   "metadata": {},
   "source": [
    "### Sum of Even N natural Numbers"
   ]
  },
  {
   "cell_type": "code",
   "execution_count": 40,
   "metadata": {},
   "outputs": [
    {
     "data": {
      "text/plain": [
       "110"
      ]
     },
     "execution_count": 40,
     "metadata": {},
     "output_type": "execute_result"
    }
   ],
   "source": [
    "def sum_of_even_n_numbers(n):\n",
    "    i = 0\n",
    "    summ = 0\n",
    "    while i < n:\n",
    "        for j in range(1,2*n+1):\n",
    "            if j%2 == 0:\n",
    "                summ+=j\n",
    "                i+=1\n",
    "    return summ\n",
    "sum_of_even_n_numbers(10)\n"
   ]
  },
  {
   "cell_type": "markdown",
   "metadata": {},
   "source": [
    "### Check for Even Numbers"
   ]
  },
  {
   "cell_type": "code",
   "execution_count": null,
   "metadata": {},
   "outputs": [],
   "source": [
    "def is_even(n):\n",
    "    return n%2 ==0 "
   ]
  },
  {
   "cell_type": "markdown",
   "metadata": {},
   "source": [
    "### Check for Prime Numbers"
   ]
  },
  {
   "cell_type": "code",
   "execution_count": 47,
   "metadata": {},
   "outputs": [
    {
     "data": {
      "text/plain": [
       "False"
      ]
     },
     "execution_count": 47,
     "metadata": {},
     "output_type": "execute_result"
    }
   ],
   "source": [
    "def is_prime(n):\n",
    "    for i in range(2, n):\n",
    "        if n%i == 0:\n",
    "            return False\n",
    "    return True\n",
    "is_prime(9)"
   ]
  },
  {
   "cell_type": "markdown",
   "metadata": {},
   "source": [
    "### Valid Perfect Square"
   ]
  },
  {
   "cell_type": "code",
   "execution_count": 49,
   "metadata": {},
   "outputs": [
    {
     "data": {
      "text/plain": [
       "False"
      ]
     },
     "execution_count": 49,
     "metadata": {},
     "output_type": "execute_result"
    }
   ],
   "source": [
    "def is_perfect_square(num):\n",
    "    for i in range(1, num):\n",
    "        if i**2 == num:\n",
    "            return True\n",
    "        elif i**2 > num:\n",
    "            return False\n",
    "is_perfect_square(10)"
   ]
  },
  {
   "cell_type": "markdown",
   "metadata": {},
   "source": [
    "### Decimal to Binary"
   ]
  },
  {
   "cell_type": "code",
   "execution_count": 91,
   "metadata": {},
   "outputs": [
    {
     "data": {
      "text/plain": [
       "'-1011'"
      ]
     },
     "execution_count": 91,
     "metadata": {},
     "output_type": "execute_result"
    }
   ],
   "source": [
    "def int_to_binary(num):\n",
    "    num2 = abs(num)\n",
    "    binary = \"\"\n",
    "    while num2 > 1:\n",
    "        binary += str(num2%2) \n",
    "        num2 = num2//2 \n",
    "    binary =  binary + str(num2)\n",
    "    binary = binary[::-1]\n",
    "    if num < 0:\n",
    "        binary = \"-\" + binary\n",
    "    return binary\n",
    "int_to_binary(-11)"
   ]
  },
  {
   "cell_type": "markdown",
   "metadata": {},
   "source": [
    "### Binary to Decimal"
   ]
  },
  {
   "cell_type": "code",
   "execution_count": 94,
   "metadata": {},
   "outputs": [
    {
     "name": "stdout",
     "output_type": "stream",
     "text": [
      "8\n",
      "4\n",
      "2\n",
      "1\n"
     ]
    },
    {
     "data": {
      "text/plain": [
       "15"
      ]
     },
     "execution_count": 94,
     "metadata": {},
     "output_type": "execute_result"
    }
   ],
   "source": [
    "def binary_to_decimal(binary_str):\n",
    "    integer = 0\n",
    "    for i in range(len(binary_str)):\n",
    "        if binary_str[i] == \"1\":\n",
    "            res = (2**(len(binary_str[i+1:])))\n",
    "            integer += res\n",
    "            print(res)\n",
    "    return integer\n",
    "\n",
    "binary_to_decimal(\"1111\")"
   ]
  },
  {
   "cell_type": "markdown",
   "metadata": {},
   "source": []
  }
 ],
 "metadata": {
  "kernelspec": {
   "display_name": "base",
   "language": "python",
   "name": "python3"
  },
  "language_info": {
   "codemirror_mode": {
    "name": "ipython",
    "version": 3
   },
   "file_extension": ".py",
   "mimetype": "text/x-python",
   "name": "python",
   "nbconvert_exporter": "python",
   "pygments_lexer": "ipython3",
   "version": "3.12.3"
  }
 },
 "nbformat": 4,
 "nbformat_minor": 2
}
