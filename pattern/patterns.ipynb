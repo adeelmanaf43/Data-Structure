{
 "cells": [
  {
   "cell_type": "code",
   "execution_count": 1,
   "metadata": {},
   "outputs": [
    {
     "name": "stdout",
     "output_type": "stream",
     "text": [
      "Pattern using Python\n"
     ]
    }
   ],
   "source": [
    "print(\"Pattern using Python\")"
   ]
  },
  {
   "cell_type": "code",
   "execution_count": 1,
   "metadata": {},
   "outputs": [
    {
     "name": "stdout",
     "output_type": "stream",
     "text": [
      "*****\n",
      "*****\n",
      "*****\n",
      "*****\n",
      "*****\n"
     ]
    }
   ],
   "source": [
    "def generate_square(n):\n",
    "    l = []\n",
    "    for i in range(n):\n",
    "        l.append(n*\"*\")\n",
    "    return l\n",
    "\n",
    "l = generate_square(5)\n",
    "for i in l:\n",
    "    print(i)"
   ]
  },
  {
   "cell_type": "code",
   "execution_count": 2,
   "metadata": {},
   "outputs": [
    {
     "name": "stdout",
     "output_type": "stream",
     "text": [
      "*****\n",
      "*   *\n",
      "*   *\n",
      "*   *\n",
      "*****\n"
     ]
    }
   ],
   "source": [
    "def generate_hollow_square(n):\n",
    "    if n == 1:\n",
    "        return \"*\"\n",
    "    l = []\n",
    "    for i in range(n):\n",
    "        if (i == 0) or (i == n-1):\n",
    "            l.append(n*\"*\")\n",
    "        else:\n",
    "            l.append(\"*\"+(n-2)*\" \"+\"*\")\n",
    "    return l\n",
    "l = generate_hollow_square(5)\n",
    "for i in l:\n",
    "    print(i)"
   ]
  },
  {
   "cell_type": "code",
   "execution_count": 4,
   "metadata": {},
   "outputs": [
    {
     "name": "stdout",
     "output_type": "stream",
     "text": [
      "********************\n",
      "********************\n",
      "********************\n",
      "********************\n"
     ]
    }
   ],
   "source": [
    "def generate_rectangle(n, m):\n",
    "    for i in range(n):\n",
    "        print(m*\"*\")\n",
    "generate_rectangle(4, 20)"
   ]
  },
  {
   "cell_type": "code",
   "execution_count": 5,
   "metadata": {},
   "outputs": [
    {
     "name": "stdout",
     "output_type": "stream",
     "text": [
      "*\n",
      "**\n",
      "***\n",
      "****\n",
      "*****\n"
     ]
    }
   ],
   "source": [
    "def generate_triangle(n):\n",
    "    for i in range(1, n+1):\n",
    "        print(i*\"*\")\n",
    "generate_triangle(5)"
   ]
  },
  {
   "cell_type": "code",
   "execution_count": 6,
   "metadata": {},
   "outputs": [
    {
     "name": "stdout",
     "output_type": "stream",
     "text": [
      "***********\n",
      "**********\n",
      "*********\n",
      "********\n",
      "*******\n",
      "******\n",
      "*****\n",
      "****\n",
      "***\n",
      "**\n",
      "*\n"
     ]
    }
   ],
   "source": [
    "def generate_inverted_triangle(n):\n",
    "    for i in range(n+1, 0, -1):\n",
    "        print(i*\"*\")\n",
    "generate_inverted_triangle(10)"
   ]
  },
  {
   "cell_type": "code",
   "execution_count": 8,
   "metadata": {},
   "outputs": [
    {
     "name": "stdout",
     "output_type": "stream",
     "text": [
      "         *         \n",
      "        ***        \n",
      "       *****       \n",
      "      *******      \n",
      "     *********     \n",
      "    ***********    \n",
      "   *************   \n",
      "  ***************  \n",
      " ***************** \n",
      "*******************\n"
     ]
    }
   ],
   "source": [
    "def generate_pyramid(n):\n",
    "    for i, j in zip(range(1,2*n, 2), range(n-1, -1, -1)):\n",
    "        print(j*\" \" + i*\"*\" + j*\" \")\n",
    "generate_pyramid(10)"
   ]
  },
  {
   "cell_type": "code",
   "execution_count": 9,
   "metadata": {},
   "outputs": [
    {
     "name": "stdout",
     "output_type": "stream",
     "text": [
      "*******************\n",
      " ***************** \n",
      "  ***************  \n",
      "   *************   \n",
      "    ***********    \n",
      "     *********     \n",
      "      *******      \n",
      "       *****       \n",
      "        ***        \n",
      "         *         \n"
     ]
    }
   ],
   "source": [
    "def generate_inverted_pyramid(n):\n",
    "    for i, j in zip(range(2*n - 1, 0, -2), range(0, n)):\n",
    "        print(j*\" \"+i*\"*\" + j*\" \")\n",
    "generate_inverted_pyramid(10)"
   ]
  },
  {
   "cell_type": "code",
   "execution_count": 10,
   "metadata": {},
   "outputs": [
    {
     "name": "stdout",
     "output_type": "stream",
     "text": [
      "1\n",
      "22\n",
      "333\n",
      "4444\n",
      "55555\n"
     ]
    }
   ],
   "source": [
    "def generate_number_triangle(n):\n",
    "    for i in range(1, n+1):\n",
    "        print(str(i)*i)\n",
    "generate_number_triangle(5)"
   ]
  },
  {
   "cell_type": "code",
   "execution_count": 11,
   "metadata": {},
   "outputs": [
    {
     "name": "stdout",
     "output_type": "stream",
     "text": [
      "1 \n",
      "2 3 \n",
      "4 5 6 \n",
      "7 8 9 10 \n",
      "11 12 13 14 15 \n"
     ]
    }
   ],
   "source": [
    "def generate_floyds_triangle(n):\n",
    "    k = 1\n",
    "    for i in range(1, n+1):\n",
    "        j = 0\n",
    "        new_str = \"\"\n",
    "        while j < i:\n",
    "            new_str += str(k)\n",
    "            new_str += \" \"\n",
    "            j+=1\n",
    "            k+=1\n",
    "        print(new_str)\n",
    "generate_floyds_triangle(5)"
   ]
  },
  {
   "cell_type": "markdown",
   "metadata": {},
   "source": [
    "### Diamond Pattern"
   ]
  },
  {
   "cell_type": "code",
   "execution_count": 12,
   "metadata": {},
   "outputs": [
    {
     "name": "stdout",
     "output_type": "stream",
     "text": [
      "      *      \n",
      "     ***     \n",
      "    *****    \n",
      "   *******   \n",
      "  *********  \n",
      " *********** \n",
      "*************\n",
      "*************\n",
      " *********** \n",
      "  *********  \n",
      "   *******   \n",
      "    *****    \n",
      "     ***     \n",
      "      *      \n"
     ]
    }
   ],
   "source": [
    "def generate_diamond(n):\n",
    "    for i, j in zip(range(1, 2*n, 2), range(n-1, -1, -1)):\n",
    "        print(j*\" \" + i*\"*\" + j*\" \")\n",
    "    for i, j in zip(range(2*n-1, 0, -2), range(0, n)):\n",
    "        print(j*\" \" + i*\"*\" + j*\" \")\n",
    "generate_diamond(7)"
   ]
  },
  {
   "cell_type": "markdown",
   "metadata": {},
   "source": [
    "### Generate Right Angle Triangle"
   ]
  },
  {
   "cell_type": "code",
   "execution_count": 13,
   "metadata": {},
   "outputs": [
    {
     "name": "stdout",
     "output_type": "stream",
     "text": [
      "   *\n",
      "  **\n",
      " ***\n",
      "****\n"
     ]
    }
   ],
   "source": [
    "def generate_right_angled_triangle(n):\n",
    "    for i in range(1, n+1):\n",
    "        print((n-i)*\" \"+i*\"*\")\n",
    "generate_right_angled_triangle(4)"
   ]
  },
  {
   "cell_type": "markdown",
   "metadata": {},
   "source": [
    "### Sand Glass Pattern"
   ]
  },
  {
   "cell_type": "code",
   "execution_count": 14,
   "metadata": {},
   "outputs": [
    {
     "name": "stdout",
     "output_type": "stream",
     "text": [
      "*********\n",
      " ******* \n",
      "  *****  \n",
      "   ***   \n",
      "    *    \n",
      "   ***   \n",
      "  *****  \n",
      " ******* \n",
      "*********\n"
     ]
    }
   ],
   "source": [
    "def generate_sandglass(n):\n",
    "    for i,j in zip(range(2*n-1, 0, -2), range(0, n)):\n",
    "        print(j*\" \"+i*\"*\" + j*\" \")\n",
    "    for i,j in zip(range(3, 2*n, 2), range(n-2, -1, -1)):\n",
    "        print(j*\" \" + i*\"*\" + j*\" \")\n",
    "generate_sandglass(5)"
   ]
  },
  {
   "cell_type": "markdown",
   "metadata": {},
   "source": [
    "### Hollow Right Triangle"
   ]
  },
  {
   "cell_type": "code",
   "execution_count": 16,
   "metadata": {},
   "outputs": [
    {
     "name": "stdout",
     "output_type": "stream",
     "text": [
      "*\n",
      "**\n",
      "* *\n",
      "*  *\n",
      "*   *\n",
      "*    *\n",
      "*     *\n",
      "*      *\n",
      "*       *\n",
      "**********\n"
     ]
    }
   ],
   "source": [
    "def generate_hollow_right_angled_triangle(n):\n",
    "    if n == 1:\n",
    "        print(\"*\")\n",
    "        return\n",
    "    for i in range(1, n+1):\n",
    "        if i <= 2 or i == n:\n",
    "            print(i*\"*\")\n",
    "        else:\n",
    "            print(\"*\"+(i-2)*\" \"+ \"*\")\n",
    "generate_hollow_right_angled_triangle(10)"
   ]
  },
  {
   "cell_type": "markdown",
   "metadata": {},
   "source": [
    "### Inverted Hollow Right Angle Triangle"
   ]
  },
  {
   "cell_type": "code",
   "execution_count": 17,
   "metadata": {},
   "outputs": [
    {
     "name": "stdout",
     "output_type": "stream",
     "text": [
      "*****\n",
      "*  *\n",
      "* *\n",
      "**\n",
      "*\n"
     ]
    }
   ],
   "source": [
    "def generate_hollow_inverted_right_angled_triangle(n):\n",
    "    for i in range(n, 0, -1):\n",
    "        if i == n or i <= 2:\n",
    "            print(i*\"*\")\n",
    "        else:\n",
    "            print(\"*\" +(i-2)*\" \"+ \"*\")\n",
    "generate_hollow_inverted_right_angled_triangle(5)"
   ]
  },
  {
   "cell_type": "markdown",
   "metadata": {},
   "source": [
    "### Number Pyramid Pattern"
   ]
  },
  {
   "cell_type": "code",
   "execution_count": 18,
   "metadata": {},
   "outputs": [
    {
     "name": "stdout",
     "output_type": "stream",
     "text": [
      "         1          \n",
      "        1 2         \n",
      "       1 2 3        \n",
      "      1 2 3 4       \n",
      "     1 2 3 4 5      \n",
      "    1 2 3 4 5 6     \n",
      "   1 2 3 4 5 6 7    \n",
      "  1 2 3 4 5 6 7 8   \n",
      " 1 2 3 4 5 6 7 8 9  \n",
      "1 2 3 4 5 6 7 8 9 10 \n"
     ]
    }
   ],
   "source": [
    "def generate_number_pyramid(n):\n",
    "    for i,j in zip(range(1, n+1), range(n-1, -1, -1)):\n",
    "        l = 0\n",
    "        k = 1\n",
    "        new_str = j*\" \"\n",
    "        while l < i:\n",
    "            new_str += str(k)\n",
    "            new_str+= \" \"\n",
    "            k+=1\n",
    "            l+=1\n",
    "        new_str += j*\" \"\n",
    "        print(new_str)\n",
    "generate_number_pyramid(10)"
   ]
  }
 ],
 "metadata": {
  "kernelspec": {
   "display_name": "base",
   "language": "python",
   "name": "python3"
  },
  "language_info": {
   "codemirror_mode": {
    "name": "ipython",
    "version": 3
   },
   "file_extension": ".py",
   "mimetype": "text/x-python",
   "name": "python",
   "nbconvert_exporter": "python",
   "pygments_lexer": "ipython3",
   "version": "3.12.3"
  }
 },
 "nbformat": 4,
 "nbformat_minor": 2
}
